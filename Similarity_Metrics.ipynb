{
 "cells": [
  {
   "cell_type": "code",
   "execution_count": 1,
   "metadata": {
    "collapsed": false
   },
   "outputs": [],
   "source": [
    "import os\n",
    "from sklearn.feature_extraction.text import CountVectorizer\n",
    "import pandas as pd\n",
    "import numpy as np\n",
    "from numpy import random\n",
    "from Levenshtein import distance, hamming\n",
    "import sys\n",
    "import pickle\n",
    "from sklearn.cross_validation import train_test_split, KFold\n",
    "from nltk.util import ngrams"
   ]
  },
  {
   "cell_type": "markdown",
   "metadata": {},
   "source": [
    "###Read in documents"
   ]
  },
  {
   "cell_type": "code",
   "execution_count": 2,
   "metadata": {
    "collapsed": false
   },
   "outputs": [
    {
     "name": "stdout",
     "output_type": "stream",
     "text": [
      "35\n",
      "<type 'list'>\n"
     ]
    }
   ],
   "source": [
    "#Read in Mayo documents\n",
    "Mayo_list = []\n",
    "for article in os.listdir('/users/markregalla/desktop/metis/Project4/MayoArticles'):\n",
    "    with open(\"/users/markregalla/desktop/metis/Project4/MayoArticles/\" \n",
    "              + article, 'r') as myfile:\n",
    "        stuff = myfile.read()\n",
    "    myfile.close\n",
    "    if stuff != '':\n",
    "        Mayo_list.append(stuff)\n",
    "print len(Mayo_list)\n",
    "print type(Mayo_list)"
   ]
  },
  {
   "cell_type": "code",
   "execution_count": 3,
   "metadata": {
    "collapsed": false
   },
   "outputs": [
    {
     "name": "stdout",
     "output_type": "stream",
     "text": [
      "35\n",
      "<type 'list'>\n"
     ]
    }
   ],
   "source": [
    "#Read in Homeopathic documents\n",
    "Homeo_list = []\n",
    "k = 0\n",
    "for article in os.listdir('/users/markregalla/desktop/metis/Project4/HomeoArticles'):\n",
    "    with open('/users/markregalla/desktop/metis/Project4/HomeoArticles/' \n",
    "              + article, 'r') as myfile:\n",
    "        stuff = myfile.read()\n",
    "    myfile.close\n",
    "    if stuff != '':\n",
    "        Homeo_list.append(str(stuff.decode(\"ascii\", \"ignore\")))\n",
    "    k += 1\n",
    "    if k == 35:  #match the number of Mayo Clinic articles\n",
    "        break\n",
    "print len(Homeo_list)\n",
    "print type(Homeo_list)"
   ]
  },
  {
   "cell_type": "markdown",
   "metadata": {
    "collapsed": true
   },
   "source": [
    "###Build corpora"
   ]
  },
  {
   "cell_type": "code",
   "execution_count": 4,
   "metadata": {
    "collapsed": false
   },
   "outputs": [],
   "source": [
    "#Build a training corpus for each source\n",
    "Mayo_train_corpus = ''\n",
    "Homeo_train_corpus = ''\n",
    "\n",
    "i = 0\n",
    "while i < len(Mayo_list):\n",
    "    Mayo_train_corpus = Mayo_train_corpus + Mayo_list[i]\n",
    "    i += 1\n",
    "\n",
    "i = 0\n",
    "while i < len(Homeo_list):\n",
    "    Homeo_train_corpus = Homeo_train_corpus + Homeo_list[i]\n",
    "    i += 1"
   ]
  },
  {
   "cell_type": "code",
   "execution_count": 22,
   "metadata": {
    "collapsed": true
   },
   "outputs": [],
   "source": [
    "#Build a training corpus of both sources together\n",
    "total_corpus = ''\n",
    "i = 0\n",
    "while i < len(Mayo_list):\n",
    "    total_corpus = total_corpus + Mayo_list[i]\n",
    "    i += 1\n",
    "i = 0\n",
    "while i < len(Homeo_list):\n",
    "    total_corpus = total_corpus + Homeo_list[i]\n",
    "    i += 1"
   ]
  },
  {
   "cell_type": "code",
   "execution_count": 13,
   "metadata": {
    "collapsed": false,
    "scrolled": true
   },
   "outputs": [
    {
     "name": "stdout",
     "output_type": "stream",
     "text": [
      "Mayo test to Mayo training corpus distance:\n",
      "Test Distance 0: 35918\n",
      "Test Distance 1: 36998\n",
      "Test Distance 2: 36477\n",
      "Test Distance 3: 35954\n",
      "Test Distance 4: 36033\n",
      "Test Distance 5: 36433\n",
      "Test Distance 6: 36165\n",
      "Test Distance 7: 36868\n",
      "Test Distance 8: 36775\n",
      "Test Distance 9: 36175\n",
      "Test Distance 10: 36900\n",
      "Test Distance 11: 36375\n",
      "Test Distance 12: 36362\n",
      "Test Distance 13: 36787\n",
      "Test Distance 14: 36631\n",
      "Test Distance 15: 36645\n",
      "Test Distance 16: 36953\n",
      "Test Distance 17: 36714\n",
      "Test Distance 18: 36824\n",
      "Test Distance 19: 36522\n",
      "Test Distance 20: 36817\n",
      "Test Distance 21: 36770\n",
      "Test Distance 22: 36557\n",
      "Test Distance 23: 36117\n",
      "Test Distance 24: 36581\n",
      "Test Distance 25: 36147\n",
      "Test Distance 26: 36330\n",
      "Test Distance 27: 36159\n",
      "Test Distance 28: 35710\n",
      "Test Distance 29: 36540\n",
      "Test Distance 30: 36672\n",
      "Test Distance 31: 36906\n",
      "Test Distance 32: 36979\n",
      "Test Distance 33: 36489\n",
      "Test Distance 34: 36743\n",
      "\n",
      "Homeo test to Homeo training corpus distance:\n",
      "Test Distance 0: 717227\n",
      "Test Distance 1: 743984\n",
      "Test Distance 2: 749659\n",
      "Test Distance 3: 748691\n",
      "Test Distance 4: 715791\n",
      "Test Distance 5: 704019\n",
      "Test Distance 6: 711261\n",
      "Test Distance 7: 702475\n",
      "Test Distance 8: 728466\n",
      "Test Distance 9: 737927\n",
      "Test Distance 10: 741390\n",
      "Test Distance 11: 745361\n",
      "Test Distance 12: 754050\n",
      "Test Distance 13: 745263\n",
      "Test Distance 14: 733242\n",
      "Test Distance 15: 741312\n",
      "Test Distance 16: 731523\n",
      "Test Distance 17: 710556\n",
      "Test Distance 18: 743057\n",
      "Test Distance 19: 748280\n",
      "Test Distance 20: 722352\n",
      "Test Distance 21: 695484\n",
      "Test Distance 22: 745688\n",
      "Test Distance 23: 750046\n",
      "Test Distance 24: 742878\n",
      "Test Distance 25: 729752\n",
      "Test Distance 26: 752936\n",
      "Test Distance 27: 745175\n",
      "Test Distance 28: 744161\n",
      "Test Distance 29: 738161\n",
      "Test Distance 30: 739214\n",
      "Test Distance 31: 749779\n",
      "Test Distance 32: 698054\n",
      "Test Distance 33: 746409\n",
      "Test Distance 34: 737117\n",
      "\n",
      "Homeo test to Mayo training corpus distance:\n",
      "Test Distance 0: 30081\n",
      "Test Distance 1: 29801\n",
      "Test Distance 2: 32631\n",
      "Test Distance 3: 32105\n",
      "Test Distance 4: 30569\n",
      "Test Distance 5: 37787\n",
      "Test Distance 6: 32946\n",
      "Test Distance 7: 38707\n",
      "Test Distance 8: 27221\n",
      "Test Distance 9: 28068\n",
      "Test Distance 10: 28932\n",
      "Test Distance 11: 30345\n",
      "Test Distance 12: 36074\n",
      "Test Distance 13: 30343\n",
      "Test Distance 14: 27392\n",
      "Test Distance 15: 28904\n",
      "Test Distance 16: 27322\n",
      "Test Distance 17: 33417\n",
      "Test Distance 18: 29579\n",
      "Test Distance 19: 31805\n",
      "Test Distance 20: 28254\n",
      "Test Distance 21: 43834\n",
      "Test Distance 22: 30669\n",
      "Test Distance 23: 32864\n",
      "Test Distance 24: 29456\n",
      "Test Distance 25: 27273\n",
      "Test Distance 26: 35149\n",
      "Test Distance 27: 30313\n",
      "Test Distance 28: 29917\n",
      "Test Distance 29: 28095\n",
      "Test Distance 30: 28385\n",
      "Test Distance 31: 32857\n",
      "Test Distance 32: 42105\n",
      "Test Distance 33: 30994\n",
      "Test Distance 34: 27956\n",
      "\n",
      "Mayo test to Homeo training corpus distance:\n",
      "Test Distance 0: 753939\n",
      "Test Distance 1: 755019\n",
      "Test Distance 2: 754499\n",
      "Test Distance 3: 753975\n",
      "Test Distance 4: 754054\n",
      "Test Distance 5: 754454\n",
      "Test Distance 6: 754186\n",
      "Test Distance 7: 754889\n",
      "Test Distance 8: 754796\n",
      "Test Distance 9: 754196\n",
      "Test Distance 10: 754921\n",
      "Test Distance 11: 754396\n",
      "Test Distance 12: 754383\n",
      "Test Distance 13: 754808\n",
      "Test Distance 14: 754652\n",
      "Test Distance 15: 754666\n",
      "Test Distance 16: 754974\n",
      "Test Distance 17: 754735\n",
      "Test Distance 18: 754845\n",
      "Test Distance 19: 754543\n",
      "Test Distance 20: 754838\n",
      "Test Distance 21: 754791\n",
      "Test Distance 22: 754578\n",
      "Test Distance 23: 754138\n",
      "Test Distance 24: 754602\n",
      "Test Distance 25: 754168\n",
      "Test Distance 26: 754352\n",
      "Test Distance 27: 754180\n",
      "Test Distance 28: 753731\n",
      "Test Distance 29: 754561\n",
      "Test Distance 30: 754693\n",
      "Test Distance 31: 754927\n",
      "Test Distance 32: 755000\n",
      "Test Distance 33: 754518\n",
      "Test Distance 34: 754764\n",
      "CPU times: user 30min 10s, sys: 4.41 s, total: 30min 14s\n",
      "Wall time: 30min 16s\n"
     ]
    }
   ],
   "source": [
    "%%time\n",
    "\n",
    "#distances of documents from each source\n",
    "\n",
    "#Provide report on comparison of training documents\n",
    "MayoT_MayoC = []\n",
    "print 'Mayo test to Mayo training corpus distance:'\n",
    "for i in range(35):\n",
    "    dist = distance(Mayo_train_corpus, Mayo_list[i])\n",
    "    MayoT_MayoC.append(dist)\n",
    "    print 'Test Distance ' + str(i) + ': ' + str(dist)\n",
    "\n",
    "print ''\n",
    "\n",
    "HomeoT_HomeoC = []\n",
    "print 'Homeo test to Homeo training corpus distance:'\n",
    "for i in range(35):\n",
    "    dist = distance(Homeo_train_corpus, Homeo_list[i])\n",
    "    HomeoT_HomeoC.append(dist)\n",
    "    print 'Test Distance ' + str(i) + ': ' + str(dist)\n",
    "\n",
    "print ''\n",
    "\n",
    "HomeoT_MayoC = []\n",
    "print 'Homeo test to Mayo training corpus distance:'\n",
    "for i in range(35):\n",
    "    dist = distance(Mayo_train_corpus, Homeo_list[i])\n",
    "    HomeoT_MayoC.append(dist)\n",
    "    print 'Test Distance ' + str(i) + ': ' + str(dist)\n",
    "\n",
    "print ''\n",
    "\n",
    "MayoT_HomeoC = []\n",
    "print 'Mayo test to Homeo training corpus distance:'\n",
    "for i in range(35):\n",
    "    dist = distance(Homeo_train_corpus, Mayo_list[i])\n",
    "    MayoT_HomeoC.append(dist)\n",
    "    print 'Test Distance ' + str(i) + ': ' + str(dist)\n"
   ]
  },
  {
   "cell_type": "code",
   "execution_count": 23,
   "metadata": {
    "collapsed": false,
    "scrolled": true
   },
   "outputs": [
    {
     "name": "stdout",
     "output_type": "stream",
     "text": [
      "Mayo test to total corpus distance:\n",
      "Test Distance 0: 791528\n",
      "Test Distance 1: 792608\n",
      "Test Distance 2: 792087\n",
      "Test Distance 3: 791564\n",
      "Test Distance 4: 791643\n",
      "Test Distance 5: 792043\n",
      "Test Distance 6: 791775\n",
      "Test Distance 7: 792478\n",
      "Test Distance 8: 792385\n",
      "Test Distance 9: 791785\n",
      "Test Distance 10: 792510\n",
      "Test Distance 11: 791985\n",
      "Test Distance 12: 791972\n",
      "Test Distance 13: 792397\n",
      "Test Distance 14: 792241\n",
      "Test Distance 15: 792255\n",
      "Test Distance 16: 792563\n",
      "Test Distance 17: 792324\n",
      "Test Distance 18: 792434\n",
      "Test Distance 19: 792132\n",
      "Test Distance 20: 792427\n",
      "Test Distance 21: 792380\n",
      "Test Distance 22: 792167\n",
      "Test Distance 23: 791727\n",
      "Test Distance 24: 792191\n",
      "Test Distance 25: 791757\n",
      "Test Distance 26: 791940\n",
      "Test Distance 27: 791769\n",
      "Test Distance 28: 791320\n",
      "Test Distance 29: 792150\n",
      "Test Distance 30: 792282\n",
      "Test Distance 31: 792516\n",
      "Test Distance 32: 792589\n",
      "Test Distance 33: 792099\n",
      "Test Distance 34: 792353\n",
      "\n",
      "Homeo test to total corpus distance:\n",
      "Test Distance 0: 754816\n",
      "Test Distance 1: 781573\n",
      "Test Distance 2: 787248\n",
      "Test Distance 3: 786280\n",
      "Test Distance 4: 753380\n",
      "Test Distance 5: 741608\n",
      "Test Distance 6: 748850\n",
      "Test Distance 7: 740064\n",
      "Test Distance 8: 766055\n",
      "Test Distance 9: 775516\n",
      "Test Distance 10: 778979\n",
      "Test Distance 11: 782950\n",
      "Test Distance 12: 791639\n",
      "Test Distance 13: 782852\n",
      "Test Distance 14: 770831\n",
      "Test Distance 15: 778901\n",
      "Test Distance 16: 769112\n",
      "Test Distance 17: 748145\n",
      "Test Distance 18: 780646\n",
      "Test Distance 19: 785869\n",
      "Test Distance 20: 759941\n",
      "Test Distance 21: 733073\n",
      "Test Distance 22: 783277\n",
      "Test Distance 23: 787635\n",
      "Test Distance 24: 780467\n",
      "Test Distance 25: 767341\n",
      "Test Distance 26: 790525\n",
      "Test Distance 27: 782764\n",
      "Test Distance 28: 781750\n",
      "Test Distance 29: 775750\n",
      "Test Distance 30: 776803\n",
      "Test Distance 31: 787368\n",
      "Test Distance 32: 735643\n",
      "Test Distance 33: 783998\n",
      "Test Distance 34: 774706\n",
      "\n",
      "CPU times: user 32min 51s, sys: 9.04 s, total: 33min\n",
      "Wall time: 33min 9s\n"
     ]
    }
   ],
   "source": [
    "%%time\n",
    "\n",
    "#distances of documents from total corpus\n",
    "Mayo_total = []\n",
    "print 'Mayo test to total corpus distance:'\n",
    "for i in range(35):\n",
    "    dist = distance(total_corpus, Mayo_list[i])\n",
    "    Mayo_total.append(dist)\n",
    "    print 'Test Distance ' + str(i) + ': ' + str(dist)\n",
    "\n",
    "print ''\n",
    "\n",
    "Homeo_Total = []\n",
    "print 'Homeo test to total corpus distance:'\n",
    "for i in range(35):\n",
    "    dist = distance(total_corpus, Homeo_list[i])\n",
    "    Homeo_Total.append(dist)\n",
    "    print 'Test Distance ' + str(i) + ': ' + str(dist)\n",
    "\n",
    "print ''"
   ]
  },
  {
   "cell_type": "code",
   "execution_count": 16,
   "metadata": {
    "collapsed": false
   },
   "outputs": [
    {
     "data": {
      "text/plain": [
       "36515"
      ]
     },
     "execution_count": 16,
     "metadata": {},
     "output_type": "execute_result"
    }
   ],
   "source": [
    "int(np.mean(MayoT_MayoC))"
   ]
  },
  {
   "cell_type": "code",
   "execution_count": 17,
   "metadata": {
    "collapsed": false
   },
   "outputs": [
    {
     "data": {
      "text/plain": [
       "734021"
      ]
     },
     "execution_count": 17,
     "metadata": {},
     "output_type": "execute_result"
    }
   ],
   "source": [
    "int(np.mean(HomeoT_HomeoC))"
   ]
  },
  {
   "cell_type": "code",
   "execution_count": 18,
   "metadata": {
    "collapsed": false
   },
   "outputs": [
    {
     "data": {
      "text/plain": [
       "31490"
      ]
     },
     "execution_count": 18,
     "metadata": {},
     "output_type": "execute_result"
    }
   ],
   "source": [
    "int(np.mean(HomeoT_MayoC))"
   ]
  },
  {
   "cell_type": "code",
   "execution_count": 19,
   "metadata": {
    "collapsed": false
   },
   "outputs": [
    {
     "data": {
      "text/plain": [
       "754536"
      ]
     },
     "execution_count": 19,
     "metadata": {},
     "output_type": "execute_result"
    }
   ],
   "source": [
    "int(np.mean(MayoT_HomeoC))"
   ]
  },
  {
   "cell_type": "code",
   "execution_count": 33,
   "metadata": {
    "collapsed": false
   },
   "outputs": [],
   "source": [
    "#total corpus comparisons\n",
    "Mayo_total_mean = int(np.mean(Mayo_total))"
   ]
  },
  {
   "cell_type": "code",
   "execution_count": 34,
   "metadata": {
    "collapsed": false
   },
   "outputs": [],
   "source": [
    "Homeo_total_mean = int(np.mean(Homeo_Total))"
   ]
  },
  {
   "cell_type": "code",
   "execution_count": null,
   "metadata": {
    "collapsed": true
   },
   "outputs": [],
   "source": [
    "'''\n",
    "strategery: make seperate mayo and homeo training corpora\n",
    "find distance of each document in that corpus to the corpus\n",
    "average these distances\n",
    "test document should be closer to that average distance for proper classification\n",
    "'''"
   ]
  },
  {
   "cell_type": "markdown",
   "metadata": {},
   "source": [
    "###Train/test splitting"
   ]
  },
  {
   "cell_type": "code",
   "execution_count": 26,
   "metadata": {
    "collapsed": false
   },
   "outputs": [
    {
     "name": "stdout",
     "output_type": "stream",
     "text": [
      "26 9 26 9\n"
     ]
    },
    {
     "data": {
      "text/plain": [
       "array(['Mayo', 'Mayo', 'Mayo', 'Mayo', 'Mayo', 'Mayo', 'Mayo', 'Mayo',\n",
       "       'Mayo', 'Homeo', 'Homeo', 'Homeo', 'Homeo', 'Homeo', 'Homeo',\n",
       "       'Homeo', 'Homeo', 'Homeo'], \n",
       "      dtype='|S5')"
      ]
     },
     "execution_count": 26,
     "metadata": {},
     "output_type": "execute_result"
    }
   ],
   "source": [
    "#Test/train split on documents\n",
    "Mayo_array = np.array(Mayo_list)\n",
    "Mayo_labels = np.array(['Mayo' for x in range(len(Mayo_list))])\n",
    "x_train_Mayo, x_test_Mayo, y_train_Mayo, y_test_Mayo = train_test_split(Mayo_array,\n",
    "                                Mayo_labels, test_size=0.25, random_state=42)\n",
    "\n",
    "Homeo_array = np.array(Homeo_list)\n",
    "Homeo_labels = np.array(['Homeo' for x in range(len(Homeo_list))])\n",
    "x_train_Homeo, x_test_Homeo, y_train_Homeo, y_test_Homeo = train_test_split(Homeo_array,\n",
    "                                Homeo_labels, test_size=0.25, random_state=42)\n",
    "\n",
    "print len(x_train_Homeo), len(x_test_Homeo), len(y_train_Homeo), len(y_test_Homeo)\n",
    "x_test = np.concatenate((x_test_Mayo, x_test_Homeo), axis=1)\n",
    "y_test = np.concatenate((y_test_Mayo, y_test_Homeo), axis=1)\n",
    "y_test"
   ]
  },
  {
   "cell_type": "code",
   "execution_count": 98,
   "metadata": {
    "collapsed": false
   },
   "outputs": [
    {
     "name": "stdout",
     "output_type": "stream",
     "text": [
      "30 7\n",
      "7 7\n",
      "5 7\n",
      "10\n"
     ]
    }
   ],
   "source": [
    "#Cross validation split on documents\n",
    "\n",
    "Mayo_array = np.array(Mayo_list)\n",
    "Mayo_labels = np.array(['Mayo' for x in range(len(Mayo_list))])\n",
    "x_train_Mayo = []\n",
    "y_train_Mayo = []\n",
    "x_test_Mayo = []\n",
    "y_test_Mayo = []\n",
    "\n",
    "kf = KFold(35, n_folds=7)\n",
    "for train_index, test_index in kf:\n",
    "    #x_train_Mayo = Mayo_array[train_index]\n",
    "    #x_test_Mayo = Mayo_array[test_index]\n",
    "    #y_train_Mayo = Mayo_labels[train_index]\n",
    "    #y_test_Mayo = Mayo_labels[test_index]\n",
    "    x_train_Mayo.append(Mayo_array[train_index])\n",
    "    y_train_Mayo.append(Mayo_labels[train_index])\n",
    "    x_test_Mayo.append(Mayo_array[test_index])\n",
    "    y_test_Mayo.append(Mayo_labels[test_index])\n",
    "    \n",
    "Homeo_array = np.array(Homeo_list)\n",
    "Homeo_labels = np.array(['Homeo' for x in range(len(Homeo_list))])\n",
    "x_train_Homeo = []\n",
    "y_train_Homeo = []\n",
    "x_test_Homeo = []\n",
    "y_test_Homeo = []\n",
    "\n",
    "kf = KFold(35, n_folds=7)\n",
    "for train_index, test_index in kf:\n",
    "    #x_train_Homeo = Mayo_array[train_index]\n",
    "    #x_test_Homeo = Mayo_array[test_index]\n",
    "    #y_train_Homeo = Mayo_labels[train_index]\n",
    "    #y_test_Homeo = Mayo_labels[test_index]\n",
    "    x_train_Homeo.append(Homeo_array[train_index])\n",
    "    y_train_Homeo.append(Homeo_labels[train_index])\n",
    "    x_test_Homeo.append(Homeo_array[test_index])\n",
    "    y_test_Homeo.append(Homeo_labels[test_index])\n",
    "    \n",
    "print len(x_train_Mayo[0]), len(y_train_Mayo)\n",
    "print len(x_train_Homeo), len(y_train_Homeo)\n",
    "print len(x_test_Mayo[0]), len(y_test_Mayo)\n",
    "#x_test = x_test_Mayo + x_test_Homeo\n",
    "#y_test = y_test_Mayo + y_test_Homeo\n",
    "#x_test = zip(x_test_Mayo, x_test_Homeo)\n",
    "#y_test = zip(y_test_Mayo, y_test_Homeo)\n",
    "x_test = list(np.concatenate((x_test_Mayo, x_test_Homeo), axis=1))\n",
    "y_test = list(np.concatenate((y_test_Mayo, y_test_Homeo), axis=1))\n",
    "#print x_test_Mayo, y_test_Mayo\n",
    "#print len(x_test[0])\n",
    "print len(x_test[0])\n",
    "#the_dist = distance(str(x_train[0][0]), str(x_test[0][1]))\n",
    "#print the_dist\n",
    "\n",
    "#result_list = doc_classifier(Mayo_train_corpus, Homeo_train_corpus, x_train_Mayo,\n",
    "#                             x_train_Homeo, y_train_Mayo, y_train_Homeo,\n",
    "#                             x_test, y_test)"
   ]
  },
  {
   "cell_type": "code",
   "execution_count": 97,
   "metadata": {
    "collapsed": false
   },
   "outputs": [
    {
     "name": "stdout",
     "output_type": "stream",
     "text": [
      "[['Mayo' 'Mayo' 'Mayo' 'Mayo' 'Mayo' 'Homeo' 'Homeo' 'Homeo' 'Homeo'\n",
      "  'Homeo']\n",
      " ['Mayo' 'Mayo' 'Mayo' 'Mayo' 'Mayo' 'Homeo' 'Homeo' 'Homeo' 'Homeo'\n",
      "  'Homeo']\n",
      " ['Mayo' 'Mayo' 'Mayo' 'Mayo' 'Mayo' 'Homeo' 'Homeo' 'Homeo' 'Homeo'\n",
      "  'Homeo']\n",
      " ['Mayo' 'Mayo' 'Mayo' 'Mayo' 'Mayo' 'Homeo' 'Homeo' 'Homeo' 'Homeo'\n",
      "  'Homeo']\n",
      " ['Mayo' 'Mayo' 'Mayo' 'Mayo' 'Mayo' 'Homeo' 'Homeo' 'Homeo' 'Homeo'\n",
      "  'Homeo']\n",
      " ['Mayo' 'Mayo' 'Mayo' 'Mayo' 'Mayo' 'Homeo' 'Homeo' 'Homeo' 'Homeo'\n",
      "  'Homeo']\n",
      " ['Mayo' 'Mayo' 'Mayo' 'Mayo' 'Mayo' 'Homeo' 'Homeo' 'Homeo' 'Homeo'\n",
      "  'Homeo']]\n",
      "<type 'list'>\n"
     ]
    },
    {
     "data": {
      "text/plain": [
       "'\\nfor q in range(len(x_test_Mayo)):\\n    x_test.append(np.concatenate(x_test_Mayo[q], x_test_Homeo[q]))\\n    y_test.append(y_test_Mayo[q])\\n    y_test.append(y_test_Homeo[q])\\nprint type(y_test)\\ny_test[0]\\n'"
      ]
     },
     "execution_count": 97,
     "metadata": {},
     "output_type": "execute_result"
    }
   ],
   "source": [
    "print y_test\n",
    "y_test = list(y_test)\n",
    "print type(y_test)\n",
    "'''\n",
    "for q in range(len(x_test_Mayo)):\n",
    "    x_test.append(np.concatenate(x_test_Mayo[q], x_test_Homeo[q]))\n",
    "    y_test.append(y_test_Mayo[q])\n",
    "    y_test.append(y_test_Homeo[q])\n",
    "print type(y_test)\n",
    "y_test[0]\n",
    "'''"
   ]
  },
  {
   "cell_type": "markdown",
   "metadata": {},
   "source": [
    "###(Make training averages manually)"
   ]
  },
  {
   "cell_type": "code",
   "execution_count": 6,
   "metadata": {
    "collapsed": false
   },
   "outputs": [
    {
     "name": "stdout",
     "output_type": "stream",
     "text": [
      "27[36645, 36979, 36165, 35918, 36175, 36433, 36147, 36714, 36522, 36906, 36540, 35954, 36770, 36477, 36672, 36868, 36787, 36489, 36033, 36900, 36557, 36775, 35710, 36159, 36330, 36743, 36581, 36824]\n",
      "[741312, 698054, 711261, 717227, 737927, 704019, 729752, 710556, 748280, 749779, 738161, 748691, 695484, 749659, 739214, 702475, 745263, 746409, 715791, 741390, 745688, 728466, 744161, 745175, 752936, 737117, 742878, 743057]\n"
     ]
    }
   ],
   "source": [
    "#Generate lists of average of each document's distance to the corpus\n",
    "#Takes a while, unpickle if you need the results again\n",
    "Mayo_dist_list = []\n",
    "for i in range(len(x_train_Mayo)):\n",
    "    dist = distance(x_train_Mayo[i], Mayo_train_corpus)\n",
    "    Mayo_dist_list.append(dist)\n",
    "    sys.stdout.write(\"\\r\" + str(i)) \n",
    "\n",
    "Homeo_dist_list = []\n",
    "for i in range(len(x_train_Homeo)):\n",
    "    dist = distance(x_train_Homeo[i], Homeo_train_corpus)\n",
    "    Homeo_dist_list.append(dist)\n",
    "    sys.stdout.write(\"\\r\" + str(i))\n",
    "\n",
    "print Mayo_dist_list\n",
    "print Homeo_dist_list"
   ]
  },
  {
   "cell_type": "code",
   "execution_count": 143,
   "metadata": {
    "collapsed": false
   },
   "outputs": [
    {
     "name": "stdout",
     "output_type": "stream",
     "text": [
      "36489\n",
      "65110\n"
     ]
    }
   ],
   "source": [
    "#Mayo_mean = np.mean(Mayo_dist_list, dtype=int)\n",
    "#Homeo_mean = np.mean(Homeo_dist_list, dtype=int)\n",
    "print Mayo_mean\n",
    "print Homeo_mean"
   ]
  },
  {
   "cell_type": "markdown",
   "metadata": {},
   "source": [
    "###Classification function"
   ]
  },
  {
   "cell_type": "code",
   "execution_count": 99,
   "metadata": {
    "collapsed": false
   },
   "outputs": [],
   "source": [
    "#Classify remaining documents to see if it is close to appropriate average\n",
    "def doc_classifier(corpus1, x_train_1, x_train_2, y_train_1, y_train_2,\n",
    "                   x_test, y_test, dist1_mean=0, dist2_mean=0):\n",
    "    assert type(corpus1), type(corpus2) == 'str'\n",
    "    assert type(x_train_1), type(x_train_2) == 'list'\n",
    "    assert type(y_train_1), type(y_train_2) == 'list'\n",
    "    assert type(x_test), type(y_test) == 'list'\n",
    "    assert len(x_train_1) == len(x_train_2)\n",
    "    \n",
    "    #Find average of distances of x_train_1 to corpus1\n",
    "    if dist1_mean == 0 and dist2_mean == 0:\n",
    "        for i in range(len(x_train_1)):\n",
    "            dist_1 = distance(corpus1, x_train_1[i])\n",
    "            dist1_mean = dist1_mean + dist_1\n",
    "            #sys.stdout.write(\"\\r\" + '' + str(i))\n",
    "            #dist_2 = distance(corpus2, x_train_2[i])\n",
    "            #dist2_mean = dist1_mean + dist_2\n",
    "            sys.stdout.write(\"\\r\" + 'Average ' + str(i + 1) + ' of ' +\n",
    "                             str(len(x_train_1)) + ' completed.')\n",
    "        dist1_mean = dist1_mean / len(x_train_1)\n",
    "        dist2_mean = dist2_mean / len(x_train_2)\n",
    "    \n",
    "    result_list = [['Known', 'Predicted']]\n",
    "    for i in range(len(x_test)):\n",
    "        #print y_test[i]\n",
    "        test_dist_1 = distance(corpus1, x_test[i])\n",
    "        #test_dist_2 = distance(corpus2, x_test[i])\n",
    "        if abs(test_dist_1 - dist1_mean) < abs(test_dist_1 - dist2_mean):\n",
    "            result_list.append([y_test[i], 'From Corpus 1'])\n",
    "        else:\n",
    "            result_list.append([y_test[i], 'From Corpus 2'])\n",
    "        sys.stdout.write(\"\\r\" + 'Test ' + str(i + 1) + ' of ' + str(len(x_test))\n",
    "                         + ' completed.')\n",
    "    \n",
    "    return result_list  #, dist1_mean, dist2_mean\n",
    "    \n",
    "    '''    \n",
    "        if abs(Mayo_dist - Mayo_mean) < abs(Homeo_dist - Homeo_mean):\n",
    "            print 'Mayo Clinic source'\n",
    "        else:\n",
    "            print 'Homeopathe Intl source'\n",
    "        print 'Test Distance ' + str(i) + ': ' + str(Mayo_dist)\n",
    "\n",
    "    print ''\n",
    "    '''"
   ]
  },
  {
   "cell_type": "markdown",
   "metadata": {},
   "source": [
    "###Results"
   ]
  },
  {
   "cell_type": "code",
   "execution_count": 36,
   "metadata": {
    "collapsed": false
   },
   "outputs": [
    {
     "name": "stdout",
     "output_type": "stream",
     "text": [
      "Mayo\n",
      "Test 1 of 18 completed.Mayo\n",
      "Test 2 of 18 completed.Mayo\n",
      "Test 3 of 18 completed.Mayo\n",
      "Test 4 of 18 completed.Mayo\n",
      "Test 5 of 18 completed.Mayo\n",
      "Test 6 of 18 completed.Mayo\n",
      "Test 7 of 18 completed.Mayo\n",
      "Test 8 of 18 completed.Mayo\n",
      "Test 9 of 18 completed.Homeo\n",
      "Test 10 of 18 completed.Homeo\n",
      "Test 11 of 18 completed.Homeo\n",
      "Test 12 of 18 completed.Homeo\n",
      "Test 13 of 18 completed.Homeo\n",
      "Test 14 of 18 completed.Homeo\n",
      "Test 15 of 18 completed.Homeo\n",
      "Test 16 of 18 completed.Homeo\n",
      "Test 17 of 18 completed.Homeo\n",
      "Test 18 of 18 completed.CPU times: user 7min, sys: 2.69 s, total: 7min 3s\n",
      "Wall time: 7min 8s\n"
     ]
    }
   ],
   "source": [
    "%%time\n",
    "\n",
    "#Single test/train split run\n",
    "sing_result_list = []\n",
    "sing_result_list = doc_classifier(total_corpus, x_train_Mayo,\n",
    "                             x_train_Homeo, y_train_Mayo, y_train_Homeo,\n",
    "                             x_test, y_test, Mayo_total_mean, Homeo_total_mean)\n",
    "#sing_result_list.append(result_list)"
   ]
  },
  {
   "cell_type": "code",
   "execution_count": 37,
   "metadata": {
    "collapsed": false
   },
   "outputs": [
    {
     "data": {
      "text/plain": [
       "[['Known', 'Predicted'],\n",
       " ['Mayo', 'From Corpus 1'],\n",
       " ['Mayo', 'From Corpus 1'],\n",
       " ['Mayo', 'From Corpus 1'],\n",
       " ['Mayo', 'From Corpus 1'],\n",
       " ['Mayo', 'From Corpus 1'],\n",
       " ['Mayo', 'From Corpus 1'],\n",
       " ['Mayo', 'From Corpus 1'],\n",
       " ['Mayo', 'From Corpus 1'],\n",
       " ['Mayo', 'From Corpus 1'],\n",
       " ['Homeo', 'From Corpus 1'],\n",
       " ['Homeo', 'From Corpus 1'],\n",
       " ['Homeo', 'From Corpus 2'],\n",
       " ['Homeo', 'From Corpus 2'],\n",
       " ['Homeo', 'From Corpus 2'],\n",
       " ['Homeo', 'From Corpus 2'],\n",
       " ['Homeo', 'From Corpus 1'],\n",
       " ['Homeo', 'From Corpus 1'],\n",
       " ['Homeo', 'From Corpus 2']]"
      ]
     },
     "execution_count": 37,
     "metadata": {},
     "output_type": "execute_result"
    }
   ],
   "source": [
    "sing_result_list"
   ]
  },
  {
   "cell_type": "code",
   "execution_count": 102,
   "metadata": {
    "collapsed": false
   },
   "outputs": [
    {
     "name": "stdout",
     "output_type": "stream",
     "text": [
      " 6CPU times: user 32min 14s, sys: 4.83 s, total: 32min 19s\n",
      "Wall time: 32min 21s\n"
     ]
    }
   ],
   "source": [
    "%%time\n",
    "\n",
    "#Cross validated run\n",
    "cross_result_list = []\n",
    "for i in range(len(x_train_Mayo)):\n",
    "    cross_result_list.append(doc_classifier(total_corpus, x_train_Mayo[i],\n",
    "                             x_train_Homeo[i], y_train_Mayo[i], y_train_Homeo[i],\n",
    "                             x_test[i], y_test[i], Mayo_total_mean, Homeo_total_mean))\n",
    "    sys.stdout.write(\"\\r\" + ' ' + str(i))\n"
   ]
  },
  {
   "cell_type": "code",
   "execution_count": 103,
   "metadata": {
    "collapsed": false
   },
   "outputs": [
    {
     "data": {
      "text/plain": [
       "[[['Known', 'Predicted'],\n",
       "  ['Mayo', 'From Corpus 1'],\n",
       "  ['Mayo', 'From Corpus 1'],\n",
       "  ['Mayo', 'From Corpus 1'],\n",
       "  ['Mayo', 'From Corpus 1'],\n",
       "  ['Mayo', 'From Corpus 1'],\n",
       "  ['Homeo', 'From Corpus 2'],\n",
       "  ['Homeo', 'From Corpus 2'],\n",
       "  ['Homeo', 'From Corpus 1'],\n",
       "  ['Homeo', 'From Corpus 1'],\n",
       "  ['Homeo', 'From Corpus 2']],\n",
       " [['Known', 'Predicted'],\n",
       "  ['Mayo', 'From Corpus 1'],\n",
       "  ['Mayo', 'From Corpus 1'],\n",
       "  ['Mayo', 'From Corpus 1'],\n",
       "  ['Mayo', 'From Corpus 1'],\n",
       "  ['Mayo', 'From Corpus 1'],\n",
       "  ['Homeo', 'From Corpus 2'],\n",
       "  ['Homeo', 'From Corpus 2'],\n",
       "  ['Homeo', 'From Corpus 2'],\n",
       "  ['Homeo', 'From Corpus 2'],\n",
       "  ['Homeo', 'From Corpus 2']],\n",
       " [['Known', 'Predicted'],\n",
       "  ['Mayo', 'From Corpus 1'],\n",
       "  ['Mayo', 'From Corpus 1'],\n",
       "  ['Mayo', 'From Corpus 1'],\n",
       "  ['Mayo', 'From Corpus 1'],\n",
       "  ['Mayo', 'From Corpus 1'],\n",
       "  ['Homeo', 'From Corpus 2'],\n",
       "  ['Homeo', 'From Corpus 1'],\n",
       "  ['Homeo', 'From Corpus 1'],\n",
       "  ['Homeo', 'From Corpus 1'],\n",
       "  ['Homeo', 'From Corpus 2']],\n",
       " [['Known', 'Predicted'],\n",
       "  ['Mayo', 'From Corpus 1'],\n",
       "  ['Mayo', 'From Corpus 1'],\n",
       "  ['Mayo', 'From Corpus 1'],\n",
       "  ['Mayo', 'From Corpus 1'],\n",
       "  ['Mayo', 'From Corpus 1'],\n",
       "  ['Homeo', 'From Corpus 2'],\n",
       "  ['Homeo', 'From Corpus 2'],\n",
       "  ['Homeo', 'From Corpus 2'],\n",
       "  ['Homeo', 'From Corpus 2'],\n",
       "  ['Homeo', 'From Corpus 1']],\n",
       " [['Known', 'Predicted'],\n",
       "  ['Mayo', 'From Corpus 1'],\n",
       "  ['Mayo', 'From Corpus 1'],\n",
       "  ['Mayo', 'From Corpus 1'],\n",
       "  ['Mayo', 'From Corpus 1'],\n",
       "  ['Mayo', 'From Corpus 1'],\n",
       "  ['Homeo', 'From Corpus 2'],\n",
       "  ['Homeo', 'From Corpus 2'],\n",
       "  ['Homeo', 'From Corpus 1'],\n",
       "  ['Homeo', 'From Corpus 1'],\n",
       "  ['Homeo', 'From Corpus 2']],\n",
       " [['Known', 'Predicted'],\n",
       "  ['Mayo', 'From Corpus 1'],\n",
       "  ['Mayo', 'From Corpus 1'],\n",
       "  ['Mayo', 'From Corpus 1'],\n",
       "  ['Mayo', 'From Corpus 1'],\n",
       "  ['Mayo', 'From Corpus 1'],\n",
       "  ['Homeo', 'From Corpus 2'],\n",
       "  ['Homeo', 'From Corpus 1'],\n",
       "  ['Homeo', 'From Corpus 1'],\n",
       "  ['Homeo', 'From Corpus 2'],\n",
       "  ['Homeo', 'From Corpus 2']],\n",
       " [['Known', 'Predicted'],\n",
       "  ['Mayo', 'From Corpus 1'],\n",
       "  ['Mayo', 'From Corpus 1'],\n",
       "  ['Mayo', 'From Corpus 1'],\n",
       "  ['Mayo', 'From Corpus 1'],\n",
       "  ['Mayo', 'From Corpus 1'],\n",
       "  ['Homeo', 'From Corpus 2'],\n",
       "  ['Homeo', 'From Corpus 1'],\n",
       "  ['Homeo', 'From Corpus 2'],\n",
       "  ['Homeo', 'From Corpus 1'],\n",
       "  ['Homeo', 'From Corpus 2']]]"
      ]
     },
     "execution_count": 103,
     "metadata": {},
     "output_type": "execute_result"
    }
   ],
   "source": [
    "cross_result_list"
   ]
  },
  {
   "cell_type": "code",
   "execution_count": 115,
   "metadata": {
    "collapsed": false
   },
   "outputs": [
    {
     "name": "stdout",
     "output_type": "stream",
     "text": [
      "Total accuracy: 0.828571428571\n",
      "Mayo accuracy: 1.0\n",
      "Homeo accuracy: 0.657142857143\n"
     ]
    }
   ],
   "source": [
    "successes = 0\n",
    "total = 0\n",
    "Mayo_successes = 0\n",
    "Homeo_successes = 0\n",
    "\n",
    "for a in cross_result_list:\n",
    "    for b in a:\n",
    "        if b[0] != 'Known':\n",
    "            total += 1\n",
    "        if b[0] == 'Mayo' and b[1] == 'From Corpus 1':\n",
    "            successes += 1\n",
    "            Mayo_successes += 1\n",
    "        if b[0] == 'Homeo' and b[1] == 'From Corpus 2':\n",
    "            successes += 1\n",
    "            Homeo_successes += 1\n",
    "print 'Total accuracy: ' + str(float(successes) / total)\n",
    "print 'Mayo accuracy: ' + str(float(Mayo_successes) / (total * 0.5))\n",
    "print 'Homeo accuracy: ' + str(float(Homeo_successes) / (total * 0.5))"
   ]
  },
  {
   "cell_type": "code",
   "execution_count": 112,
   "metadata": {
    "collapsed": false
   },
   "outputs": [
    {
     "name": "stdout",
     "output_type": "stream",
     "text": [
      "(array(['Mayo', 'Mayo', 'Mayo', 'Mayo', 'Mayo'], \n",
      "      dtype='|S4'), array(['Mayo', 'Mayo', 'Mayo', 'Mayo', 'Mayo'], \n",
      "      dtype='|S4'), array(['Mayo', 'Mayo', 'Mayo', 'Mayo', 'Mayo'], \n",
      "      dtype='|S4'))\n",
      "(array(['Mayo', 'Mayo', 'Mayo', 'Mayo', 'Mayo'], \n",
      "      dtype='|S4'), array(['Mayo', 'Mayo', 'Mayo', 'Mayo', 'Mayo'], \n",
      "      dtype='|S4'), array(['Mayo', 'Mayo', 'Mayo', 'Mayo', 'Mayo'], \n",
      "      dtype='|S4'))\n",
      "(array(['Mayo', 'Mayo', 'Mayo', 'Mayo', 'Mayo'], \n",
      "      dtype='|S4'), array(['Mayo', 'Mayo', 'Mayo', 'Mayo', 'Mayo'], \n",
      "      dtype='|S4'), array(['Mayo', 'Mayo', 'Mayo', 'Mayo', 'Mayo'], \n",
      "      dtype='|S4'))\n",
      "(array(['Mayo', 'Mayo', 'Mayo', 'Mayo', 'Mayo'], \n",
      "      dtype='|S4'), array(['Mayo', 'Mayo', 'Mayo', 'Mayo', 'Mayo'], \n",
      "      dtype='|S4'), array(['Mayo', 'Mayo', 'Mayo', 'Mayo', 'Mayo'], \n",
      "      dtype='|S4'))\n",
      "(array(['Mayo', 'Mayo', 'Mayo', 'Mayo', 'Mayo'], \n",
      "      dtype='|S4'), array(['Mayo', 'Mayo', 'Mayo', 'Mayo', 'Mayo'], \n",
      "      dtype='|S4'), array(['Mayo', 'Mayo', 'Mayo', 'Mayo', 'Mayo'], \n",
      "      dtype='|S4'))\n",
      "(array(['Mayo', 'Mayo', 'Mayo', 'Mayo', 'Mayo'], \n",
      "      dtype='|S4'), array(['Mayo', 'Mayo', 'Mayo', 'Mayo', 'Mayo'], \n",
      "      dtype='|S4'), array(['Homeo', 'Homeo', 'Homeo', 'Homeo', 'Homeo'], \n",
      "      dtype='|S5'))\n",
      "(array(['Mayo', 'Mayo', 'Mayo', 'Mayo', 'Mayo'], \n",
      "      dtype='|S4'), array(['Homeo', 'Homeo', 'Homeo', 'Homeo', 'Homeo'], \n",
      "      dtype='|S5'), array(['Homeo', 'Homeo', 'Homeo', 'Homeo', 'Homeo'], \n",
      "      dtype='|S5'))\n",
      "(array(['Homeo', 'Homeo', 'Homeo', 'Homeo', 'Homeo'], \n",
      "      dtype='|S5'), array(['Homeo', 'Homeo', 'Homeo', 'Homeo', 'Homeo'], \n",
      "      dtype='|S5'), array(['Homeo', 'Homeo', 'Homeo', 'Homeo', 'Homeo'], \n",
      "      dtype='|S5'))\n",
      "(array(['Homeo', 'Homeo', 'Homeo', 'Homeo', 'Homeo'], \n",
      "      dtype='|S5'), array(['Homeo', 'Homeo', 'Homeo', 'Homeo', 'Homeo'], \n",
      "      dtype='|S5'), array(['Homeo', 'Homeo', 'Homeo', 'Homeo', 'Homeo'], \n",
      "      dtype='|S5'))\n",
      "(array(['Homeo', 'Homeo', 'Homeo', 'Homeo', 'Homeo'], \n",
      "      dtype='|S5'), array(['Homeo', 'Homeo', 'Homeo', 'Homeo', 'Homeo'], \n",
      "      dtype='|S5'), array(['Homeo', 'Homeo', 'Homeo', 'Homeo', 'Homeo'], \n",
      "      dtype='|S5'))\n",
      "(array(['Homeo', 'Homeo', 'Homeo', 'Homeo', 'Homeo'], \n",
      "      dtype='|S5'), array(['Homeo', 'Homeo', 'Homeo', 'Homeo', 'Homeo'], \n",
      "      dtype='|S5'), array(['Homeo', 'Homeo', 'Homeo', 'Homeo', 'Homeo'], \n",
      "      dtype='|S5'))\n",
      "(array(['Homeo', 'Homeo', 'Homeo', 'Homeo', 'Homeo'], \n",
      "      dtype='|S5'), array(['Homeo', 'Homeo', 'Homeo', 'Homeo', 'Homeo'], \n",
      "      dtype='|S5'), array(['Homeo', 'Homeo', 'Homeo', 'Homeo', 'Homeo'], \n",
      "      dtype='|S5'))\n"
     ]
    }
   ],
   "source": [
    "bigrams = ngrams(y_test, 3)\n",
    "#print bigrams[0]\n",
    "for gram in bigrams:\n",
    "    print gram\n",
    "    "
   ]
  },
  {
   "cell_type": "markdown",
   "metadata": {},
   "source": [
    "###Vectorizer"
   ]
  },
  {
   "cell_type": "code",
   "execution_count": null,
   "metadata": {
    "collapsed": true
   },
   "outputs": [],
   "source": [
    "vectorizer = CountVectorizer(ngram_range=(1,2))\n",
    "vectorizer.fit(Mayo_list)\n",
    "x = vectorizer.transform(Mayo_list)\n",
    "#'humans' in vectorizer.get_feature_names()\n",
    "print x"
   ]
  },
  {
   "cell_type": "code",
   "execution_count": null,
   "metadata": {
    "collapsed": true
   },
   "outputs": [],
   "source": [
    "x_array = x.toarray()\n",
    "df = pd.DataFrame(x_array, columns=vectorizer.get_feature_names())"
   ]
  },
  {
   "cell_type": "markdown",
   "metadata": {},
   "source": [
    "###Pickling"
   ]
  },
  {
   "cell_type": "code",
   "execution_count": 20,
   "metadata": {
    "collapsed": true
   },
   "outputs": [],
   "source": [
    "#with open('Mayo_dist_list.pkl', 'w') as picklefile:\n",
    "#    pickle.dump(Mayo_dist_list, picklefile)\n",
    "#with open('corpus_averages/Mayo_mean.pkl', 'w') as picklefile:\n",
    "#    pickle.dump(Mayo_mean, picklefile)\n",
    "#with open('corpus_averages/Homeo_mean.pkl', 'w') as picklefile:\n",
    "#    pickle.dump(Homeo_mean, picklefile)\n",
    "with open('corpus_averages/MayoT_MayoC.pkl', 'w') as picklefile:\n",
    "    pickle.dump(MayoT_MayoC, picklefile)\n",
    "with open('corpus_averages/HomeoT_HomeoC.pkl', 'w') as picklefile:\n",
    "    pickle.dump(HomeoT_HomeoC, picklefile)\n",
    "with open('corpus_averages/HomeoT_MayoC.pkl', 'w') as picklefile:\n",
    "    pickle.dump(HomeoT_MayoC, picklefile)\n",
    "with open('corpus_averages/MayoT_HomeoC.pkl', 'w') as picklefile:\n",
    "    pickle.dump(MayoT_HomeoC, picklefile)"
   ]
  },
  {
   "cell_type": "code",
   "execution_count": 112,
   "metadata": {
    "collapsed": true
   },
   "outputs": [],
   "source": [
    "with open('Homeoo_dist_list.pkl', 'w') as picklefile:\n",
    "    pickle.dump(Homeo_dist_list, picklefile)"
   ]
  },
  {
   "cell_type": "code",
   "execution_count": 9,
   "metadata": {
    "collapsed": false
   },
   "outputs": [],
   "source": [
    "#with open('corpus_averages/Mayo_mean.pkl', 'r') as picklefile:\n",
    "#    Mayo_mean = picklefile\n",
    "Mayo_mean = pickle.load(open('corpus_averages/Mayo_mean.pkl', 'r'))"
   ]
  },
  {
   "cell_type": "code",
   "execution_count": 11,
   "metadata": {
    "collapsed": false
   },
   "outputs": [
    {
     "data": {
      "text/plain": [
       "36489"
      ]
     },
     "execution_count": 11,
     "metadata": {},
     "output_type": "execute_result"
    }
   ],
   "source": [
    "Mayo_mean"
   ]
  },
  {
   "cell_type": "code",
   "execution_count": 12,
   "metadata": {
    "collapsed": false
   },
   "outputs": [
    {
     "data": {
      "text/plain": [
       "65110"
      ]
     },
     "execution_count": 12,
     "metadata": {},
     "output_type": "execute_result"
    }
   ],
   "source": [
    "Homeo_mean = pickle.load(open('corpus_averages/Homeo_mean.pkl', 'r'))\n",
    "Homeo_mean"
   ]
  },
  {
   "cell_type": "code",
   "execution_count": null,
   "metadata": {
    "collapsed": true
   },
   "outputs": [],
   "source": []
  }
 ],
 "metadata": {
  "kernelspec": {
   "display_name": "Python 2",
   "language": "python",
   "name": "python2"
  },
  "language_info": {
   "codemirror_mode": {
    "name": "ipython",
    "version": 2
   },
   "file_extension": ".py",
   "mimetype": "text/x-python",
   "name": "python",
   "nbconvert_exporter": "python",
   "pygments_lexer": "ipython2",
   "version": "2.7.10"
  }
 },
 "nbformat": 4,
 "nbformat_minor": 0
}
