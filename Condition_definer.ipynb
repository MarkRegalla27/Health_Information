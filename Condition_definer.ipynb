{
 "cells": [
  {
   "cell_type": "markdown",
   "metadata": {},
   "source": [
    "Ask for the definition of a medical term, and get a response that is reconciled between multiple web sources.  For an MVP, the web app will allow the user to enter 'heart attack' and get a machine generated reconciled definition from Wikipedia, WebMD, and MayoClinic.  Future iterations would include adding the ability to search more medical terms, using more sources with which to reconcile the requested definition, as well as including symptoms, causes, treatments, and risk factors.  Additional future iterations will include comparing sources with conflicting results with the established \"training set\" of sources.  These conflicting sources can be documented for additional scrutinization."
   ]
  },
  {
   "cell_type": "code",
   "execution_count": 1,
   "metadata": {
    "collapsed": false
   },
   "outputs": [],
   "source": [
    "import requests\n",
    "from bs4 import BeautifulSoup\n",
    "import re\n",
    "import nltk\n",
    "from nltk.tokenize import sent_tokenize\n",
    "from sklearn.feature_extraction.text import CountVectorizer\n",
    "import pandas as pd\n",
    "import numpy as np\n",
    "from sklearn.feature_extraction.text import TfidfVectorizer\n",
    "from sklearn.naive_bayes import MultinomialNB\n",
    "from fuzzywuzzy import fuzz\n",
    "from fuzzywuzzy import process\n",
    "import matplotlib.pyplot as plt"
   ]
  },
  {
   "cell_type": "code",
   "execution_count": 2,
   "metadata": {
    "collapsed": false
   },
   "outputs": [],
   "source": [
    "#import numpy as np\n",
    "#import pandas as pd\n",
    "#import nltk\n",
    "#import re\n",
    "import os\n",
    "import codecs\n",
    "#from sklearn import feature_extraction\n",
    "import mpld3"
   ]
  },
  {
   "cell_type": "code",
   "execution_count": 21,
   "metadata": {
    "collapsed": false
   },
   "outputs": [
    {
     "name": "stderr",
     "output_type": "stream",
     "text": [
      "/Users/markregalla/anaconda/lib/python2.7/site-packages/numpy/lib/utils.py:95: DeprecationWarning: `scipy.sparse.sparsetools` is deprecated!\n",
      "scipy.sparse.sparsetools is a private module for scipy.sparse, and should not be used.\n",
      "  warnings.warn(depdoc, DeprecationWarning)\n",
      "/Users/markregalla/anaconda/lib/python2.7/site-packages/scipy/lib/_util.py:67: DeprecationWarning: Module scipy.linalg.blas.fblas is deprecated, use scipy.linalg.blas instead\n",
      "  DeprecationWarning)\n",
      "/Users/markregalla/anaconda/lib/python2.7/site-packages/scipy/lib/_util.py:67: DeprecationWarning: Module scipy.linalg.blas.fblas is deprecated, use scipy.linalg.blas instead\n",
      "  DeprecationWarning)\n",
      "/Users/markregalla/anaconda/lib/python2.7/site-packages/scipy/lib/_util.py:67: DeprecationWarning: Module scipy.linalg.blas.fblas is deprecated, use scipy.linalg.blas instead\n",
      "  DeprecationWarning)\n",
      "/Users/markregalla/anaconda/lib/python2.7/site-packages/scipy/lib/_util.py:67: DeprecationWarning: Module scipy.linalg.blas.fblas is deprecated, use scipy.linalg.blas instead\n",
      "  DeprecationWarning)\n",
      "/Users/markregalla/anaconda/lib/python2.7/site-packages/scipy/lib/_util.py:67: DeprecationWarning: Module scipy.linalg.blas.fblas is deprecated, use scipy.linalg.blas instead\n",
      "  DeprecationWarning)\n",
      "/Users/markregalla/anaconda/lib/python2.7/site-packages/scipy/lib/_util.py:67: DeprecationWarning: Module scipy.linalg.blas.fblas is deprecated, use scipy.linalg.blas instead\n",
      "  DeprecationWarning)\n"
     ]
    }
   ],
   "source": [
    "#word2vec packages\n",
    "import gensim\n",
    "from gensim import corpora, models, similarities\n",
    "import logging\n",
    "import os"
   ]
  },
  {
   "cell_type": "code",
   "execution_count": 23,
   "metadata": {
    "collapsed": true
   },
   "outputs": [],
   "source": [
    "import numpy as np\n",
    "from sklearn.metrics import jaccard_similarity_score\n",
    "from scipy import spatial"
   ]
  },
  {
   "cell_type": "markdown",
   "metadata": {},
   "source": [
    "Keywords to use when searching for the definition of a medical term:\n",
    "\n",
    "'term' is\n",
    "\n",
    "'term' occurs"
   ]
  },
  {
   "cell_type": "markdown",
   "metadata": {},
   "source": [
    "###Wikipedia"
   ]
  },
  {
   "cell_type": "code",
   "execution_count": 4,
   "metadata": {
    "collapsed": false
   },
   "outputs": [],
   "source": [
    "response = requests.get('https://en.wikipedia.org/wiki/Myocardial_infarction')\n",
    "page = response.text\n",
    "soup = BeautifulSoup(page, 'html.parser')"
   ]
  },
  {
   "cell_type": "code",
   "execution_count": 5,
   "metadata": {
    "collapsed": false
   },
   "outputs": [
    {
     "data": {
      "text/plain": [
       "u'Myocardial infarction (MI) or acute myocardial infarction (AMI), commonly known as a heart attack, occurs when blood flow stops to a part of the heart causing damage to the heart muscle. The most common symptom is chest pain or discomfort which may travel into the shoulder, arm, back, neck, or jaw. Often it is in the center or left side of the chest and lasts for more than a few minutes. The discomfort may occasionally feel like heartburn. Other symptoms may include shortness of breath, nausea, feeling faint, a cold sweat, or feeling tired.[1] About 30% of people have atypical symptoms,[2] with women more likely than men to present atypically.[3] Among those over 75 years old, about 5% have had an MI with little or no history of symptoms.[4] An MI may cause heart failure, an irregular heartbeat, or cardiac arrest.[5][6]'"
      ]
     },
     "execution_count": 5,
     "metadata": {},
     "output_type": "execute_result"
    }
   ],
   "source": [
    "paragraphs = soup.findAll('p')\n",
    "k = 0\n",
    "theindex = 0\n",
    "foundone = False\n",
    "for i in paragraphs:\n",
    "    if 'heart attack' in paragraphs[k].text:\n",
    "        if foundone == False:\n",
    "            theindex = k\n",
    "            foundone = True\n",
    "    k += 1\n",
    "wikidef = paragraphs[theindex].text\n",
    "wikisentences = sent_tokenize(wikidef)\n",
    "wikidef"
   ]
  },
  {
   "cell_type": "markdown",
   "metadata": {},
   "source": [
    "###WebMD"
   ]
  },
  {
   "cell_type": "code",
   "execution_count": 6,
   "metadata": {
    "collapsed": false
   },
   "outputs": [],
   "source": [
    "response2 = requests.get('http://www.webmd.com/heart-disease/guide/heart-disease-heart-attacks')\n",
    "page2 = response2.text\n",
    "soup2 = BeautifulSoup(page2, 'html.parser')"
   ]
  },
  {
   "cell_type": "code",
   "execution_count": 7,
   "metadata": {
    "collapsed": false
   },
   "outputs": [
    {
     "data": {
      "text/plain": [
       "13"
      ]
     },
     "execution_count": 7,
     "metadata": {},
     "output_type": "execute_result"
    }
   ],
   "source": [
    "paragraphs2 = soup2.findAll('p')\n",
    "k = 0\n",
    "theindex2 = 0\n",
    "foundone2 = False\n",
    "for i in paragraphs2:\n",
    "    if 'heart attack' in paragraphs2[k].text:\n",
    "        if foundone2 == False:\n",
    "            theindex2 = k\n",
    "            foundone2 = True\n",
    "    k += 1\n",
    "webmddef = paragraphs2[theindex2].text\n",
    "webmdsentences = sent_tokenize(webmddef)"
   ]
  },
  {
   "cell_type": "markdown",
   "metadata": {},
   "source": [
    "###MayoClinic"
   ]
  },
  {
   "cell_type": "code",
   "execution_count": 8,
   "metadata": {
    "collapsed": true
   },
   "outputs": [],
   "source": [
    "response3 = requests.get('http://www.mayoclinic.org/diseases-conditions/heart-attack/basics/definition/con-20019520')\n",
    "page3 = response3.text\n",
    "soup3 = BeautifulSoup(page3, 'html.parser')"
   ]
  },
  {
   "cell_type": "code",
   "execution_count": 9,
   "metadata": {
    "collapsed": false
   },
   "outputs": [
    {
     "data": {
      "text/plain": [
       "[u'A heart attack occurs when the flow of blood to the heart is blocked, most often by a build-up of fat, cholesterol and other substances, which form a plaque in the arteries that feed the heart (coronary arteries).',\n",
       " u'The interrupted blood flow can damage or destroy part of the heart muscle.']"
      ]
     },
     "execution_count": 9,
     "metadata": {},
     "output_type": "execute_result"
    }
   ],
   "source": [
    "paragraphs3 = soup3.findAll('p')\n",
    "k = 0\n",
    "theindex3 = 0\n",
    "foundone3 = False\n",
    "for i in paragraphs3:\n",
    "    if 'heart attack' in paragraphs3[k].text:\n",
    "        if foundone3 == False:\n",
    "            theindex3 = k\n",
    "            foundone3 = True\n",
    "    k += 1\n",
    "mayodef = paragraphs3[theindex3].text\n",
    "mayosentences = sent_tokenize(mayodef)\n",
    "mayosentences"
   ]
  },
  {
   "cell_type": "markdown",
   "metadata": {
    "collapsed": true
   },
   "source": [
    "###Compare all three definitions"
   ]
  },
  {
   "cell_type": "code",
   "execution_count": 8,
   "metadata": {
    "collapsed": false,
    "scrolled": true
   },
   "outputs": [],
   "source": [
    "allthree = [wikidef, webmddef, mayodef]\n",
    "vectorizer = CountVectorizer()\n",
    "allthree = sorted(allthree)\n",
    "X = vectorizer.fit_transform(allthree)\n",
    "#print X\n",
    "X_Array = X.toarray()\n",
    "#X_Array\n",
    "#analyze = vectorizer.build_analyzer()\n",
    "#analyze(wikidef) == wikidef"
   ]
  },
  {
   "cell_type": "code",
   "execution_count": 9,
   "metadata": {
    "collapsed": true
   },
   "outputs": [
    {
     "data": {
      "text/html": [
       "<div>\n",
       "<table border=\"1\" class=\"dataframe\">\n",
       "  <thead>\n",
       "    <tr style=\"text-align: right;\">\n",
       "      <th></th>\n",
       "      <th>Wiki</th>\n",
       "      <th>WebMD</th>\n",
       "      <th>MayoClinic</th>\n",
       "    </tr>\n",
       "  </thead>\n",
       "  <tbody>\n",
       "    <tr>\n",
       "      <th>30</th>\n",
       "      <td>0</td>\n",
       "      <td>0</td>\n",
       "      <td>1</td>\n",
       "    </tr>\n",
       "    <tr>\n",
       "      <th>75</th>\n",
       "      <td>0</td>\n",
       "      <td>0</td>\n",
       "      <td>1</td>\n",
       "    </tr>\n",
       "    <tr>\n",
       "      <th>about</th>\n",
       "      <td>0</td>\n",
       "      <td>0</td>\n",
       "      <td>2</td>\n",
       "    </tr>\n",
       "    <tr>\n",
       "      <th>acute</th>\n",
       "      <td>0</td>\n",
       "      <td>0</td>\n",
       "      <td>1</td>\n",
       "    </tr>\n",
       "    <tr>\n",
       "      <th>americans</th>\n",
       "      <td>0</td>\n",
       "      <td>1</td>\n",
       "      <td>0</td>\n",
       "    </tr>\n",
       "    <tr>\n",
       "      <th>ami</th>\n",
       "      <td>0</td>\n",
       "      <td>0</td>\n",
       "      <td>1</td>\n",
       "    </tr>\n",
       "    <tr>\n",
       "      <th>among</th>\n",
       "      <td>0</td>\n",
       "      <td>0</td>\n",
       "      <td>1</td>\n",
       "    </tr>\n",
       "    <tr>\n",
       "      <th>an</th>\n",
       "      <td>0</td>\n",
       "      <td>0</td>\n",
       "      <td>3</td>\n",
       "    </tr>\n",
       "    <tr>\n",
       "      <th>and</th>\n",
       "      <td>1</td>\n",
       "      <td>1</td>\n",
       "      <td>1</td>\n",
       "    </tr>\n",
       "    <tr>\n",
       "      <th>arm</th>\n",
       "      <td>0</td>\n",
       "      <td>0</td>\n",
       "      <td>1</td>\n",
       "    </tr>\n",
       "    <tr>\n",
       "      <th>arrest</th>\n",
       "      <td>0</td>\n",
       "      <td>0</td>\n",
       "      <td>1</td>\n",
       "    </tr>\n",
       "    <tr>\n",
       "      <th>arteries</th>\n",
       "      <td>2</td>\n",
       "      <td>0</td>\n",
       "      <td>0</td>\n",
       "    </tr>\n",
       "    <tr>\n",
       "      <th>as</th>\n",
       "      <td>0</td>\n",
       "      <td>0</td>\n",
       "      <td>1</td>\n",
       "    </tr>\n",
       "    <tr>\n",
       "      <th>attack</th>\n",
       "      <td>1</td>\n",
       "      <td>1</td>\n",
       "      <td>1</td>\n",
       "    </tr>\n",
       "    <tr>\n",
       "      <th>attacks</th>\n",
       "      <td>0</td>\n",
       "      <td>1</td>\n",
       "      <td>0</td>\n",
       "    </tr>\n",
       "    <tr>\n",
       "      <th>atypical</th>\n",
       "      <td>0</td>\n",
       "      <td>0</td>\n",
       "      <td>1</td>\n",
       "    </tr>\n",
       "    <tr>\n",
       "      <th>atypically</th>\n",
       "      <td>0</td>\n",
       "      <td>0</td>\n",
       "      <td>1</td>\n",
       "    </tr>\n",
       "    <tr>\n",
       "      <th>back</th>\n",
       "      <td>0</td>\n",
       "      <td>0</td>\n",
       "      <td>1</td>\n",
       "    </tr>\n",
       "    <tr>\n",
       "      <th>blocked</th>\n",
       "      <td>1</td>\n",
       "      <td>0</td>\n",
       "      <td>0</td>\n",
       "    </tr>\n",
       "    <tr>\n",
       "      <th>blood</th>\n",
       "      <td>2</td>\n",
       "      <td>1</td>\n",
       "      <td>1</td>\n",
       "    </tr>\n",
       "    <tr>\n",
       "      <th>breath</th>\n",
       "      <td>0</td>\n",
       "      <td>0</td>\n",
       "      <td>1</td>\n",
       "    </tr>\n",
       "    <tr>\n",
       "      <th>build</th>\n",
       "      <td>1</td>\n",
       "      <td>0</td>\n",
       "      <td>0</td>\n",
       "    </tr>\n",
       "    <tr>\n",
       "      <th>by</th>\n",
       "      <td>1</td>\n",
       "      <td>0</td>\n",
       "      <td>0</td>\n",
       "    </tr>\n",
       "    <tr>\n",
       "      <th>can</th>\n",
       "      <td>1</td>\n",
       "      <td>0</td>\n",
       "      <td>0</td>\n",
       "    </tr>\n",
       "    <tr>\n",
       "      <th>cardiac</th>\n",
       "      <td>0</td>\n",
       "      <td>0</td>\n",
       "      <td>1</td>\n",
       "    </tr>\n",
       "    <tr>\n",
       "      <th>cardial</th>\n",
       "      <td>0</td>\n",
       "      <td>1</td>\n",
       "      <td>0</td>\n",
       "    </tr>\n",
       "    <tr>\n",
       "      <th>cause</th>\n",
       "      <td>0</td>\n",
       "      <td>0</td>\n",
       "      <td>1</td>\n",
       "    </tr>\n",
       "    <tr>\n",
       "      <th>causing</th>\n",
       "      <td>0</td>\n",
       "      <td>0</td>\n",
       "      <td>1</td>\n",
       "    </tr>\n",
       "    <tr>\n",
       "      <th>center</th>\n",
       "      <td>0</td>\n",
       "      <td>0</td>\n",
       "      <td>1</td>\n",
       "    </tr>\n",
       "    <tr>\n",
       "      <th>chest</th>\n",
       "      <td>0</td>\n",
       "      <td>0</td>\n",
       "      <td>2</td>\n",
       "    </tr>\n",
       "    <tr>\n",
       "      <th>...</th>\n",
       "      <td>...</td>\n",
       "      <td>...</td>\n",
       "      <td>...</td>\n",
       "    </tr>\n",
       "    <tr>\n",
       "      <th>part</th>\n",
       "      <td>1</td>\n",
       "      <td>0</td>\n",
       "      <td>1</td>\n",
       "    </tr>\n",
       "    <tr>\n",
       "      <th>people</th>\n",
       "      <td>0</td>\n",
       "      <td>0</td>\n",
       "      <td>1</td>\n",
       "    </tr>\n",
       "    <tr>\n",
       "      <th>permanent</th>\n",
       "      <td>0</td>\n",
       "      <td>1</td>\n",
       "      <td>0</td>\n",
       "    </tr>\n",
       "    <tr>\n",
       "      <th>plaque</th>\n",
       "      <td>1</td>\n",
       "      <td>0</td>\n",
       "      <td>0</td>\n",
       "    </tr>\n",
       "    <tr>\n",
       "      <th>present</th>\n",
       "      <td>0</td>\n",
       "      <td>0</td>\n",
       "      <td>1</td>\n",
       "    </tr>\n",
       "    <tr>\n",
       "      <th>refers</th>\n",
       "      <td>0</td>\n",
       "      <td>1</td>\n",
       "      <td>0</td>\n",
       "    </tr>\n",
       "    <tr>\n",
       "      <th>shortness</th>\n",
       "      <td>0</td>\n",
       "      <td>0</td>\n",
       "      <td>1</td>\n",
       "    </tr>\n",
       "    <tr>\n",
       "      <th>shoulder</th>\n",
       "      <td>0</td>\n",
       "      <td>0</td>\n",
       "      <td>1</td>\n",
       "    </tr>\n",
       "    <tr>\n",
       "      <th>side</th>\n",
       "      <td>0</td>\n",
       "      <td>0</td>\n",
       "      <td>1</td>\n",
       "    </tr>\n",
       "    <tr>\n",
       "      <th>stops</th>\n",
       "      <td>0</td>\n",
       "      <td>0</td>\n",
       "      <td>1</td>\n",
       "    </tr>\n",
       "    <tr>\n",
       "      <th>substances</th>\n",
       "      <td>1</td>\n",
       "      <td>0</td>\n",
       "      <td>0</td>\n",
       "    </tr>\n",
       "    <tr>\n",
       "      <th>supply</th>\n",
       "      <td>0</td>\n",
       "      <td>1</td>\n",
       "      <td>0</td>\n",
       "    </tr>\n",
       "    <tr>\n",
       "      <th>sweat</th>\n",
       "      <td>0</td>\n",
       "      <td>0</td>\n",
       "      <td>1</td>\n",
       "    </tr>\n",
       "    <tr>\n",
       "      <th>symptom</th>\n",
       "      <td>0</td>\n",
       "      <td>0</td>\n",
       "      <td>1</td>\n",
       "    </tr>\n",
       "    <tr>\n",
       "      <th>symptoms</th>\n",
       "      <td>0</td>\n",
       "      <td>0</td>\n",
       "      <td>3</td>\n",
       "    </tr>\n",
       "    <tr>\n",
       "      <th>than</th>\n",
       "      <td>0</td>\n",
       "      <td>1</td>\n",
       "      <td>2</td>\n",
       "    </tr>\n",
       "    <tr>\n",
       "      <th>that</th>\n",
       "      <td>1</td>\n",
       "      <td>0</td>\n",
       "      <td>0</td>\n",
       "    </tr>\n",
       "    <tr>\n",
       "      <th>the</th>\n",
       "      <td>6</td>\n",
       "      <td>2</td>\n",
       "      <td>7</td>\n",
       "    </tr>\n",
       "    <tr>\n",
       "      <th>those</th>\n",
       "      <td>0</td>\n",
       "      <td>0</td>\n",
       "      <td>1</td>\n",
       "    </tr>\n",
       "    <tr>\n",
       "      <th>tired</th>\n",
       "      <td>0</td>\n",
       "      <td>0</td>\n",
       "      <td>1</td>\n",
       "    </tr>\n",
       "    <tr>\n",
       "      <th>tissue</th>\n",
       "      <td>0</td>\n",
       "      <td>1</td>\n",
       "      <td>0</td>\n",
       "    </tr>\n",
       "    <tr>\n",
       "      <th>to</th>\n",
       "      <td>1</td>\n",
       "      <td>3</td>\n",
       "      <td>3</td>\n",
       "    </tr>\n",
       "    <tr>\n",
       "      <th>travel</th>\n",
       "      <td>0</td>\n",
       "      <td>0</td>\n",
       "      <td>1</td>\n",
       "    </tr>\n",
       "    <tr>\n",
       "      <th>up</th>\n",
       "      <td>1</td>\n",
       "      <td>0</td>\n",
       "      <td>0</td>\n",
       "    </tr>\n",
       "    <tr>\n",
       "      <th>when</th>\n",
       "      <td>1</td>\n",
       "      <td>0</td>\n",
       "      <td>1</td>\n",
       "    </tr>\n",
       "    <tr>\n",
       "      <th>which</th>\n",
       "      <td>1</td>\n",
       "      <td>0</td>\n",
       "      <td>1</td>\n",
       "    </tr>\n",
       "    <tr>\n",
       "      <th>with</th>\n",
       "      <td>0</td>\n",
       "      <td>0</td>\n",
       "      <td>2</td>\n",
       "    </tr>\n",
       "    <tr>\n",
       "      <th>women</th>\n",
       "      <td>0</td>\n",
       "      <td>0</td>\n",
       "      <td>1</td>\n",
       "    </tr>\n",
       "    <tr>\n",
       "      <th>year</th>\n",
       "      <td>0</td>\n",
       "      <td>1</td>\n",
       "      <td>0</td>\n",
       "    </tr>\n",
       "    <tr>\n",
       "      <th>years</th>\n",
       "      <td>0</td>\n",
       "      <td>0</td>\n",
       "      <td>1</td>\n",
       "    </tr>\n",
       "  </tbody>\n",
       "</table>\n",
       "<p>126 rows × 3 columns</p>\n",
       "</div>"
      ],
      "text/plain": [
       "            Wiki  WebMD  MayoClinic\n",
       "30             0      0           1\n",
       "75             0      0           1\n",
       "about          0      0           2\n",
       "acute          0      0           1\n",
       "americans      0      1           0\n",
       "ami            0      0           1\n",
       "among          0      0           1\n",
       "an             0      0           3\n",
       "and            1      1           1\n",
       "arm            0      0           1\n",
       "arrest         0      0           1\n",
       "arteries       2      0           0\n",
       "as             0      0           1\n",
       "attack         1      1           1\n",
       "attacks        0      1           0\n",
       "atypical       0      0           1\n",
       "atypically     0      0           1\n",
       "back           0      0           1\n",
       "blocked        1      0           0\n",
       "blood          2      1           1\n",
       "breath         0      0           1\n",
       "build          1      0           0\n",
       "by             1      0           0\n",
       "can            1      0           0\n",
       "cardiac        0      0           1\n",
       "cardial        0      1           0\n",
       "cause          0      0           1\n",
       "causing        0      0           1\n",
       "center         0      0           1\n",
       "chest          0      0           2\n",
       "...          ...    ...         ...\n",
       "part           1      0           1\n",
       "people         0      0           1\n",
       "permanent      0      1           0\n",
       "plaque         1      0           0\n",
       "present        0      0           1\n",
       "refers         0      1           0\n",
       "shortness      0      0           1\n",
       "shoulder       0      0           1\n",
       "side           0      0           1\n",
       "stops          0      0           1\n",
       "substances     1      0           0\n",
       "supply         0      1           0\n",
       "sweat          0      0           1\n",
       "symptom        0      0           1\n",
       "symptoms       0      0           3\n",
       "than           0      1           2\n",
       "that           1      0           0\n",
       "the            6      2           7\n",
       "those          0      0           1\n",
       "tired          0      0           1\n",
       "tissue         0      1           0\n",
       "to             1      3           3\n",
       "travel         0      0           1\n",
       "up             1      0           0\n",
       "when           1      0           1\n",
       "which          1      0           1\n",
       "with           0      0           2\n",
       "women          0      0           1\n",
       "year           0      1           0\n",
       "years          0      0           1\n",
       "\n",
       "[126 rows x 3 columns]"
      ]
     },
     "execution_count": 9,
     "metadata": {},
     "output_type": "execute_result"
    }
   ],
   "source": [
    "#pd.set_option('display.max_rows', 5)\n",
    "pd.set_option('display.max_columns', 500)\n",
    "pd.set_option('display.width', 1000)\n",
    "comparedf = pd.DataFrame(X_Array, columns=vectorizer.get_feature_names())\n",
    "comparedf = comparedf.transpose()\n",
    "comparedf.columns = ['Wiki', 'WebMD', 'MayoClinic']\n",
    "comparedf"
   ]
  },
  {
   "cell_type": "code",
   "execution_count": 11,
   "metadata": {
    "collapsed": true
   },
   "outputs": [
    {
     "data": {
      "text/html": [
       "<div>\n",
       "<table border=\"1\" class=\"dataframe\">\n",
       "  <thead>\n",
       "    <tr style=\"text-align: right;\">\n",
       "      <th></th>\n",
       "      <th>Wiki</th>\n",
       "      <th>WebMD</th>\n",
       "      <th>MayoClinic</th>\n",
       "    </tr>\n",
       "  </thead>\n",
       "  <tbody>\n",
       "    <tr>\n",
       "      <th>and</th>\n",
       "      <td>1</td>\n",
       "      <td>1</td>\n",
       "      <td>1</td>\n",
       "    </tr>\n",
       "    <tr>\n",
       "      <th>attack</th>\n",
       "      <td>1</td>\n",
       "      <td>1</td>\n",
       "      <td>1</td>\n",
       "    </tr>\n",
       "    <tr>\n",
       "      <th>damage</th>\n",
       "      <td>1</td>\n",
       "      <td>1</td>\n",
       "      <td>1</td>\n",
       "    </tr>\n",
       "    <tr>\n",
       "      <th>heart</th>\n",
       "      <td>4</td>\n",
       "      <td>4</td>\n",
       "      <td>4</td>\n",
       "    </tr>\n",
       "    <tr>\n",
       "      <th>is</th>\n",
       "      <td>1</td>\n",
       "      <td>1</td>\n",
       "      <td>2</td>\n",
       "    </tr>\n",
       "    <tr>\n",
       "      <th>of</th>\n",
       "      <td>3</td>\n",
       "      <td>2</td>\n",
       "      <td>5</td>\n",
       "    </tr>\n",
       "    <tr>\n",
       "      <th>or</th>\n",
       "      <td>1</td>\n",
       "      <td>1</td>\n",
       "      <td>7</td>\n",
       "    </tr>\n",
       "    <tr>\n",
       "      <th>the</th>\n",
       "      <td>6</td>\n",
       "      <td>2</td>\n",
       "      <td>7</td>\n",
       "    </tr>\n",
       "    <tr>\n",
       "      <th>to</th>\n",
       "      <td>1</td>\n",
       "      <td>3</td>\n",
       "      <td>3</td>\n",
       "    </tr>\n",
       "  </tbody>\n",
       "</table>\n",
       "</div>"
      ],
      "text/plain": [
       "        Wiki  WebMD  MayoClinic\n",
       "and        1      1           1\n",
       "attack     1      1           1\n",
       "damage     1      1           1\n",
       "heart      4      4           4\n",
       "is         1      1           2\n",
       "of         3      2           5\n",
       "or         1      1           7\n",
       "the        6      2           7\n",
       "to         1      3           3"
      ]
     },
     "execution_count": 11,
     "metadata": {},
     "output_type": "execute_result"
    }
   ],
   "source": [
    "#comparedf[comparedf['Wiki'] & comparedf['WebMD'] & comparedf['MayoClinic'] != 0]\n",
    "comparedf[comparedf['Wiki'] & comparedf['WebMD'] != 0]\n"
   ]
  },
  {
   "cell_type": "markdown",
   "metadata": {},
   "source": [
    "##Jaccard Similarity"
   ]
  },
  {
   "cell_type": "code",
   "execution_count": 11,
   "metadata": {
    "collapsed": false
   },
   "outputs": [
    {
     "name": "stdout",
     "output_type": "stream",
     "text": [
      "0.553191489362\n",
      "Definitions Match.\n",
      "Wikipedia Definition (as confirmed by WebMD and MayoClinic)\n",
      "Myocardial infarction (MI) or acute myocardial infarction (AMI), commonly known as a heart attack, occurs when blood flow stops to a part of the heart causing damage to the heart muscle. The most common symptom is chest pain or discomfort which may travel into the shoulder, arm, back, neck, or jaw. Often it is in the center or left side of the chest and lasts for more than a few minutes. The discomfort may occasionally feel like heartburn. Other symptoms may include shortness of breath, nausea, feeling faint, a cold sweat, or feeling tired.[1] About 30% of people have atypical symptoms,[2] with women more likely than men to present atypically.[3] Among those over 75 years old, about 5% have had an MI with little or no history of symptoms.[4] An MI may cause heart failure, an irregular heartbeat, or cardiac arrest.[5][6]\n",
      "<type 'float'>\n"
     ]
    }
   ],
   "source": [
    "#jaccard_similarity_score(wikidef, webmddef, normalize=False)\n",
    "wikiset = set(wikidef)\n",
    "webmdset = set(webmddef)\n",
    "mayoset = set(mayodef)\n",
    "\n",
    "theintersect = wikiset.intersection(webmdset)\n",
    "theintersect = theintersect.intersection(mayodef)\n",
    "theunion = wikiset.union(webmdset)\n",
    "theunion = theunion.union(mayodef)\n",
    "\n",
    "theintersect_len = len(list(theintersect))\n",
    "theunion_len = len(list(theunion))\n",
    "\n",
    "jaccard = float(theintersect_len) / theunion_len\n",
    "if jaccard > 0.5:\n",
    "    print jaccard\n",
    "    astring = 'Definitions Match.\\n'\n",
    "    astring = astring + 'Wikipedia Definition (as confirmed by WebMD and MayoClinic)\\n'\n",
    "    astring = astring + wikidef\n",
    "    print astring\n",
    "print type(jaccard)"
   ]
  },
  {
   "cell_type": "code",
   "execution_count": 85,
   "metadata": {
    "collapsed": true
   },
   "outputs": [
    {
     "data": {
      "text/plain": [
       "{u' ',\n",
       " u'\"',\n",
       " u'%',\n",
       " u'(',\n",
       " u')',\n",
       " u',',\n",
       " u'-',\n",
       " u'.',\n",
       " u'0',\n",
       " u'1',\n",
       " u'2',\n",
       " u'3',\n",
       " u'4',\n",
       " u'5',\n",
       " u'6',\n",
       " u'7',\n",
       " u'A',\n",
       " u'I',\n",
       " u'M',\n",
       " u'O',\n",
       " u'T',\n",
       " u'[',\n",
       " u']',\n",
       " u'a',\n",
       " u'b',\n",
       " u'c',\n",
       " u'd',\n",
       " u'e',\n",
       " u'f',\n",
       " u'g',\n",
       " u'h',\n",
       " u'i',\n",
       " u'j',\n",
       " u'k',\n",
       " u'l',\n",
       " u'm',\n",
       " u'n',\n",
       " u'o',\n",
       " u'p',\n",
       " u'q',\n",
       " u'r',\n",
       " u's',\n",
       " u't',\n",
       " u'u',\n",
       " u'v',\n",
       " u'w',\n",
       " u'y'}"
      ]
     },
     "execution_count": 85,
     "metadata": {},
     "output_type": "execute_result"
    }
   ],
   "source": [
    "theunion"
   ]
  },
  {
   "cell_type": "markdown",
   "metadata": {},
   "source": [
    "##Cosine Similarity"
   ]
  },
  {
   "cell_type": "code",
   "execution_count": 42,
   "metadata": {
    "collapsed": false
   },
   "outputs": [
    {
     "ename": "TypeError",
     "evalue": "data type \"fart\" not understood",
     "output_type": "error",
     "traceback": [
      "\u001b[0;31m---------------------------------------------------------------------------\u001b[0m",
      "\u001b[0;31mTypeError\u001b[0m                                 Traceback (most recent call last)",
      "\u001b[0;32m<ipython-input-42-a10adfd0b32f>\u001b[0m in \u001b[0;36m<module>\u001b[0;34m()\u001b[0m\n\u001b[1;32m     15\u001b[0m      \u001b[0;32mreturn\u001b[0m \u001b[0mround\u001b[0m\u001b[0;34m(\u001b[0m\u001b[0mfloat\u001b[0m\u001b[0;34m(\u001b[0m\u001b[0mnumerator\u001b[0m\u001b[0;34m)\u001b[0m \u001b[0;34m/\u001b[0m \u001b[0mdenominator\u001b[0m\u001b[0;34m,\u001b[0m \u001b[0;36m3\u001b[0m\u001b[0;34m)\u001b[0m\u001b[0;34m\u001b[0m\u001b[0m\n\u001b[1;32m     16\u001b[0m \u001b[0;31m#get_cosine(wikimodel['heart'], webmdmodel['heart'])\u001b[0m\u001b[0;34m\u001b[0m\u001b[0;34m\u001b[0m\u001b[0m\n\u001b[0;32m---> 17\u001b[0;31m \u001b[0mnpa1\u001b[0m \u001b[0;34m=\u001b[0m \u001b[0mnp\u001b[0m\u001b[0;34m.\u001b[0m\u001b[0marray\u001b[0m\u001b[0;34m(\u001b[0m\u001b[0;34m'poo'\u001b[0m\u001b[0;34m,\u001b[0m \u001b[0;34m'fart'\u001b[0m\u001b[0;34m)\u001b[0m\u001b[0;34m\u001b[0m\u001b[0m\n\u001b[0m\u001b[1;32m     18\u001b[0m \u001b[0mnpa2\u001b[0m \u001b[0;34m=\u001b[0m \u001b[0mnp\u001b[0m\u001b[0;34m.\u001b[0m\u001b[0marray\u001b[0m\u001b[0;34m(\u001b[0m\u001b[0;34m'poo'\u001b[0m\u001b[0;34m,\u001b[0m \u001b[0;34m'fart'\u001b[0m\u001b[0;34m)\u001b[0m\u001b[0;34m\u001b[0m\u001b[0m\n\u001b[1;32m     19\u001b[0m \u001b[0mget_cosine\u001b[0m\u001b[0;34m(\u001b[0m\u001b[0mnpa1\u001b[0m\u001b[0;34m,\u001b[0m \u001b[0mnpa2\u001b[0m\u001b[0;34m)\u001b[0m\u001b[0;34m\u001b[0m\u001b[0m\n",
      "\u001b[0;31mTypeError\u001b[0m: data type \"fart\" not understood"
     ]
    }
   ],
   "source": [
    "#spatial.distance.cosine(wikidef, webmddef)\n",
    "import math\n",
    "import numpy as np\n",
    "def get_cosine(text1, text2):\n",
    "  vec1 = text1\n",
    "  vec2 = text2\n",
    "  intersection = set(vec1) & set(vec2)\n",
    "  numerator = sum([vec1[x] * vec2[x] for x in intersection])\n",
    "  sum1 = sum([vec1[x]**2 for x in vec1])\n",
    "  sum2 = sum([vec2[x]**2 for x in vec2])\n",
    "  denominator = math.sqrt(sum1) * math.sqrt(sum2)\n",
    "  if not denominator:\n",
    "     return 0.0\n",
    "  else:\n",
    "     return round(float(numerator) / denominator, 3)\n",
    "#get_cosine(wikimodel['heart'], webmdmodel['heart'])\n",
    "npa1 = np.array('poo', 'fart')\n",
    "npa2 = np.array('poo', 'fart')\n",
    "get_cosine(npa1, npa2)"
   ]
  },
  {
   "cell_type": "markdown",
   "metadata": {},
   "source": [
    "##Word to Vector"
   ]
  },
  {
   "cell_type": "code",
   "execution_count": 25,
   "metadata": {
    "collapsed": false,
    "scrolled": true
   },
   "outputs": [
    {
     "name": "stdout",
     "output_type": "stream",
     "text": [
      "[[u'myocardial', u'infarction', u'(mi)', u'acute', u'myocardial', u'infarction', u'(ami),', u'commonly', u'known', u'as', u'heart', u'attack,', u'occurs', u'when', u'blood', u'flow', u'stops', u'part', u'heart', u'causing', u'damage', u'heart', u'muscle.', u'most', u'common', u'symptom', u'is', u'chest', u'pain', u'discomfort', u'which', u'may', u'travel', u'into', u'shoulder,', u'arm,', u'back,', u'neck,', u'jaw.', u'often', u'it', u'is', u'center', u'left', u'side', u'chest', u'lasts', u'more', u'than', u'few', u'minutes.', u'discomfort', u'may', u'occasionally', u'feel', u'like', u'heartburn.', u'other', u'symptoms', u'may', u'include', u'shortness', u'breath,', u'nausea,', u'feeling', u'faint,', u'cold', u'sweat,', u'feeling', u'tired.[1]', u'about', u'30%', u'people', u'have', u'atypical', u'symptoms,[2]', u'with', u'women', u'more', u'likely', u'than', u'men', u'present', u'atypically.[3]', u'among', u'those', u'over', u'75', u'years', u'old,', u'about', u'5%', u'have', u'had', u'mi', u'with', u'little', u'no', u'history', u'symptoms.[4]', u'mi', u'may', u'cause', u'heart', u'failure,', u'irregular', u'heartbeat,', u'cardiac', u'arrest.[5][6]']]\n",
      "[[u'more', u'than', u'million', u'americans', u'have', u'heart', u'attacks', u'each', u'year.', u'heart', u'attack,', u'myocardial', u'infarction', u'(mi),', u'is', u'permanent', u'damage', u'heart', u'muscle.', u'\"myo\"', u'means', u'muscle,', u'\"cardial\"', u'refers', u'heart,', u'\"infarction\"', u'means', u'death', u'tissue', u'due', u'lack', u'blood', u'supply.']]\n"
     ]
    }
   ],
   "source": [
    "stoplist = set('for a of the and to in an or'.split())\n",
    "\n",
    "#Wikipedia\n",
    "texts = [[word for word in wikidef.lower().split() if word not in stoplist]]\n",
    "\n",
    "#WebMD\n",
    "texts2 = [[word for word in webmddef.lower().split() if word not in stoplist]]\n",
    "\n",
    "#MayoClinic\n",
    "texts3 = [[word for word in mayodef.lower().split() if word not in stoplist]]\n",
    "print texts\n",
    "print texts2"
   ]
  },
  {
   "cell_type": "code",
   "execution_count": 37,
   "metadata": {
    "collapsed": false
   },
   "outputs": [
    {
     "name": "stdout",
     "output_type": "stream",
     "text": [
      "[  3.05975322e-03   3.06197355e-04   2.38542422e-03   3.92996240e-03\n",
      "  -2.18411209e-04   4.90557356e-03   1.83018786e-03   3.87180527e-03\n",
      "   4.86988248e-03  -2.82936613e-03  -1.85863441e-03  -7.49925384e-04\n",
      "  -4.67440346e-03   2.01879558e-03  -1.85370713e-03   1.74093805e-03\n",
      "  -1.17990885e-05   8.06726108e-04  -3.35370074e-03  -4.54080850e-03\n",
      "   2.78646289e-03   3.89109882e-05   2.23106486e-04   4.69029974e-03\n",
      "   1.46635168e-03  -2.70153256e-03   9.46767803e-04   4.68754582e-03\n",
      "   4.96825390e-03  -4.96543199e-03  -2.80864048e-03   3.27006564e-05\n",
      "  -2.66863662e-03  -5.15601656e-04   1.09017629e-03   1.15457631e-03\n",
      "  -4.21691639e-03   4.90501802e-03  -4.79113683e-03  -4.75177774e-03\n",
      "  -4.32462478e-03  -2.18355213e-03   7.72437430e-04   5.80934633e-04\n",
      "  -4.87701828e-03  -3.99873266e-03   3.73888062e-03   2.46026157e-03\n",
      "   3.06714163e-03   1.96975446e-03   8.55190097e-04   1.44930079e-03\n",
      "   4.30834154e-03   2.97467574e-03   3.06936633e-03  -2.85251695e-03\n",
      "  -2.07878556e-03  -2.13842350e-03   1.07290945e-03  -6.74558629e-04\n",
      "   1.93500635e-03  -4.04642615e-03   3.47529445e-03  -1.77483587e-03\n",
      "  -2.52660853e-03  -2.15524016e-03   2.34022643e-03  -3.23960767e-03\n",
      "  -3.36855394e-03  -6.50149945e-04   1.93804922e-03   3.64339817e-03\n",
      "   3.85286775e-03   2.85496539e-03   1.40198926e-03   1.19173294e-03\n",
      "  -1.94560131e-03   4.25231084e-03  -6.82665501e-04  -5.03069302e-03\n",
      "  -1.33642345e-03   2.11641280e-04  -3.71505460e-03  -4.06534038e-03\n",
      "  -4.07524826e-03   1.11013906e-04   1.85493031e-03  -1.41949404e-03\n",
      "   3.11343512e-03  -2.87557626e-03   3.84705752e-04   3.95044597e-04\n",
      "  -2.13207561e-03  -4.80721565e-03  -1.05421909e-03   1.05041033e-03\n",
      "  -4.58286889e-03  -1.57329987e-03  -3.23120767e-04   2.88587809e-03]\n",
      "[  3.03062028e-03   2.52373517e-04   2.43190327e-03   3.88330128e-03\n",
      "  -2.22825765e-04   4.91099805e-03   1.88840507e-03   3.89017724e-03\n",
      "   4.89352131e-03  -2.83486256e-03  -1.83086761e-03  -6.38371042e-04\n",
      "  -4.63633100e-03   1.97379431e-03  -1.88712135e-03   1.65504706e-03\n",
      "  -7.48618404e-05   8.24650226e-04  -3.33739258e-03  -4.58576716e-03\n",
      "   2.80896924e-03   2.83971440e-05   2.48150754e-04   4.60609468e-03\n",
      "   1.44267059e-03  -2.61513004e-03   8.98034545e-04   4.71471157e-03\n",
      "   4.95354412e-03  -4.92164958e-03  -2.82221287e-03   4.68366961e-05\n",
      "  -2.65488448e-03  -5.10593876e-04   1.15185685e-03   1.22449035e-03\n",
      "  -4.24093613e-03   4.96877031e-03  -4.77856118e-03  -4.72695753e-03\n",
      "  -4.44548018e-03  -2.18333281e-03   7.57526490e-04   5.68029936e-04\n",
      "  -4.86255810e-03  -4.06991923e-03   3.73943569e-03   2.48119631e-03\n",
      "   3.06150876e-03   1.91195647e-03   8.85014771e-04   1.41674676e-03\n",
      "   4.31910669e-03   3.00643803e-03   3.11973388e-03  -2.90183886e-03\n",
      "  -2.13608821e-03  -2.15265644e-03   1.12261216e-03  -6.56324555e-04\n",
      "   1.89862540e-03  -4.05480107e-03   3.53290047e-03  -1.86326483e-03\n",
      "  -2.55161151e-03  -2.20550946e-03   2.38337717e-03  -3.21519631e-03\n",
      "  -3.48059693e-03  -6.44041225e-04   1.97976944e-03   3.62011604e-03\n",
      "   3.89447389e-03   2.88080354e-03   1.40056643e-03   1.22824928e-03\n",
      "  -1.94190419e-03   4.31923801e-03  -7.08922045e-04  -4.95001208e-03\n",
      "  -1.29557319e-03   2.95935431e-04  -3.62019101e-03  -3.99710098e-03\n",
      "  -4.07031924e-03   1.07309308e-04   1.90903549e-03  -1.48341490e-03\n",
      "   3.10938410e-03  -2.87412014e-03   3.89291672e-04   4.10620938e-04\n",
      "  -2.16501066e-03  -4.75630118e-03  -9.48871137e-04   1.07917236e-03\n",
      "  -4.55290964e-03  -1.64644292e-03  -3.93777911e-04   2.91169598e-03]\n",
      "<type 'numpy.ndarray'>\n",
      "0.000131772082709\n"
     ]
    },
    {
     "data": {
      "text/plain": [
       "\"\\nvectorlist = []\\ni = 0\\nwhile i < len(texts[0]):\\n    k = 0\\n    while k < len(texts2[0])\\n        if texts[0][i] == texts2[0][k]:\\n            vectorlist.append(wikimodel[texts[0][i]])\\nmodel['heart']\\nmodel.most_similar('heart')\\n\""
      ]
     },
     "execution_count": 37,
     "metadata": {},
     "output_type": "execute_result"
    }
   ],
   "source": [
    "%matplotlib inline\n",
    "logging.basicConfig(format='%(asctime)s : %(levelname)s : %(message)s', level=logging.INFO)\n",
    "\n",
    "wikimodel = gensim.models.Word2Vec(texts, size=100, window=5, min_count=1, workers=4, sg=1)\n",
    "webmdmodel = gensim.models.Word2Vec(texts2, size=100, window=5, min_count=1, workers=4, sg=1)\n",
    "mayomodel = gensim.models.Word2Vec(texts3, size=100, window=5, min_count=1, workers=4, sg=1)\n",
    "\n",
    "#dictionary = corpora.Dictionary(texts)\n",
    "#corpus = [dictionary.doc2bow(text) for text in texts]\n",
    "#print model['blood']\n",
    "#plt.hist(model['blood'], bins=20)\n",
    "#model.most_similar(positive=['stops', 'heart'], topn=5)\n",
    "\n",
    "#print dictionary.token2id\n",
    "\n",
    "#print corpus\n",
    "#print model.vocab['over']\n",
    "print wikimodel['heart']\n",
    "print webmdmodel['heart']\n",
    "print type(wikimodel['heart'])\n",
    "print spatial.distance.cosine(wikimodel['heart'], webmdmodel['heart'])\n",
    "'''\n",
    "vectorlist = []\n",
    "i = 0\n",
    "while i < len(texts[0]):\n",
    "    k = 0\n",
    "    while k < len(texts2[0])\n",
    "        if texts[0][i] == texts2[0][k]:\n",
    "            vectorlist.append(wikimodel[texts[0][i]])\n",
    "model['heart']\n",
    "model.most_similar('heart')\n",
    "'''"
   ]
  },
  {
   "cell_type": "code",
   "execution_count": null,
   "metadata": {
    "collapsed": true
   },
   "outputs": [],
   "source": [
    "'''\n",
    "class MySentences(object):\n",
    "     def __init__(self, dirname):\n",
    "        self.dirname = dirname\n",
    " \n",
    "     def __iter__(self):\n",
    "         for fname in os.listdir(self.dirname):\n",
    "                for line in open(os.path.join(self.dirname, fname)):\n",
    "                    yield line.split()\n",
    "'''\n",
    "#sentences = MySentences('/Users/markregalla/nltk_data/corpora/gutenberg') # a memory-friendly iterator\n",
    "model = gensim.models.Word2Vec(texts, min_count=3,workers=5)\n",
    "#model.most_similar(positive=['attack'], negative=['heart'], topn=5)\n",
    "new_doc = \"myocardial\"\n",
    "new_vec = dictionary.doc2bow(new_doc.lower().split())\n",
    "print new_vec # the word \"interaction\" does not appear in the dictionary and is ignored"
   ]
  },
  {
   "cell_type": "markdown",
   "metadata": {},
   "source": [
    "###LSI"
   ]
  },
  {
   "cell_type": "code",
   "execution_count": 55,
   "metadata": {
    "collapsed": false
   },
   "outputs": [
    {
     "name": "stdout",
     "output_type": "stream",
     "text": [
      "[]\n"
     ]
    }
   ],
   "source": [
    "doc_bow = [(0, 1), (1, 1)]\n",
    "lsi = models.LsiModel(corpus, id2word=dictionary, num_topics=2)\n",
    "tfidf = models.TfidfModel(corpus)\n",
    "corpus_tfidf = tfidf[corpus]\n",
    "corpus_lsi = lsi[corpus_tfidf]\n",
    "for doc in corpus_lsi:\n",
    "    print doc"
   ]
  },
  {
   "cell_type": "code",
   "execution_count": 35,
   "metadata": {
    "collapsed": false
   },
   "outputs": [
    {
     "data": {
      "text/plain": [
       "[(0,\n",
       "  u'0.319*\"may\" + 0.319*\"heart\" + 0.160*\"infarction\" + 0.160*\"than\" + 0.160*\"more\" + 0.160*\"have\" + 0.160*\"feeling\" + 0.160*\"myocardial\" + 0.160*\"with\" + 0.160*\"chest\"')]"
      ]
     },
     "execution_count": 35,
     "metadata": {},
     "output_type": "execute_result"
    }
   ],
   "source": [
    "lsi.print_topics()"
   ]
  },
  {
   "cell_type": "code",
   "execution_count": 54,
   "metadata": {
    "collapsed": false
   },
   "outputs": [
    {
     "ename": "TypeError",
     "evalue": "coercing to Unicode: need string or buffer, list found",
     "output_type": "error",
     "traceback": [
      "\u001b[0;31m---------------------------------------------------------------------------\u001b[0m",
      "\u001b[0;31mTypeError\u001b[0m                                 Traceback (most recent call last)",
      "\u001b[0;32m<ipython-input-54-7ac4c75a3039>\u001b[0m in \u001b[0;36m<module>\u001b[0;34m()\u001b[0m\n\u001b[1;32m      1\u001b[0m \u001b[0;31m#doc = \"Human computer interaction\"\u001b[0m\u001b[0;34m\u001b[0m\u001b[0;34m\u001b[0m\u001b[0m\n\u001b[0;32m----> 2\u001b[0;31m \u001b[0mvec_bow\u001b[0m \u001b[0;34m=\u001b[0m \u001b[0mdictionary\u001b[0m\u001b[0;34m.\u001b[0m\u001b[0mdoc2bow\u001b[0m\u001b[0;34m(\u001b[0m\u001b[0mtexts2\u001b[0m\u001b[0;34m)\u001b[0m\u001b[0;34m\u001b[0m\u001b[0m\n\u001b[0m\u001b[1;32m      3\u001b[0m \u001b[0mvec_lsi\u001b[0m \u001b[0;34m=\u001b[0m \u001b[0mlsi\u001b[0m\u001b[0;34m[\u001b[0m\u001b[0mvec_bow\u001b[0m\u001b[0;34m]\u001b[0m \u001b[0;31m# convert the query to LSI space\u001b[0m\u001b[0;34m\u001b[0m\u001b[0m\n\u001b[1;32m      4\u001b[0m \u001b[0;32mprint\u001b[0m\u001b[0;34m(\u001b[0m\u001b[0mvec_lsi\u001b[0m\u001b[0;34m)\u001b[0m\u001b[0;34m\u001b[0m\u001b[0m\n\u001b[1;32m      5\u001b[0m \u001b[0;34m[\u001b[0m\u001b[0;34m(\u001b[0m\u001b[0;36m0\u001b[0m\u001b[0;34m,\u001b[0m \u001b[0;34m-\u001b[0m\u001b[0;36m0.461821\u001b[0m\u001b[0;34m)\u001b[0m\u001b[0;34m,\u001b[0m \u001b[0;34m(\u001b[0m\u001b[0;36m1\u001b[0m\u001b[0;34m,\u001b[0m \u001b[0;36m0.070028\u001b[0m\u001b[0;34m)\u001b[0m\u001b[0;34m]\u001b[0m\u001b[0;34m\u001b[0m\u001b[0m\n",
      "\u001b[0;32m/Users/markregalla/anaconda/lib/python2.7/site-packages/gensim/corpora/dictionary.pyc\u001b[0m in \u001b[0;36mdoc2bow\u001b[0;34m(self, document, allow_update, return_missing)\u001b[0m\n\u001b[1;32m    152\u001b[0m         \u001b[0mcounter\u001b[0m \u001b[0;34m=\u001b[0m \u001b[0mdefaultdict\u001b[0m\u001b[0;34m(\u001b[0m\u001b[0mint\u001b[0m\u001b[0;34m)\u001b[0m\u001b[0;34m\u001b[0m\u001b[0m\n\u001b[1;32m    153\u001b[0m         \u001b[0;32mfor\u001b[0m \u001b[0mw\u001b[0m \u001b[0;32min\u001b[0m \u001b[0mdocument\u001b[0m\u001b[0;34m:\u001b[0m\u001b[0;34m\u001b[0m\u001b[0m\n\u001b[0;32m--> 154\u001b[0;31m             \u001b[0mcounter\u001b[0m\u001b[0;34m[\u001b[0m\u001b[0mw\u001b[0m \u001b[0;32mif\u001b[0m \u001b[0misinstance\u001b[0m\u001b[0;34m(\u001b[0m\u001b[0mw\u001b[0m\u001b[0;34m,\u001b[0m \u001b[0municode\u001b[0m\u001b[0;34m)\u001b[0m \u001b[0;32melse\u001b[0m \u001b[0municode\u001b[0m\u001b[0;34m(\u001b[0m\u001b[0mw\u001b[0m\u001b[0;34m,\u001b[0m \u001b[0;34m'utf-8'\u001b[0m\u001b[0;34m)\u001b[0m\u001b[0;34m]\u001b[0m \u001b[0;34m+=\u001b[0m \u001b[0;36m1\u001b[0m\u001b[0;34m\u001b[0m\u001b[0m\n\u001b[0m\u001b[1;32m    155\u001b[0m \u001b[0;34m\u001b[0m\u001b[0m\n\u001b[1;32m    156\u001b[0m         \u001b[0mtoken2id\u001b[0m \u001b[0;34m=\u001b[0m \u001b[0mself\u001b[0m\u001b[0;34m.\u001b[0m\u001b[0mtoken2id\u001b[0m\u001b[0;34m\u001b[0m\u001b[0m\n",
      "\u001b[0;31mTypeError\u001b[0m: coercing to Unicode: need string or buffer, list found"
     ]
    }
   ],
   "source": [
    "vec_bow = dictionary.doc2bow(texts2)\n",
    "vec_lsi = lsi[vec_bow] # convert the query to LSI space\n",
    "print(vec_lsi)\n",
    "[(0, -0.461821), (1, 0.070028)]"
   ]
  },
  {
   "cell_type": "markdown",
   "metadata": {},
   "source": [
    "###Use FuzzyWuzzy"
   ]
  },
  {
   "cell_type": "code",
   "execution_count": 22,
   "metadata": {
    "collapsed": false
   },
   "outputs": [
    {
     "name": "stdout",
     "output_type": "stream",
     "text": [
      "58\n"
     ]
    }
   ],
   "source": [
    "print fuzz.token_set_ratio(wikisentences[0], mayosentences[0])"
   ]
  },
  {
   "cell_type": "code",
   "execution_count": 16,
   "metadata": {
    "collapsed": false
   },
   "outputs": [
    {
     "data": {
      "text/plain": [
       "u'Myocardial infarction (MI) or acute myocardial infarction (AMI), commonly known as a heart attack, occurs when blood flow stops to a part of the heart causing damage to the heart muscle.'"
      ]
     },
     "execution_count": 16,
     "metadata": {},
     "output_type": "execute_result"
    }
   ],
   "source": [
    "wikisentences[0]"
   ]
  },
  {
   "cell_type": "code",
   "execution_count": 17,
   "metadata": {
    "collapsed": false
   },
   "outputs": [
    {
     "data": {
      "text/plain": [
       "u'A heart attack occurs when the flow of blood to the heart is blocked, most often by a build-up of fat, cholesterol and other substances, which form a plaque in the arteries that feed the heart (coronary arteries).'"
      ]
     },
     "execution_count": 17,
     "metadata": {},
     "output_type": "execute_result"
    }
   ],
   "source": [
    "mayosentences[0]"
   ]
  },
  {
   "cell_type": "markdown",
   "metadata": {},
   "source": [
    "###Text summarization:\n",
    "http://glowingpython.blogspot.com/2014/09/text-summarization-with-nltk.html"
   ]
  },
  {
   "cell_type": "code",
   "execution_count": 36,
   "metadata": {
    "collapsed": true
   },
   "outputs": [],
   "source": [
    "from nltk.tokenize import sent_tokenize,word_tokenize\n",
    "from nltk.corpus import stopwords\n",
    "from collections import defaultdict\n",
    "from string import punctuation\n",
    "from heapq import nlargest\n",
    "\n",
    "class FrequencySummarizer:\n",
    "  def __init__(self, min_cut=0.1, max_cut=0.9):\n",
    "    \"\"\"\n",
    "     Initilize the text summarizer.\n",
    "     Words that have a frequency term lower than min_cut \n",
    "     or higer than max_cut will be ignored.\n",
    "    \"\"\"\n",
    "    self._min_cut = min_cut\n",
    "    self._max_cut = max_cut \n",
    "    self._stopwords = set(stopwords.words('english') + list(punctuation))\n",
    "\n",
    "  def _compute_frequencies(self, word_sent):\n",
    "    \"\"\" \n",
    "      Compute the frequency of each of word.\n",
    "      Input: \n",
    "       word_sent, a list of sentences already tokenized.\n",
    "      Output: \n",
    "       freq, a dictionary where freq[w] is the frequency of w.\n",
    "    \"\"\"\n",
    "    freq = defaultdict(int)\n",
    "    for s in word_sent:\n",
    "      for word in s:\n",
    "        if word not in self._stopwords:\n",
    "          freq[word] += 1\n",
    "    # frequencies normalization and fitering\n",
    "    m = float(max(freq.values()))\n",
    "    for w in freq.keys():\n",
    "      freq[w] = freq[w]/m\n",
    "      if freq[w] >= self._max_cut or freq[w] <= self._min_cut:\n",
    "        del freq[w]\n",
    "    return freq\n",
    "\n",
    "  def summarize(self, text, n):\n",
    "    \"\"\"\n",
    "      Return a list of n sentences \n",
    "      which represent the summary of text.\n",
    "    \"\"\"\n",
    "    sents = sent_tokenize(text)\n",
    "    \n",
    "    #assert that the number of sentences in the paragraph to summarize \n",
    "    #is greater than the number of desired summary sentences\n",
    "    #remove if you run across a paragraph to summarize that is only 1 sentence\n",
    "    #assert n <= len(sents)        \n",
    "    \n",
    "    word_sent = [word_tokenize(s.lower()) for s in sents]\n",
    "    self._freq = self._compute_frequencies(word_sent)\n",
    "    ranking = defaultdict(int)\n",
    "    for i,sent in enumerate(word_sent):\n",
    "      for w in sent:\n",
    "        if w in self._freq:\n",
    "          ranking[i] += self._freq[w]\n",
    "    sents_idx = self._rank(ranking, n)    \n",
    "    return [sents[j] for j in sents_idx]\n",
    "\n",
    "  def _rank(self, ranking, n):\n",
    "    \"\"\" return the first n sentences with highest ranking \"\"\"\n",
    "    return nlargest(n, ranking, key=ranking.get)"
   ]
  },
  {
   "cell_type": "code",
   "execution_count": 3,
   "metadata": {
    "collapsed": true
   },
   "outputs": [],
   "source": [
    "#To test the summarizer, let's create a function that extract the natural language \n",
    "#from a html page using BeautifulSoup:\n",
    "import urllib2\n",
    "from bs4 import BeautifulSoup\n",
    "\n",
    "def get_only_text(url):\n",
    " \"\"\" \n",
    "  return the title and the text of the article\n",
    "  at the specified url\n",
    " \"\"\"\n",
    " page = urllib2.urlopen(url).read().decode('utf8')\n",
    " soup = BeautifulSoup(page)\n",
    " text = ' '.join(map(lambda p: p.text, soup.find_all('p')))\n",
    " return soup.title.text, text"
   ]
  },
  {
   "cell_type": "code",
   "execution_count": 37,
   "metadata": {
    "collapsed": false
   },
   "outputs": [
    {
     "name": "stdout",
     "output_type": "stream",
     "text": [
      "<type 'list'>\n",
      "----------------------------------\n",
      "0\n",
      "* Myocardial infarction (MI) or acute myocardial infarction (AMI), commonly known as a heart attack, occurs when blood flow stops to a part of the heart causing damage to the heart muscle.\n",
      "* Other symptoms may include shortness of breath, nausea, feeling faint, a cold sweat, or feeling tired.\n",
      "----------------------------------\n",
      "1\n",
      "* [5] MIs are less commonly caused by coronary artery spasms, which may be due to cocaine, significant emotional stress, and extreme cold, among others.\n",
      "* [5] Risk factors include high blood pressure, smoking, diabetes, lack of exercise, obesity, high blood cholesterol, poor diet, and excessive alcohol intake, among others.\n",
      "----------------------------------\n",
      "2\n",
      "* [12] In ST elevation MIs treatments which attempt to restore blood flow to the heart are typically recommended and include angioplasty, where the arteries are pushed open, or thrombolysis, where the blockage is removed using medications.\n",
      "* [2] People who have a non-ST elevation myocardial infarction (NSTEMI) are often managed with the blood thinner heparin, with the additional use angioplasty in those at high risk.\n",
      "----------------------------------\n",
      "3\n",
      "* Worldwide, more than 3 million people have ST elevation MIs and 4 million have NSTEMIs each year.\n",
      "* [15] About one million people have an MI each year in the United States.\n",
      "----------------------------------\n",
      "4\n",
      "* Levine's sign, in which a person localizes the chest pain by clenching their fists over their sternum, has classically been thought to be predictive of cardiac chest pain, although a prospective observational study showed it had a poor positive predictive value.\n",
      "* Pain radiates most often to the left arm, but may also radiate to the lower jaw, neck, right arm, back, and upper abdomen,[18] where it may mimic heartburn.\n",
      "----------------------------------\n",
      "5\n",
      "* These symptoms are likely induced by a massive surge of catecholamines from the sympathetic nervous system,[21] which occurs in response to pain and the blood flow abnormalities that result from dysfunction of the heart muscle.\n",
      "* Loss of consciousness (due to inadequate blood flow to the brain and cardiogenic shock) and sudden death (frequently due to the development of ventricular fibrillation) can occur in MIs.\n",
      "----------------------------------\n",
      "6\n",
      "* Fatigue, sleep disturbances, and dyspnea have been reported as frequently occurring symptoms that may manifest as long as one month before the actual clinically manifested ischemic event.\n",
      "* [22][23] Women also report more numerous symptoms compared with men (2.6 on average vs. 1.8 symptoms in men).\n",
      "----------------------------------\n",
      "7\n",
      "* [4] A silent course is more common in the elderly,[4] in people with diabetes mellitus[26] and after heart transplantation, probably because the donor heart is not fully innervated by the nervous system of the recipient.\n",
      "* [27] In people with diabetes, differences in pain threshold, autonomic neuropathy, and psychological factors have been cited as possible explanations for the lack of symptoms.\n",
      "----------------------------------\n",
      "8\n",
      "----------------------------------\n",
      "9\n",
      "* Many of the risk factors for myocardial infarction are modifiable and thus many cases may be preventable.\n",
      "----------------------------------\n",
      "10\n",
      "* [29][30] Less common causes include stress-related causes such as job stress, which accounts for about 3% of cases,[29] and chronic high stress levels.\n",
      "* Smoking appears to be the cause of about 36% and obesity the cause of 20% of coronary artery disease.\n",
      "----------------------------------\n",
      "11\n",
      "* [33] Other factors that increase the risk of MI and are associated with worse outcomes after an MI include lack of physical activity[34] and psychosocial factors including low socioeconomic status, social isolation, and negative emotions.\n",
      "* Tobacco smoking (including secondhand smoke)[32] and short-term exposure to air pollution such as carbon monoxide, nitrogen dioxide, and sulfur dioxide (but not ozone) have been associated with MI.\n",
      "----------------------------------\n",
      "12\n",
      "* There is little evidence that reducing dietary saturated fat or increasing polyunsaturated fat intake affects heart attack risk.\n",
      "* [37] Dietary cholesterol also does not appear to have a significant effect on blood cholesterol and thus recommendations about its consumption may not be needed.\n",
      "----------------------------------\n",
      "13\n",
      "* Diabetes mellitus (type 1 or 2),[39] high blood pressure,[32] dyslipidemia/high levels of blood cholesterol (abnormal levels of lipoproteins in the blood), particularly high low-density lipoprotein, low high-density lipoprotein, high triglycerides,[32] and obesity[40] (defined by a body mass index of more than 30 kg/m², or alternatively by waist circumference or waist-hip ratio) have all been linked to MI.\n",
      "----------------------------------\n",
      "14\n",
      "* A number of acute and chronic infections including Chlamydophila pneumoniae, influenza, Helicobacter pylori, and Porphyromonas gingivalis among others have been linked to atherosclerosis and myocardial infarction.\n",
      "* [41] As of 2013, there is no evidence of benefit from antibiotics or vaccination, however, calling the association into question.\n",
      "----------------------------------\n",
      "15\n",
      "* The following genes have an association with MI: PCSK9, SORT1, MIA3, WDR12, MRAS, PHACTR1, LPA, TCF21, MTHFDSL, ZC3HC1, CDKN2A, 2B, ABO, PDGF0, APOA5, MNF1ASM283, COL4A1, HHIPC1, SMAD3, ADAMTS7, RAS1, SMG6, SNF8, LDLR, SLC5A3, MRPS6, KCNE2.\n",
      "* [44] Strongest association of MI has been found with the 9p21 genomic locus, which contains genes CDKN2A & 2B, although the single nucleotide polymorphisms that are implicated are within a non-coding region.\n",
      "----------------------------------\n",
      "16\n",
      "* [34] Family history of ischemic heart disease or MI, particularly if one has a first-degree relative (father, brother, mother, sister) who suffered a 'premature' myocardial infarction (defined as occurring at or younger than age 55 years (men) or 65 (women)).\n",
      "* At any given age, men are more at risk than women, particularly before menopause,[45] but because in general women live longer than men, ischemic heart disease causes slightly more total deaths in women.\n",
      "----------------------------------\n",
      "17\n",
      "* Women who use combined oral contraceptive pills have a modestly increased risk of myocardial infarction, especially in the presence of other risk factors, such as smoking.\n",
      "* [47] Evidence suggests that heart attacks are at least three times more likely to occur in the morning than in the late evening.\n",
      "----------------------------------\n",
      "18\n",
      "* [50][51] Atherosclerosis is the gradual buildup of cholesterol and fibrous tissue in plaques in the wall of arteries (in this case, the coronary arteries), typically over decades.\n",
      "* Acute myocardial infarction refers to two subtypes of acute coronary syndrome, namely non-ST-elevated and ST-elevated MIs, which are most frequently (but not always) a manifestation of coronary artery disease.\n",
      "----------------------------------\n",
      "19\n",
      "* If impaired blood flow to the heart lasts long enough, it triggers a process called the ischemic cascade; the heart cells in the territory of the occluded coronary artery die (chiefly through necrosis) and do not grow back.\n",
      "* This myocardial scarring also puts the person at risk for potentially life-threatening abnormal heart rhythms (arrhythmias), and may result in the formation of a ventricular aneurysm that can rupture with catastrophic consequences.\n",
      "----------------------------------\n",
      "20\n",
      "* The most serious of these arrhythmias is ventricular fibrillation (V-Fib/VF), an extremely fast and chaotic heart rhythm that is the leading cause of sudden cardiac death.\n",
      "* The difference in conduction velocity between injured and uninjured tissue can trigger re-entry or a feedback loop that is believed to be the cause of many lethal arrhythmias.\n",
      "----------------------------------\n",
      "21\n",
      "* The device works by delivering an electrical shock to the person to depolarize a critical mass of the heart muscle, in effect \"rebooting\" the heart.\n",
      "* This therapy is time-dependent, and the odds of successful defibrillation decline rapidly after the onset of cardiopulmonary arrest.\n",
      "----------------------------------\n",
      "22\n",
      "* [56] The use of high-sensitivity CRP assays as a means of screening the general population is advised against, but it may be used optionally at the physician's discretion in those who already present with other risk factors or known coronary artery disease.\n",
      "* Elevated CRP blood levels, especially measured with high-sensitivity assays, can predict the risk of MI, as well as stroke and development of diabetes.\n",
      "----------------------------------\n",
      "23\n",
      "* Several studies have shown that coronary calcium can provide predictive information beyond that of classical risk factors.\n",
      "* Calcium deposits in the coronary arteries can be detected with CT scans.\n",
      "----------------------------------\n",
      "24\n",
      "* Hyperhomocysteinemia (high blood levels of the amino acid homocysteine) in homocysteinuria is associated with premature atherosclerosis;[61] whether elevated homocysteine in the normal range is causal is controversial.\n",
      "* [62]\n",
      "----------------------------------\n",
      "25\n",
      "----------------------------------\n",
      "26\n",
      "----------------------------------\n",
      "27\n",
      "* WHO criteria[65] formulated in 1979 have classically been used to diagnose MI; a patient is diagnosed with MI if two (probable) or three (definite) of the following criteria are satisfied:\n",
      "----------------------------------\n",
      "28\n",
      "----------------------------------\n",
      "29\n",
      "* [49] A STEMI is the combination of symptoms related to poor oxygenation of the heart with elevation of the ST segments on the electrocardiogram followed by an increase in proteins in the blood related to heart muscle's death.\n",
      "* Myocardial infarctions are generally classified into ST elevation MI (STEMI) and non-ST elevation MI (NSTEMI).\n",
      "----------------------------------\n",
      "30\n",
      "* The phrase \"heart attack\" is often used non-specifically to refer to a myocardial infarction and to sudden cardiac death.\n",
      "* An MI is different from—but can cause—cardiac arrest, where the heart is not contracting at all or so poorly that all vital organs cease to function.\n",
      "----------------------------------\n",
      "31\n",
      "----------------------------------\n",
      "32\n",
      "*  The terms Q wave and non-Q wave MI were previously used to indicate STEMI and non-STEMI respectively.\n",
      "* [67]\n",
      "----------------------------------\n",
      "33\n",
      "* [15] This must be greater than 2 mm (0.2 mV) for males and greater than 1.5 mm (0.15mV) in females if in leads V2 and V3 or greater than 1 mm (0.1 mV) if it is in other ECG leads.\n",
      "* For a person to qualify as having a STEMI, in addition to reported angina, the ECG must show new ST elevation in two or more adjacent ECG leads.\n",
      "----------------------------------\n",
      "34\n",
      "* While there are a number of different biomarkers, troponins are considered to be the best[15] and reliance on older tests (such as CK-MB) or myoglobin is discouraged.\n",
      "* [69] Copeptin may be useful to rule out MI rapidly when used along with troponin.\n",
      "----------------------------------\n",
      "35\n",
      "----------------------------------\n",
      "36\n",
      "* [73] Imaging tests such as stress radionuclide myocardial perfusion imaging or stress echocardiography can confirm a diagnosis when a patient's history, physical exam, ECG, and cardiac biomarkers suggest the likelihood of a problem.\n",
      "* a \"MIBI scan\") or thallium-201 chloride can be used in nuclear medicine to visualize areas of reduced blood flow in conjunction with physiological or pharmacological stress.\n",
      "----------------------------------\n",
      "37\n",
      "----------------------------------\n",
      "38\n",
      "----------------------------------\n",
      "39\n",
      "* On a population level, public health measures may be used to reduce unhealthy diets (excessive salt, saturated fat and trans fat) including food labelling and marketing requirements as well as requirements for catering and restaurants, and stimulating physical activity.\n",
      "* This may be part of regional cardiovascular disease prevention programmes, or through the health impact assessment of regional and local plans and policies.\n",
      "----------------------------------\n",
      "40\n",
      "* [76] Other recommendations include increasing the intake of wholegrain starch, reducing sugar intake (particularly of refined sugar), consuming five portions of fruit and vegetables daily, consuming two or more portions of fish per week, and consuming 4–5 portions of unsalted nuts, seeds, or legumes per week.\n",
      "* People are often advised to keep a diet where less than 30% of the energy intake derives from fat, a diet that contains less than 7% of the energy intake in the form of saturated fat, and a diet that contains less than 300 mg/day of cholesterol.\n",
      "----------------------------------\n",
      "41\n",
      "* Physical activity can reduce the risk of cardiovascular disease, and people at risk are advised to engage in 150 minutes of moderate or 75 minutes of vigorous intensity aerobic exercise a week.\n",
      "* [76] Keeping a healthy weight, drinking alcohol within the recommended limits, and quitting smoking are measures that also appear to reduce the risk of cardiovascular disease.\n",
      "----------------------------------\n",
      "42\n",
      "* [79][80] Nevertheless, many clinical practice guidelines continue to recommend aspirin for primary prevention,[81] and some researchers feel that those with very high cardiovascular risk but low risk of bleeding should continue to receive aspirin.\n",
      "* people with or without diabetes), there does not appear to be a benefit strong enough to outweigh the risk of excessive bleeding.\n",
      "----------------------------------\n",
      "43\n",
      "* Cholesterol-lowering drugs from the statin class may be used in those at an elevated risk of cardiovascular disease; this can be calculated with validated risk prediction tools such as QRISK2.\n",
      "* [76]\n",
      "----------------------------------\n",
      "44\n",
      "----------------------------------\n",
      "45\n",
      "* Treatment attempts to save as much viable heart muscle as possible and to prevent further complications, hence the phrase \"time is [heart] muscle\".\n",
      "* [68] Other analgesics such as nitrous oxide are of unknown benefit.\n",
      "----------------------------------\n",
      "46\n",
      "* [68] A 2015 meta-analysis concluded that the use of an intra-aortic balloon pump during an acute MI with or without cardiogenic shock does not reduce mortality.\n",
      "* [68] More recently, routine use was found to lead to increased mortality and infarct size.\n",
      "----------------------------------\n",
      "47\n",
      "----------------------------------\n",
      "48\n",
      "* [91] If despite thrombolysis there is significant cardiogenic shock, continued severe chest pain, or less than a 50% improvement in ST elevation on the ECG recording after 90 minutes, then rescue PCI is indicated emergently.\n",
      "* The first thrombolysis agent was streptokinase, but most thrombolysis agents used currently are artificial forms of the human enzyme tissue plasminogen activator (tPA): reteplase, alteplase, and tenecteplase.\n",
      "----------------------------------\n",
      "49\n",
      "----------------------------------\n",
      "50\n",
      "* [92][94][95] After PCI, people are generally placed on dual antiplatelet therapy for at least a year (which is generally aspirin and clopidogrel).\n",
      "* If PCI cannot be performed within 90 to 120 minutes then thrombolysis, preferably within 30 minutes of arrival to hospital, is recommended.\n",
      "----------------------------------\n",
      "51\n",
      "* Those who have had cardiac arrest may benefit from targeted temperature management with evaluation for implementation of hypothermia protocols.\n",
      "* Furthermore those with cardiac arrest, and ST elevation at any time, should usually have angiography.\n",
      "----------------------------------\n",
      "52\n",
      "* In the absence of ST elevation, formal diagnosis of MI is delayed until a blood test for biomarkers (usually troponin) can be performed; this is 3–6 hours after the onset of symptoms.\n",
      "* using the GRACE score)[72] and the presence of other ECG changes and clinical features[68] determines ongoing management.\n",
      "----------------------------------\n",
      "53\n",
      "* [68][72] Depending on whether early PCI is planned, a factor Xa inhibitor or a potentiator of antithrombin (fondaparinux or low molecular weight heparin respectively) may be added.\n",
      "* [68][72] Clopidogrel is added in many cases, particularly if the risk of cardiovascular events is felt to be high and early PCI is being considered.\n",
      "----------------------------------\n",
      "54\n",
      "* Heparins in those who have had an NSTEMI or unstable angina do not change the risk of death.\n",
      "* [98] They do decrease the risk of having a further myocardial infarction.\n",
      "----------------------------------\n",
      "55\n",
      "* [99] A 2014 review of P2Y12 inhibitors such as clopidogrel found they do not change the risk of death when given to people with a suspected NSTEMI prior to PCI.\n",
      "* As of 2011, P2Y12 inhibitors are recommended for 12 months following NSTEMI in Europe.\n",
      "----------------------------------\n",
      "56\n",
      "* Cardiac rehabilitation benefits many who have experienced myocardial infarction, even if there has been substantial heart damage and resultant left ventricular failure; ideally other medical conditions that could interfere with participation should be managed optimally.\n",
      "* The program may include lifestyle advice, exercise, social support, as well as recommendations about driving, flying, sport participation, stress management, and sexual intercourse.\n",
      "----------------------------------\n",
      "57\n",
      "----------------------------------\n",
      "58\n",
      "----------------------------------\n",
      "59\n",
      "----------------------------------\n",
      "60\n",
      "* In those who have an STEMI in the United States, between 5 to 6 percent die before leaving the hospital and 7 to 18 percent die within a year.\n",
      "* [15]\n",
      "----------------------------------\n",
      "61\n",
      "* One study found 0.4% of patients with a low-risk profile died after 90 days, whereas in high-risk people it was 21.1%.\n",
      "* Using variables available in the emergency room, people with a higher risk of adverse outcome can be identified.\n",
      "----------------------------------\n",
      "62\n",
      "* Some risk factors for death include age, hemodynamic parameters (such as heart failure, cardiac arrest on admission, systolic blood pressure, or Killip class of two or greater), ST-segment deviation, diabetes, serum creatinine, peripheral vascular disease, and elevation of cardiac markers.\n",
      "* [108][109][110] Assessment of left ventricular ejection fraction may increase the predictive power.\n",
      "----------------------------------\n",
      "63\n",
      "* There are TIMI (Thrombolysis in Myocardial Infarction) scores for unstable angina or NSTEMI[114] and STEMI,[115] both using routine patient data from history taking, medication use and lab results.\n",
      "* Throughout hospital departments, practitioners use TIMI scores to assess mortality risk.\n",
      "----------------------------------\n",
      "64\n",
      "* Acute complications may include heart failure if the damaged heart is no longer able to pump blood adequately around the body; aneurysm of the left ventricle myocardium; ventricular septal rupture or free wall rupture; mitral regurgitation, in particular if the infarction causes dysfunction of the papillary muscle; Dressler's syndrome; and abnormal heart rhythms, such as ventricular fibrillation, ventricular tachycardia, atrial fibrillation, and heart block.\n",
      "* Complications may occur immediately following the heart attack (in the acute phase), or may need time to develop (a chronic problem).\n",
      "----------------------------------\n",
      "65\n",
      "* The World Health Organization estimated in 2004, that 12.2% of worldwide deaths were from ischemic heart disease;[116] with it being the leading cause of death in high- or middle-income countries and second only to lower respiratory infections in lower-income countries.\n",
      "* Myocardial infarction is a common presentation of coronary artery disease.\n",
      "----------------------------------\n",
      "66\n",
      "* Rates of death from ischemic heart disease (IHD) have slowed or declined in most high-income countries, although cardiovascular disease still accounted for one in three of all deaths in the USA in 2008.\n",
      "* [117] For example rates of death from cardiovascular disease have decreased almost a third between 2001 and 2011 in the United States.\n",
      "----------------------------------\n",
      "67\n",
      "* [119] Globally, disability adjusted life years (DALYs) lost to ischemic heart disease are predicted to account for 5.5% of total DALYs in 2030, making it the second-most-important cause of disability (after unipolar depressive disorder), as well as the leading cause of death by this date.\n",
      "* For example in India, IHD had become the leading cause of death by 2004, accounting for 1.46 million deaths (14% of total deaths) and deaths due to IHD were expected to double during 1985–2015.\n",
      "----------------------------------\n",
      "68\n",
      "----------------------------------\n",
      "69\n",
      "----------------------------------\n",
      "70\n",
      "* In general, a heart attack is not covered;[121] however, it may be a work-related injury if it results, for example, from unusual emotional stress or unusual exertion.\n",
      "* In some countries or states, a person having suffered from an MI may be prevented from participating in activity that puts other people's lives at risk, for example driving a car or flying an airplane.\n",
      "----------------------------------\n",
      "71\n",
      "----------------------------------\n",
      "72\n",
      "* One study demonstrated that patients who receive stem cell treatment by coronary artery injections of stem cells derived from their own bone marrow after an MI show small but statistically significant improvements in left ventricular ejection fraction and end-diastolic volume not seen with placebo.\n",
      "* The larger the initial infarct size, the greater the effect of the infusion.\n",
      "----------------------------------\n",
      "73\n",
      "* Currently, three biomaterial and tissue engineering approaches are used for the treatment of post-MI conditions, but these are in an even earlier stage of medical research.\n",
      "* The final approach entails injecting cells and/or a scaffold into the myocardium to create in situ-engineered cardiac tissue.\n",
      "74\n"
     ]
    }
   ],
   "source": [
    "#We can finally apply our summarizer on a set of articles extracted from the BBC news feed:\n",
    "feed_xml = urllib2.urlopen('https://en.wikipedia.org/wiki/Myocardial_infarction').read()\n",
    "\n",
    "#response = requests.get('https://en.wikipedia.org/wiki/Myocardial_infarction')\n",
    "#page = response.text\n",
    "#soup = BeautifulSoup(page, 'html.parser')\n",
    "\n",
    "#feed = BeautifulSoup(feed_xml.decode('utf8'), 'html.parser')\n",
    "feed = BeautifulSoup(page, 'html.parser')\n",
    "\n",
    "to_summarize = map(lambda p: p.text, feed.find_all('p'))\n",
    "print type(to_summarize)\n",
    "i = 0\n",
    "fs = FrequencySummarizer()\n",
    "for article_url in to_summarize:  #to_summarize is a list of text to be summarized\n",
    "  #title, text = get_only_text(article_url)\n",
    "  print '----------------------------------'\n",
    "  #print title\n",
    "  print i\n",
    "  #for s in fs.summarize(text, 2):\n",
    "  for s in fs.summarize(article_url, 2):  #2nd argument is desired number of summary sentences\n",
    "      print '*', s                        #if there is only 1 sentence to summarize, assertion error will return\n",
    "  i += 1\n",
    "\n",
    "print len(to_summarize)"
   ]
  },
  {
   "cell_type": "code",
   "execution_count": null,
   "metadata": {
    "collapsed": true
   },
   "outputs": [],
   "source": []
  }
 ],
 "metadata": {
  "kernelspec": {
   "display_name": "Python 2",
   "language": "python",
   "name": "python2"
  },
  "language_info": {
   "codemirror_mode": {
    "name": "ipython",
    "version": 2
   },
   "file_extension": ".py",
   "mimetype": "text/x-python",
   "name": "python",
   "nbconvert_exporter": "python",
   "pygments_lexer": "ipython2",
   "version": "2.7.10"
  }
 },
 "nbformat": 4,
 "nbformat_minor": 0
}
