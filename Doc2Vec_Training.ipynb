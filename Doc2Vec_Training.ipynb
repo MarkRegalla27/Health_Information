{
 "cells": [
  {
   "cell_type": "code",
   "execution_count": 142,
   "metadata": {
    "collapsed": true
   },
   "outputs": [],
   "source": [
    "import requests\n",
    "from bs4 import BeautifulSoup\n",
    "import re\n",
    "from sklearn.feature_extraction.text import CountVectorizer\n",
    "import pandas as pd\n",
    "import numpy as np\n",
    "from sklearn.feature_extraction.text import TfidfVectorizer\n",
    "from sklearn.naive_bayes import MultinomialNB\n",
    "from fuzzywuzzy import fuzz\n",
    "from fuzzywuzzy import process\n",
    "import matplotlib.pyplot as plt"
   ]
  },
  {
   "cell_type": "code",
   "execution_count": 2,
   "metadata": {
    "collapsed": true
   },
   "outputs": [],
   "source": [
    "import numpy as np\n",
    "#import pandas as pd\n",
    "#import re\n",
    "import os\n",
    "import codecs\n",
    "#from sklearn import feature_extraction\n",
    "import mpld3"
   ]
  },
  {
   "cell_type": "code",
   "execution_count": 59,
   "metadata": {
    "collapsed": true
   },
   "outputs": [],
   "source": [
    "#Doc2Vec/Word2vec packages\n",
    "import nltk\n",
    "from nltk.tokenize import sent_tokenize\n",
    "import gensim\n",
    "from gensim import corpora, models, similarities\n",
    "import logging\n",
    "import os\n",
    "import wikipedia\n",
    "import random\n",
    "import json"
   ]
  },
  {
   "cell_type": "code",
   "execution_count": null,
   "metadata": {
    "collapsed": true
   },
   "outputs": [],
   "source": [
    "class mywikipedia(wikipedia.WikipediaPage):\n",
    "    def __load(self, redirect=True, preload=False):\n"
   ]
  },
  {
   "cell_type": "markdown",
   "metadata": {},
   "source": [
    "###Loop through many wikipedia pages\n",
    "Runs them through training model\n",
    "https://en.wikipedia.org/wiki/Special:ApiSandbox#action=query&prop=info&format=json&inprop=url&pageids=1000005"
   ]
  },
  {
   "cell_type": "code",
   "execution_count": 167,
   "metadata": {
    "collapsed": false,
    "scrolled": true
   },
   "outputs": [
    {
     "name": "stdout",
     "output_type": "stream",
     "text": [
      "100\n",
      "200\n",
      "[1000003, 1000007, 1000021, 1000025, 1000027, 1000028, 1000032, 1000034, 1000035, 1000037, 1000041, 1000042, 1000048, 1000053, 1000055, 1000060, 1000065, 1000069, 1000073, 1000081, 1000102, 1000116, 1000117, 1000118, 1000127, 1000128, 1000132, 1000135, 1000136, 1000142, 1000144, 1000146, 1000149, 1000155, 1000158, 1000159, 1000162, 1000165, 1000168, 1000181, 1000188, 1000193, 1000202, 1000208, 1000214, 1000226, 1000228, 1000232, 1000245, 1000252]\n"
     ]
    }
   ],
   "source": [
    "i = 0\n",
    "counter = 0\n",
    "good_id_list = []\n",
    "while counter < 50:\n",
    "    if i == 1000:\n",
    "        print 'went on too long'\n",
    "        break\n",
    "    useid = 1000000 + i\n",
    "    try:\n",
    "        r = requests.get('https://en.wikipedia.org/w/api.php?action=query&prop=info\\\n",
    "                &format=json&inprop=url&pageids=' + str(useid))\n",
    "        rtext = r.text\n",
    "        jsontext = json.loads(rtext)\n",
    "        if jsontext['query']['pages'][str(useid)]['ns'] == 0:\n",
    "            article = requests.get('https://en.wikipedia.org/?curid=' + str(useid))\n",
    "            soup = BeautifulSoup(article.text, 'html.parser')\n",
    "            paragraphs = soup.findAll('p')\n",
    "            if len(paragraphs) >= 10:\n",
    "                good_id_list.append(useid)\n",
    "                counter += 1\n",
    "        #print wikipedia.WikipediaPage(pageid=useid)\n",
    "        i += 1\n",
    "    except:\n",
    "        i += 1\n",
    "    if i % 100 == 0:\n",
    "        print i\n",
    "print good_id_list"
   ]
  },
  {
   "cell_type": "code",
   "execution_count": 166,
   "metadata": {
    "collapsed": false
   },
   "outputs": [
    {
     "data": {
      "text/plain": [
       "5"
      ]
     },
     "execution_count": 166,
     "metadata": {},
     "output_type": "execute_result"
    }
   ],
   "source": [
    "useid = 1000076\n",
    "#article = requests.get('https://en.wikipedia.org/?curid=1000076')# + str(useid))\n",
    "article = requests.get('https://en.wikipedia.org/wiki/William_Cleland')\n",
    "soup = BeautifulSoup(article.text, 'html.parser')\n",
    "paragraphs = soup.findAll('p')\n",
    "len(paragraphs)"
   ]
  },
  {
   "cell_type": "code",
   "execution_count": 130,
   "metadata": {
    "collapsed": false
   },
   "outputs": [],
   "source": [
    "#r = requests.get('https://en.wikipedia.org/w/api.php?action=query&meta=siteinfo&\\\n",
    "#                 format=json&siprop=namespaces&pageids=1200008')\n",
    "r = requests.get('https://en.wikipedia.org/w/api.php?action=query&prop=info\\\n",
    "                &format=json&inprop=url&pageids=1000001')#   + str(useid))"
   ]
  },
  {
   "cell_type": "code",
   "execution_count": 133,
   "metadata": {
    "collapsed": false
   },
   "outputs": [
    {
     "name": "stdout",
     "output_type": "stream",
     "text": [
      "0\n"
     ]
    },
    {
     "data": {
      "text/plain": [
       "{u'batchcomplete': u'',\n",
       " u'query': {u'pages': {u'1000001': {u'ns': 0,\n",
       "    u'pageid': 1000001,\n",
       "    u'title': u'NPU'}}},\n",
       " u'warnings': {u'main': {u'*': u\"Unrecognized parameter: 'inprop'\"},\n",
       "  u'query': {u'*': u\"Unrecognized value for parameter 'prop': info                \"}}}"
      ]
     },
     "execution_count": 133,
     "metadata": {},
     "output_type": "execute_result"
    }
   ],
   "source": [
    "rtext = r.text\n",
    "jsontext = json.loads(rtext)\n",
    "print jsontext['query']['pages']['1000001']['ns']\n",
    "jsontext"
   ]
  },
  {
   "cell_type": "code",
   "execution_count": 170,
   "metadata": {
    "collapsed": false
   },
   "outputs": [
    {
     "name": "stdout",
     "output_type": "stream",
     "text": [
      "Myocardial infarction (MI) or acute myocardial infarction (AMI), commonly known as a heart attack, occurs when blood flow stops to a part of the heart causing damage to the heart muscle. The most common symptom is chest pain or discomfort which may travel into the shoulder, arm, back, neck, or jaw. Often it is in the center or left side of the chest and lasts for more than a few minutes. The discomfort may occasionally feel like heartburn. Other symptoms may include shortness of breath, nausea, feeling faint, a cold sweat, or feeling tired.[1] About 30% of people have atypical symptoms,[2] with women more likely than men to present atypically.[3] Among those over 75 years old, about 5% have had an MI with little or no history of symptoms.[4] An MI may cause heart failure, an irregular heartbeat, or cardiac arrest.[5][6]\n",
      "831\n",
      "Doc2Vec(dm/s,d200,hs,w8,mc5,t4)\n",
      "{'vocab': 17500, 'doctag_lookup': 166200, 'doctag_syn0': 664800, 'total': 888500, 'syn0': 20000, 'syn1': 20000}\n",
      "Blood flow is the continuous circulation of blood in the cardiovascular system. This process ensures the transportation of nutrients, hormones, metabolic wastes, O2 and CO2 throughout the body to maintain cell-level metabolism, the regulation of the pH, osmotic pressure and temperature of the whole body, and the protection from microbial and mechanical harms.[1]\n",
      "364\n",
      "Doc2Vec(dm/s,d200,hs,w8,mc5,t4)\n",
      "{'vocab': 12600, 'doctag_lookup': 72800, 'doctag_syn0': 291200, 'total': 405400, 'syn0': 14400, 'syn1': 14400}\n",
      "The circulatory system, also called the cardiovascular system or the vascular system, is an organ system that permits blood to circulate and transport nutrients (such as amino acids and electrolytes), oxygen, carbon dioxide, hormones, and blood cells to and from the cells in the body to provide nourishment and help in fighting diseases, stabilize temperature and pH, and maintain homeostasis. The study of the blood flow is called hemodynamics. The study of the properties of the blood flow is called hemorheology.\n",
      "516\n",
      "Doc2Vec(dm/s,d200,hs,w8,mc5,t4)\n",
      "{'vocab': 14000, 'doctag_lookup': 103200, 'doctag_syn0': 412800, 'total': 562000, 'syn0': 16000, 'syn1': 16000}\n"
     ]
    }
   ],
   "source": [
    "url = ['https://en.wikipedia.org/wiki/Myocardial_infarction',\n",
    "      'https://en.wikipedia.org/wiki/Blood_flow',\n",
    "      'https://en.wikipedia.org/wiki/Circulatory_system#Human_cardiovascular_system']\n",
    "TaggedDocument = gensim.models.doc2vec.TaggedDocument\n",
    "for u in url:\n",
    "    response = requests.get(u)\n",
    "    page = response.text\n",
    "    soup = BeautifulSoup(page, 'html.parser')\n",
    "    para = page_read(soup)\n",
    "    print para\n",
    "    print len(para)\n",
    "    para = cleanText(para)\n",
    "    para = labelizeReviews(para, 'Testing')\n",
    "    model = gensim.models.Doc2Vec(para, size=200, window=8, min_count=5, workers=4)\n",
    "    print model\n",
    "    print model.estimate_memory()"
   ]
  },
  {
   "cell_type": "code",
   "execution_count": 169,
   "metadata": {
    "collapsed": true
   },
   "outputs": [],
   "source": [
    "def page_read(soup):\n",
    "    paragraphs = soup.findAll('p')\n",
    "    theindex = 0\n",
    "    wikidef = paragraphs[theindex].text\n",
    "    return wikidef"
   ]
  },
  {
   "cell_type": "code",
   "execution_count": 147,
   "metadata": {
    "collapsed": true
   },
   "outputs": [],
   "source": [
    "def cleanText(corpus):\n",
    "    punctuation = \"\"\".,?!:;(){}[]\"\"\"\n",
    "    corpus = [z.lower().replace('\\n','') for z in corpus]\n",
    "\n",
    "    #treat punctuation as individual words\n",
    "    for c in punctuation:\n",
    "        corpus = [z.replace(c, ' %s '%c) for z in corpus]\n",
    "    corpus = [z.split() for z in corpus]\n",
    "    return corpus"
   ]
  },
  {
   "cell_type": "code",
   "execution_count": 148,
   "metadata": {
    "collapsed": true
   },
   "outputs": [],
   "source": [
    "def labelizeReviews(reviews, label_type):\n",
    "    labelized = []\n",
    "    for i,v in enumerate(reviews):\n",
    "        label = '%s_%s'%(label_type,i)\n",
    "        labelized.append(TaggedDocument(v, [label]))\n",
    "    return labelized"
   ]
  },
  {
   "cell_type": "code",
   "execution_count": null,
   "metadata": {
    "collapsed": true
   },
   "outputs": [],
   "source": []
  }
 ],
 "metadata": {
  "kernelspec": {
   "display_name": "Python 2",
   "language": "python",
   "name": "python2"
  },
  "language_info": {
   "codemirror_mode": {
    "name": "ipython",
    "version": 2
   },
   "file_extension": ".py",
   "mimetype": "text/x-python",
   "name": "python",
   "nbconvert_exporter": "python",
   "pygments_lexer": "ipython2",
   "version": "2.7.10"
  }
 },
 "nbformat": 4,
 "nbformat_minor": 0
}
