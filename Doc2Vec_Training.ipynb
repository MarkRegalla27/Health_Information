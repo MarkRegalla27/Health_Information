{
 "cells": [
  {
   "cell_type": "code",
   "execution_count": 1,
   "metadata": {
    "collapsed": true
   },
   "outputs": [],
   "source": [
    "import requests\n",
    "from bs4 import BeautifulSoup\n",
    "import re\n",
    "from sklearn.feature_extraction.text import CountVectorizer\n",
    "import pandas as pd\n",
    "import numpy as np\n",
    "from sklearn.feature_extraction.text import TfidfVectorizer\n",
    "from sklearn.naive_bayes import MultinomialNB\n",
    "from fuzzywuzzy import fuzz\n",
    "from fuzzywuzzy import process\n",
    "import matplotlib.pyplot as plt"
   ]
  },
  {
   "cell_type": "code",
   "execution_count": 2,
   "metadata": {
    "collapsed": true
   },
   "outputs": [],
   "source": [
    "import numpy as np\n",
    "#import pandas as pd\n",
    "#import re\n",
    "import os\n",
    "import codecs\n",
    "#from sklearn import feature_extraction\n",
    "import mpld3"
   ]
  },
  {
   "cell_type": "code",
   "execution_count": 59,
   "metadata": {
    "collapsed": true
   },
   "outputs": [],
   "source": [
    "#Doc2Vec/Word2vec packages\n",
    "import nltk\n",
    "from nltk.tokenize import sent_tokenize\n",
    "import gensim\n",
    "from gensim import corpora, models, similarities\n",
    "import logging\n",
    "import os\n",
    "import wikipedia\n",
    "import random\n",
    "import json"
   ]
  },
  {
   "cell_type": "code",
   "execution_count": null,
   "metadata": {
    "collapsed": true
   },
   "outputs": [],
   "source": [
    "class mywikipedia(wikipedia.WikipediaPage):\n",
    "    def __load(self, redirect=True, preload=False):\n"
   ]
  },
  {
   "cell_type": "markdown",
   "metadata": {},
   "source": [
    "###Loop through many wikipedia pages\n",
    "Runs them through training model"
   ]
  },
  {
   "cell_type": "code",
   "execution_count": 81,
   "metadata": {
    "collapsed": false,
    "scrolled": true
   },
   "outputs": [
    {
     "name": "stdout",
     "output_type": "stream",
     "text": [
      "<WikipediaPage 'Elongated pentagonal gyrocupolarotunda'>\n",
      "1200004\n",
      "<WikipediaPage 'Elongated pentagonal orthocupolarotunda'>\n",
      "1200006\n",
      "<WikipediaPage 'Category:Christmas food'>\n",
      "1200008\n",
      "<WikipediaPage 'Modulon'>\n",
      "1200010\n",
      "<WikipediaPage 'Category:Television miniseries'>\n",
      "1200013\n",
      "<WikipediaPage 'John McDuffie'>\n",
      "1200015\n",
      "<WikipediaPage 'Talk:Thomas Tallis'>\n",
      "1200017\n",
      "<WikipediaPage 'Gingerbread house'>\n",
      "1200020\n",
      "<WikipediaPage 'Category:German coats of arms'>\n",
      "1200021\n",
      "<WikipediaPage 'Gyroelongated pentagonal cupolarotunda'>\n",
      "1200024\n",
      "25\n"
     ]
    }
   ],
   "source": [
    "i = 0\n",
    "counter = 0\n",
    "the_list = []\n",
    "while counter < 10:\n",
    "    if i == 100:\n",
    "        print 'too many bad pages'\n",
    "        break\n",
    "    useid = 1200000 + i\n",
    "    #useid = random.sample(range(1, 100), 3)\n",
    "    try:\n",
    "        #thetitle = wikipedia.random(pages=1)\n",
    "        #print i\n",
    "        #print requests.get('http://en.wikipedia.org/?curid=' + useid)\n",
    "        print wikipedia.WikipediaPage(pageid=useid)\n",
    "        print useid\n",
    "        the_list.append(wikipedia.WikipediaPage(pageid=useid))\n",
    "        #print wikipedia.WikipediaPage(pageid=useid)\n",
    "        i += 1\n",
    "        counter += 1\n",
    "    except:\n",
    "        i += 1\n",
    "print i"
   ]
  },
  {
   "cell_type": "code",
   "execution_count": 18,
   "metadata": {
    "collapsed": false
   },
   "outputs": [
    {
     "name": "stdout",
     "output_type": "stream",
     "text": [
      "500\n"
     ]
    }
   ],
   "source": [
    "rand_list = []\n",
    "for i in range(1,101):\n",
    "    rand_list.append(wikipedia.random(pages=500))\n",
    "\n",
    "print len(rand_list)"
   ]
  },
  {
   "cell_type": "code",
   "execution_count": 97,
   "metadata": {
    "collapsed": false
   },
   "outputs": [],
   "source": [
    "#r = requests.get('https://en.wikipedia.org/w/api.php?action=query&meta=siteinfo&\\\n",
    "#                 format=json&siprop=namespaces&pageids=1200008')\n",
    "r = requests.get('https://en.wikipedia.org/w/api.php?action=query&prop=info\\\n",
    "                &format=json&inprop=url&pageids=1200008')"
   ]
  },
  {
   "cell_type": "code",
   "execution_count": 107,
   "metadata": {
    "collapsed": false
   },
   "outputs": [
    {
     "data": {
      "text/plain": [
       "14"
      ]
     },
     "execution_count": 107,
     "metadata": {},
     "output_type": "execute_result"
    }
   ],
   "source": [
    "rtext = r.text\n",
    "jsontext = json.loads(rtext)\n",
    "jsontext['query']['pages']['1200008']['ns']"
   ]
  },
  {
   "cell_type": "code",
   "execution_count": 28,
   "metadata": {
    "collapsed": false
   },
   "outputs": [
    {
     "ename": "NameError",
     "evalue": "name 'page_read' is not defined",
     "output_type": "error",
     "traceback": [
      "\u001b[0;31m---------------------------------------------------------------------------\u001b[0m",
      "\u001b[0;31mNameError\u001b[0m                                 Traceback (most recent call last)",
      "\u001b[0;32m<ipython-input-28-0b330594d353>\u001b[0m in \u001b[0;36m<module>\u001b[0;34m()\u001b[0m\n\u001b[1;32m      7\u001b[0m     \u001b[0mpage\u001b[0m \u001b[0;34m=\u001b[0m \u001b[0mresponse\u001b[0m\u001b[0;34m.\u001b[0m\u001b[0mtext\u001b[0m\u001b[0;34m\u001b[0m\u001b[0m\n\u001b[1;32m      8\u001b[0m     \u001b[0msoup\u001b[0m \u001b[0;34m=\u001b[0m \u001b[0mBeautifulSoup\u001b[0m\u001b[0;34m(\u001b[0m\u001b[0mpage\u001b[0m\u001b[0;34m,\u001b[0m \u001b[0;34m'html.parser'\u001b[0m\u001b[0;34m)\u001b[0m\u001b[0;34m\u001b[0m\u001b[0m\n\u001b[0;32m----> 9\u001b[0;31m     \u001b[0mpara\u001b[0m \u001b[0;34m=\u001b[0m \u001b[0mpage_read\u001b[0m\u001b[0;34m(\u001b[0m\u001b[0msoup\u001b[0m\u001b[0;34m)\u001b[0m\u001b[0;34m\u001b[0m\u001b[0m\n\u001b[0m\u001b[1;32m     10\u001b[0m     \u001b[0;32mprint\u001b[0m \u001b[0mlen\u001b[0m\u001b[0;34m(\u001b[0m\u001b[0mpara\u001b[0m\u001b[0;34m)\u001b[0m\u001b[0;34m\u001b[0m\u001b[0m\n\u001b[1;32m     11\u001b[0m     \u001b[0mpara\u001b[0m \u001b[0;34m=\u001b[0m \u001b[0mcleanText\u001b[0m\u001b[0;34m(\u001b[0m\u001b[0mpara\u001b[0m\u001b[0;34m)\u001b[0m\u001b[0;34m\u001b[0m\u001b[0m\n",
      "\u001b[0;31mNameError\u001b[0m: name 'page_read' is not defined"
     ]
    }
   ],
   "source": [
    "url = ['https://en.wikipedia.org/wiki/Myocardial_infarction',\n",
    "      'https://en.wikipedia.org/wiki/Blood_flow',\n",
    "      'https://en.wikipedia.org/wiki/Circulatory_system#Human_cardiovascular_system']\n",
    "TaggedDocument = gensim.models.doc2vec.TaggedDocument\n",
    "for u in url:\n",
    "    response = requests.get(u)\n",
    "    page = response.text\n",
    "    soup = BeautifulSoup(page, 'html.parser')\n",
    "    para = page_read(soup)\n",
    "    print len(para)\n",
    "    para = cleanText(para)\n",
    "    para = labelizeReviews(para, 'Testing')\n",
    "    model = gensim.models.Doc2Vec(para, size=200, window=8, min_count=5, workers=4)\n",
    "    print model\n",
    "    print model.estimate_memory()"
   ]
  },
  {
   "cell_type": "code",
   "execution_count": 15,
   "metadata": {
    "collapsed": true
   },
   "outputs": [],
   "source": [
    "def page_read(soup):\n",
    "    paragraphs = soup.findAll('p')\n",
    "    theindex = 0\n",
    "    wikidef = paragraphs[theindex].text\n",
    "    return wikidef"
   ]
  },
  {
   "cell_type": "code",
   "execution_count": 16,
   "metadata": {
    "collapsed": true
   },
   "outputs": [],
   "source": [
    "def cleanText(corpus):\n",
    "    punctuation = \"\"\".,?!:;(){}[]\"\"\"\n",
    "    corpus = [z.lower().replace('\\n','') for z in corpus]\n",
    "\n",
    "    #treat punctuation as individual words\n",
    "    for c in punctuation:\n",
    "        corpus = [z.replace(c, ' %s '%c) for z in corpus]\n",
    "    corpus = [z.split() for z in corpus]\n",
    "    return corpus"
   ]
  },
  {
   "cell_type": "code",
   "execution_count": 17,
   "metadata": {
    "collapsed": true
   },
   "outputs": [],
   "source": [
    "def labelizeReviews(reviews, label_type):\n",
    "    labelized = []\n",
    "    for i,v in enumerate(reviews):\n",
    "        label = '%s_%s'%(label_type,i)\n",
    "        labelized.append(TaggedDocument(v, [label]))\n",
    "    return labelized"
   ]
  },
  {
   "cell_type": "code",
   "execution_count": null,
   "metadata": {
    "collapsed": true
   },
   "outputs": [],
   "source": []
  }
 ],
 "metadata": {
  "kernelspec": {
   "display_name": "Python 2",
   "language": "python",
   "name": "python2"
  },
  "language_info": {
   "codemirror_mode": {
    "name": "ipython",
    "version": 2
   },
   "file_extension": ".py",
   "mimetype": "text/x-python",
   "name": "python",
   "nbconvert_exporter": "python",
   "pygments_lexer": "ipython2",
   "version": "2.7.10"
  }
 },
 "nbformat": 4,
 "nbformat_minor": 0
}
