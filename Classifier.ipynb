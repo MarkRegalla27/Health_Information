{
 "cells": [
  {
   "cell_type": "code",
   "execution_count": 43,
   "metadata": {
    "collapsed": true
   },
   "outputs": [],
   "source": [
    "import requests\n",
    "from bs4 import BeautifulSoup, SoupStrainer \n",
    "import sys\n",
    "import string\n",
    "import os\n",
    "import nltk\n",
    "import pandas as pd\n",
    "from nltk.tokenize import sent_tokenize, word_tokenize \n",
    "from sklearn.feature_extraction.text import CountVectorizer\n",
    "from matplotlib import pyplot as plt\n",
    "from sklearn.feature_extraction.text import TfidfVectorizer\n",
    "from sklearn.naive_bayes import MultinomialNB\n",
    "import numpy as np\n",
    "from sklearn.cross_validation import train_test_split, KFold"
   ]
  },
  {
   "cell_type": "markdown",
   "metadata": {},
   "source": [
    "###Run scraped articles through Naive Bayes classifier"
   ]
  },
  {
   "cell_type": "code",
   "execution_count": 44,
   "metadata": {
    "collapsed": false
   },
   "outputs": [
    {
     "name": "stdout",
     "output_type": "stream",
     "text": [
      "35\n"
     ]
    }
   ],
   "source": [
    "#Get articles from saved files in directory\n",
    "#Mayo list\n",
    "Mayo_list = []\n",
    "for article in os.listdir('/users/markregalla/desktop/metis/Project4/MayoArticles'):\n",
    "    with open(\"/users/markregalla/desktop/metis/Project4/MayoArticles/\" \n",
    "              + article, \"r\") as myfile:\n",
    "        stuff = myfile.read()\n",
    "    myfile.close\n",
    "    if stuff != '':\n",
    "        Mayo_list.append(stuff)\n",
    "print len(Mayo_list)\n",
    "#Mayo_list"
   ]
  },
  {
   "cell_type": "code",
   "execution_count": 45,
   "metadata": {
    "collapsed": true
   },
   "outputs": [
    {
     "data": {
      "text/plain": [
       "'\\ntotal_list = []\\nfor word in Homeo_list[0]:\\n    total_list.append(word.decode(\"ascii\", \"ignore\"))\\nprint total_list[0]\\n'"
      ]
     },
     "execution_count": 45,
     "metadata": {},
     "output_type": "execute_result"
    }
   ],
   "source": [
    "#Homeopathic list\n",
    "Homeo_list = []\n",
    "k = 0\n",
    "for article in os.listdir('/users/markregalla/desktop/metis/Project4/HomeoArticles'):\n",
    "    with open('/users/markregalla/desktop/metis/Project4/HomeoArticles/' \n",
    "              + article) as myfile:\n",
    "        stuff = myfile.read()\n",
    "    myfile.close\n",
    "    if stuff != '':\n",
    "        Homeo_list.append(str(stuff.decode(\"ascii\", \"ignore\")))\n",
    "    k += 1\n",
    "    if k == 35:\n",
    "        break\n",
    "#print Homeo_list\n",
    "'''\n",
    "total_list = []\n",
    "for word in Homeo_list[0]:\n",
    "    total_list.append(word.decode(\"ascii\", \"ignore\"))\n",
    "print total_list[0]\n",
    "'''"
   ]
  },
  {
   "cell_type": "code",
   "execution_count": 112,
   "metadata": {
    "collapsed": true
   },
   "outputs": [
    {
     "data": {
      "text/plain": [
       "'[\\'[Application Of Homoeopathic Principles In The Treatment Of Mental States]\\', \\' Middletown, N.Y.\\', \\'      \\', \\' THE object of this paper is to reveal\\', \\'      and evaluate homoeopathic principles in the treatment of mental reactions.\\', \\'      Such an approach is being practiced at the Middletown State homoeopathic\\', \\'      Hospital where our observations were made. In this paper we will also\\', \\'      bring forth the observations and conclusions arrived at by others as to\\', \\'      the effects of certain homoeopathic remedies in the treatment of certain\\', \\'      mental states. As Dr. Talcott once wrote, \"The means used for the\\', \\'      recovery of patients are numerous and varied. We cannot pin our faith to a\\', \\'      single measure. We week to adopt all which experience has proved likely to\\', \\'      be beneficial.\" It will be out chief aim to show just what\\', \\'      homoeopathic remedies are most effective in mental disease, the principles\\', \\'      behind their administration, and to stress in what way they are effective.\\', \\'      There is no absolute way of gauging the value of our procedure accurately\\', \\'      except by statistical corelations which, of course, do not mean much\\', \\'      because of the numerous actors and variables. Such variables as the\\', \\'      introduction of other treatment methods and other factors and\\', \\'      relationships which cannot be controlled. make it too difficult a task to\\', \\'      evaluate the drug per se. However, we will include a few statistical\\', \\'      accumulations for those who may wish to make comparisons.\\', \\'      \\', \\' The material for this paper comprises\\', \\'      the personal observations and studies made of the authors own cases and we\\', \\'      present only a few of our cases to illustrate our remarks.\\', \\'      \\', \\' Homoeopathy is a method of drug\\', \\'      therapeutics and plays only a small part in treatment of disease. Other\\', \\'      methods, especially in mental disease, are of greater importance than\\', \\'      drugs, and are so recognized by used. Such means which we refer to as\\', \\'      hygienic, which includes regulation of diet and regimen of patient, habit\\', \\'      training, rest and seclusion, choice of environment, cleanliness,\\', \\'      kindness, proper education diversion; occupational therapy; psychotherapy\\', \\'      of all sorts; use of various forces of nature, such as employment of water\\', \\'      in various forms, referred to as hydrotherapy; application of electricity,\\', \\'      light rays, heat, grouped under physiotherapy, are employed by us.\\', \\'      Endocrinotherapy, vaccine therapy, together with allopathic drugs which\\', \\'      have been found palliative or specific are given wherever indicated. They\\', \\'      are not being undervalued, but rather excluded from our consideration as\\', \\'      we are concerned here with the value of homoeopathic drugs in the\\', \\'      treatment of mental disorders.\\', \\'      \\', \\' Briefly, homoeopathy can be defined as\\', \\'      a therapeutic method formulated in the \"similia similibus\\', \\'      curentur\" principle-let likes be treated by likes. The two elements\\', \\'      of comparison implied in the above statement are the effects if drugs on\\', \\'      the healthy body and the clinical features of disease, in either case,\\', \\'      both the subjective elements of the disease which is appreciated by the\\', \\'      patient as well as the objective manifestations as observed by the\\', \\'      physician being taken into account. Medicines administered on this plan\\', \\'      are usually single and in small doses, at least below the generally\\', \\'      accepted pharmacologic and so-called physiologic dose. It is a method, not\\', \\'      a doctrine or a system. It is a therapy complete in itself and independent\\', \\'      of the allied sciences of physiology and pathology so far as these consist\\', \\'      of changing doctrines and conceptions. It is a practical method, or\\', \\'      organon, as its originator Hahnemann used it for effecting in the best\\', \\'      manner a certain end, namely, the cure of disease.\\', \\'      \\', \\' Application of an agent which produces\\', \\'      in a healthy individual the symptoms similar to those found in a specific\\', \\'      disease process was recognized by Hippocrates and others.\\', \\'      \\', \\' Hippocrates stated that disease was\\', \\'      cured through a method of treatment which contracts it and a method where\\', \\'      the disease of treatment which counteracts it and a method of treatment\\', \\'      which counteracts it and a method where the disease is removed through\\', \\'      remedies which produce similar symptoms to the disease. We find that\\', \\'      before Hahnemann seized this principle as a general basis, tested and\\', \\'      worked out this thought and formulated it as a rule for medical practice,\\', \\'      physicians were treating vomiting with an emetic, preparations of organs\\', \\'      of animals were given for disorders of the same organ in man, application\\', \\'      of heat to burns, acid to acidity of stomach, etc. Nowadays actually these\\', \\'      two principles of Hippocrates for representing remedy finding have been\\', \\'      successful. Sometimes both of these principles, although through different\\', \\'      thought process, lead to the same remedy. For instance, in one school of\\', \\'      thought mercury is given to oppose the action of a bacillary dysentery by\\', \\'      destroying the cause, in the other case the drug is given because it\\', \\'      produces a similar picture in a healthy person when given in large doses,\\', \\'      but its deadening effect is removed when given in small doses for then it\\', \\'      stimulates the resistance, defensive and curative powers of the organism\\', \\'      against the disease. Parenthetically, we may insert the fact that it has\\', \\'      been shown, for instance, in case or adrenalin, by Renty, and others, that\\', \\'      adrenalin dilates rather than constricts in 1/1000, but in the more dilute\\', \\'      forms it stimulates the vessels by constriction.\\', \\'      \\', \\' There are three recognizable kinds of\\', \\'      actions possessed by drugs which can be referred to as mechanical,\\', \\'      chemical and dynamic, respectively. It is in this last chemical and\\', \\'      dynamic, respectively. It is in this last class of action of drugs that\\', \\'      homoeopathy works its rule of similia. If we avail ourselves of the\\', \\'      mechanical or chemical properties of substances, we do so on mechanical\\', \\'      and chemical principles. On the other hand, the dynamic principle which is\\', \\'      here involved depends on there being a changed physical state which gives\\', \\'      a substance energy to reach and affect tissues. Drug energy, no drug\\', \\'      material, is dealt with. The drug mass by its division and agitation\\', \\'      energizes the super imposed menstrum (alcohol or sugar) which, when taken\\', \\'      into the body, stimulates suitable tissues.\\', \\'      \\', \\' The next principles is important so far\\', \\'      as psychiatry is concerned and that is the doctrine of the totality of\\', \\'      symptoms which includes the entire reactions of the patient, both\\', \\'      subjective and subjective The totality of symptoms, including the\\', \\'      sufferings, feeling, reactions of the patient the general and local\\', \\'      manifestations of the disease, constitutes the disease. General and local\\', \\'      manifestations of the disease, constitutes the disease. General and local\\', \\'      symptoms constitute only a small part in the total picture. This concept\\', \\'      enables us to treat maladies in their formative state, in state of\\', \\'      subjective experiences before the pathologic process has progressed to\\', \\'      state of physical diagnosis. We know that early states and recognizable\\', \\'      mainly by symptoms of subjective nature. This concept is taken into\\', \\'      cognizance in the general medical aphorism, \"Treat the patient, not\\', \\'      the disease.\" This holds especially true in mental disease where we\\', \\'      get the reactions of the patient to the disease before the latter is\\', \\'      discernible. Our chief goal is, therefore, to cover the totality of\\', \\'      symptoms. This doctrine fits in very well with the concept of the total\\', \\'      personality. We must restore the normal integrated pattern in all its\\', \\'      aspects, and should not treat the diseased element along. That is what we\\', \\'      try to do in using was referred to as hygienic measures.\\', \\'      \\', \\' Our therapeutics are biologically based\\', \\'      not entirely on cause, but on organismal reactions, that is on the\\', \\'      reactions of human beings as a whole to the situations confronted, on the\\', \\'      physical make-up, the constitution, the functional alterations, the\\', \\'      pathologic state, the causative factors, presence or absence of past\\', \\'      causes both predisposing and exciting, the mental symptoms, reactions of\\', \\'      the organism to environment, in short and complete picture of the diseased\\', \\'      state in a particular individual. By so coordinating the relationship\\', \\'      between the diseased state and drugs effect and by individualizing the\\', \\'      case, the smaller is the effective dose which is necessary, so that there\\', \\'      is no chance of doing any harm. The smallest amount of the agent that will\\', \\'      prove effective is administered.\\', \\'      \\', \\' An important keynote in our prescribing\\', \\'      is the individualization of the case. A study of the special factors that\\', \\'      differentiate two cases of the same disease from one another as well as a\\', \\'      study of the disease itself is important. Such a differentiation is\\', \\'      necessary in homoeopathic prescribing. It is not sufficient to stop with\\', \\'      the classifications of the diseased state as an entity. Not all\\', \\'      individuals are alike in form, functional response, mental and physical\\', \\'      make-up, psychologic reactions, etc. This has been shown by Draper and\\', \\'      others who have studied the constitutional make up associated with\\', \\'      diseases. We cannot expect dissimilar individuals to react in the same way\\', \\'      to same causative agent of diseases. One individuals to react in the same\\', \\'      way to same causative agent of diseases. One individual is sensitive to a\\', \\'      certain drug whereas another tolerates it.\\', \\'      \\', \\' One can readily see how difficult it\\', \\'      would be in mental disease with all its variegated number of mental\\', \\'      symptoms, to uncover a \"similimum\" which would cover he\\', \\'      \"totality of symptoms.\" Although each case has its own\\', \\'      individuality, there are basic uniform manifestations in a single disease\\', \\'      or drug group, which are common to the disease or group of drugs. For\\', \\'      instance, in a case of general paralysis there are certain basis subject\\', \\'      and objective symptoms. In the same fashion, a group of drugs give base\\', \\'      symptoms referable to the predilected tissues. The determinative symptoms\\', \\'      which distinguish one cases of a certain disease from another or\\', \\'      differentiate one drug from another in a certain group, are complex in\\', \\'      mental states. We depend, there fore, on a certain group of drugs covering\\', \\'      certain disease states, following which we abstract from the diseased\\', \\'      state in a particular individual as many determinative symptoms as we can\\', \\'      and try to fit them with a drug in the particular group whose pathogenesis\\', \\'      closely approximates the symptoms we have abstracted.\\', \\'      \\', \\' Another important concept is the\\', \\'      correlation of mental disease with physical illness. This was recognized\\', \\'      by homoeopathic therapeutists for some time and they emphasized the metal\\', \\'      symptoms produced by the drug more than they did the physical symptoms.\\', \\'      Nux vomica, for instance, is beneficial in hypochondriasis, melancholia,\\', \\'      out of proportion to dyspepsia, weight being placed on the mental angle.\\', \\'      We at Middletown feel that by concentrating on the physical angle in a\\', \\'      patient no matter what psychosis he has, we will modify the severity of\\', \\'      his mental reactions and in some cases evoke a cure. We therefore search\\', \\'      diligently for all physical disturbances, both general and local, and\\', \\'      treat any by homoeopathic and other methods.\\', \\'      \\', \\' The Phrase \"likes are treated with\\', \\'      likes\" embodies as aspect of the remedial agent and an aspect of the\\', \\'      disease. It is therefore important to know the general action of the\\', \\'      medicinal agent, the particular tissues or functions upon which it acts.\\', \\'      Nux vomica has an especial affinity for the sensory side of the central\\', \\'      nervous system. Alcohol the toxin has a similar affinity; therefore in\\', \\'      alcohol cases nux vomica is most often indicated.\\', \\'      \\', \\' As already implied, there is no\\', \\'      necessity on the part of the homoeopathic prescriber to make a study of\\', \\'      medicines in themselves prior to their application to practice. The\\', \\'      pathognomonic effects have been ascertained and recorded. We have but to\\', \\'      refer to such a record after we have examined our patient to discover the\\', \\'      similimum in his case. The closer we approximate the individual to the\\', \\'      drug giving similar pathologic effects in a similar type of healthy\\', \\'      individual the more chance we have for cure. Hence, the arrangement of\\', \\'      pathogenesis as will be noticed in the form of a schema of disconnected\\', \\'      symptoms.\\', \\'      \\', \\' We will now give you a few of the\\', \\'      drugs, with emphasis upon their mental manifestations, from which we\\', \\'      deduce the type of case in which they are valuable. It is not intended to\\', \\'      form any a priori notion of the medicine or to see in its effects any true\\', \\'      picture of disease. It simply may be applicable in one type individual\\', \\'      with, let us say, manic-depressive and not in another type of individual\\', \\'      with the same disease. We will also draw in a few of our own cases as\\', \\'      illustrations.\\', \\'      \\', \\' Let us commence with our manic\\', \\'      excitements. Talcott stated that out choice commonly lay between three\\', \\'      mydriatics: belladonna, hyoscyamus and stramonium. He advocated belladonna\\', \\'      in those cases where there was marked hyperemia, sudden explosions of rage\\', \\'      and fury, restlessness and destructiveness. Hyoscyamus he gave in those\\', \\'      cases that had tendency to expose their person.\\', \\'      \\', \\' We have in mind a case where the\\', \\'      patient was given a hypo of hyoscine hydrobromide and who had symptoms.\\', \\'      \\', \\' Butler also recommenced belladonna in\\', \\'      intense mental excitement with treatment with great violence and\\', \\'      destructiveness against everything within reach. We have used this remedy\\', \\'      rather extensively in such cases as described above. More particularly\\', \\'      when there is a flushed face, dilated pupils, rapid flow of ideas,\\', \\'      emotional instability frequent emotional shifts from an irritable, angry\\', \\'      state to one of euphoria and elation. This drug we can verify is certainly\\', \\'      the most common one used in manics.\\', \\'      \\', \\' Hyoscyamus is frequently used at\\', \\'      Middletown State Hospital. Here the symptoms are restlessness of pressure\\', \\'      of ideas and activity, continuous state of elations, obscenity, eroticism\\', \\'      and tendency to expose the body.\\', \\'      \\', \\' In the most intense form of excitement\\', \\'      we have used Stramonium.\\', \\'      \\', \\' Our findings to the efficacy of these\\', \\'      drugs cannot be truly evaluated, due to the introduction of other forms of\\', \\'      control of the excitement. We will later introduce statistical data, but\\', \\'      in view of such data we can say that out better results are due for one\\', \\'      thing to the absence of morphine, hyoscine or any other sedative. We\\', \\'      believe the injudicious use of morphine and hypnotics in excitements is\\', \\'      injurious. Its supply increases the state of cerebral excitement that\\', \\'      already exists. We flood the system with large doses which disturb the\\', \\'      normal structures, let along the pathologic structures. It has been shown\\', \\'      that 1/4 gr. morphine will produce acidosis lasting one to four hours; a\\', \\'      small dose will produce alkalosis. This would add to the acidosis already\\', \\'      existing in cases of excitement. We add fuel to the fire. As in the case\\', \\'      of chronic brain disease, an acute organic delirium is a summation of\\', \\'      effects. In pure acute delirium either psychogenic or organic, what\\', \\'      results is a summation of effects. In our acute psychogenic excitement we\\', \\'      have found that those cases that have some organic state, such as heart\\', \\'      conditions. are more apart to have an acute organic delirium superimposed\\', \\'      upon the functional delirium when hypnotics are administered. The\\', \\'      following case is a good example.\\', \\'      \\', \\' H.McC., aged fifty-two, diagnosed mixed\\', \\'      manic, third attack, third admission, white male; a lawyer by profession.\\', \\'      History of many attacks of rheumatism, rejected during the war for cardiac\\', \\'      condition. Three weeks before admission here, he spoke incessantly, was\\', \\'      hyperactive, violent. Sedatives were given to quiet him and he came here\\', \\'      November 9, 1934, with a mixture of psychogenic and organic features. The\\', \\'      latter were disorientation, marked incoherence and confusion, varying\\', \\'      levels of consciousness, speech defect, content of occupational character,\\', \\'      preservation, all in all an engrafted acute organic delirium. In two days\\', \\'      the entire picture subsided and was replaced by retardation, memory\\', \\'      defects, weeps spells, sadness and difficulty in organization of his\\', \\'      thoughts. He made the following comments the following week. \"If I\\', \\'      take something to make me sleep, it is very bad. When I come out of the\\', \\'      drug, there is a hazy, uncertain confusion, excitement and bad dreams.\\', \\'      Ever since I was a kid, Ive noticed that in every illness when I took a\\', \\'      drug to produce sleep, either during during the effect of the drug or\\', \\'      after the drug wears off, there is a delirious state. I havent any such\\', \\'      states since Ive been here and youll note I havent asked you what drug you\\', \\'      were giving me although all my life either I have been told or I would\\', \\'      naturally ask.\" He went home recovered the first of this year, having\\', \\'      been a fine shape for over a mouth previously, Here the drug given was\\', \\'      cactus gran. The symptoms of depression which set in following the\\', \\'      excitement together with the sensation of weight on his brain plus\\', \\'      frightening spells at night plus the cardiac constricting sensation,\\', \\'      fitted this remedy.\\', \\'      \\', \\' It is clear that in these functional\\', \\'      cases where there is a physical organic factor, the cerebral cortex is\\', \\'      more sensitive to hypnotics. It is the same mechanism that we find in\\', \\'      organic brain disease or in chronic toxic infectious processes where the\\', \\'      brain is in state of chronic irritation and thereby reacts violently to\\', \\'      hypnotics. The following is a good illustration of a chronic toxemia set\\', \\'      up by endogenous and exogenous toxins culminating in an acute cerebral\\', \\'      excitement upon administration of morphine and hyoscine. In this case the\\', \\'      fundamental reactive pattern was a psychoneurotic one.\\', \\'      \\', \\' E.G., white, female, aged fifty-one,\\', \\'      married, has three children. Had several illness in her adulthood\\', \\'      influenza, pneumonia and appendicitis. In July 1933, she contracted\\', \\'      rheumatic fever. She was a neurotic personality who became very impatient\\', \\'      with the protracted course of her illness. For two months she received all\\', \\'      sorts of treatment from any number of physicians including chiropractors.\\', \\'      For two weeks before admission she received an ampoule of hyoscine and\\', \\'      morphine daily, and three days before admission here july 2, 1933, she was\\', \\'      delirious.\\', \\'      \\', \\' She was brought into the hospital with\\', \\'      a typical acute organic delirium. Our summary of the case was as follows.\\', \\'      \"We have here an intense psychoneurotic reaction caused by a disease\\', \\'      process, the latter having been maltreated. Mixed up and superimposed on\\', \\'      the type of reactive pattern is an acute delirium prepared by the\\', \\'      predisposing factor, that is, endogenous toxins emanating from the\\', \\'      arthritic focus; and excited by exogenous toxins, morphine, hyoscine and\\', \\'      twenty other varieties of anodynes, sedatives, hypnotics and chologogues,\\', \\'      etc. The delirium cleared up in a few days; the hysterical outbursts and\\', \\'      drug craving were satisfied by hypos of sterile water; the rheumatic\\', \\'      disease plus the mental signs of apprehension and fears and the hysterical\\', \\'      outburst of shrieks of pains called for rhus tox. Patients organismal\\', \\'      reaction improved far greater than the arthritic focus, which remained as\\', \\'      short of a hysterical conversion symptom, but this ultimately cleared up\\', \\'      so that she sat up out if bed within two weeks and was home in a\\', \\'      month.\"\\', \\'      \\', \\' In pure functional manic depressives we\\', \\'      make no claims whatsoever; whatever results are obtained are probably due\\', \\'      to the psychologic factor, the satisfaction of psychic craving, suggestion\\', \\'      and whatever mechanism it many be depending on the case.\\', \\'      \\', \\' A previously stated in our handling of\\', \\'      mental cases we pay especial attention to the physical facts. We do not\\', \\'      use homoeopathic means exclusively to combat the physical condition but we\\', \\'      resort to any treatment which we feel will help. We give our specific\\', \\'      drugs for their antagonistic actions if they have been proved successful.\\', \\'      we give palliative drug such as amyl nitrite in angina pectoris, and we\\', \\'      use other forms of therapy. In cases with a physical condition, if we can\\', \\'      find the homoeopathic drug that will be appropriate, what usually follows\\', \\'      is a marked improvement in the mental status. We may have to combine the\\', \\'      remedy with other measures as we did in the following two cases In those\\', \\'      two cases, we have organ pathology which could not be definitely\\', \\'      associated with he attack. They are both manic depressives, manic type,\\', \\'      with Graves disease.\\', \\'      \\', \\' M.S., fifty-three years of age, school\\', \\'      teacher, white, female, had three attacks of manic-depressive psychosis.\\', \\'      On July 18, 1933, a thyroidectomy was performed. Within twelve days she\\', \\'      became manic. On admission here a diagnosis of manic depressive psychosis,\\', \\'      manic type, was offered. She had mitral disease, hypertension, showed\\', \\'      signs of hyperthyroidism, dehydration and exhaustion. In two months she\\', \\'      was sent home recovered.\\', \\'      \\', \\' R.D., aged fifty-seven, female,\\', \\'      meningitis at age of two. In 1930, attempted suicide but was unsuccessful\\', \\'      Two years later a thyroidectomy, and eight months following she was\\', \\'      destructive, agitated, had delusions of death and at one time during this\\', \\'      period she attempted suicide by drinking iodine. Admitted here September\\', \\'      23, 1931. Diagnosis of manic-depressive, manic type, offered. Her\\', \\'      condition was desperate. She had a poor heart, rapid pulse, exophthalmus,\\', \\'      eye signs, tremors, low diastolic, moist skin, increased metabolic rate,\\', \\'      hypertrophied heart; in addition she suffered from acidosis and developed\\', \\'      carbuncle. Improvement was slow for a time, and then rapid progress;\\', \\'      finally discharged April 6, 1932, residence in hospital being five charged\\', \\'      April 6, 1932, resistance in hospital being five and one-half months. In\\', \\'      both cases we have iodine in homoeopathic doses together, of course, with\\', \\'      cardiac supportive treatment, anti-acidotic treatment, clysis, glucose\\', \\'      injections, hydrotherapy, etc. with good results . At least the two cases\\', \\'      survived.\\', \\'      \\', \\' We cannot go into the many physical\\', \\'      symptoms arising from tissue pathology other than in the central nervous\\', \\'      system which are found in our psychotics. Suffice it to say that we\\', \\'      attempt in many such cases to find a drug that fits.\\', \\'      \\', \\' In depressed states drugs most commonly\\', \\'      used at Middletown are ignatia, arsenicum album, phosphoric acid, cactus\\', \\'      gran and baptisia.\\', \\'      \\', \\' Ignatia is probably more often\\', \\'      prescribed than any other prescriptions. Butler, Talcott, Boyal and others\\', \\'      referred to arsenicum album as most often indicated, the features of this\\', \\'      drug being pale face, pinched appearance, emaciation, pallor, ceaseless\\', \\'      restlessness, marked agitated depression, mental anguish to point of\\', \\'      frenzy, moaning and groaning, self- destruction. Ignatia fits the silent,\\', \\'      brooding, seclusive, depressed cases. They are usually quiet, timid,\\', \\'      fearful, irresolute, and suffer from insomnia and impotence with sex\\', \\'      desires.\\', \\'      \\', \\' Phosphoric acid is given in those cases\\', \\'      with anxiety, sadness, grief over a love affair, inclined to weep,\\', \\'      physical exhaustion resulting from masturbation.\\', \\'      \\', \\' Baptisia is given in typhoidal-like\\', \\'      states.\\', \\'      \\', \\' The following case illustrates the good\\', \\'      effect of ignatia in depressions.\\', \\'      \\', \\' R.W., aged sixty-one, white, male;\\', \\'      occupation that of practical nurse. A quiet, pleasant personality who\\', \\'      suffered several depressions earlier in life which did not necessitate\\', \\'      hospitalization. In the beginning in 1932 he suffered a severe depression\\', \\'      which persisted for six months, made voluntary application here August 15,\\', \\'      1932, and was accepted. Diagnosed depressed type of manic depressive. His\\', \\'      mental symptoms called for ignatia. He stated that the drug helped him a\\', \\'      great deal. It had relieved him of his nervous, jumpy feelings and of his\\', \\'      insomnia. He went home recovered June 30, 1933. For a time he was in good\\', \\'      shape. On December 14, 1934, he came back to the hospital with same\\', \\'      complaints. The depression came on six weeks previously. He requested the\\', \\'      same drug which he stated had helped him previously. This was done with an\\', \\'      improvement of his symptoms. In this case we cant tell whether the\\', \\'      security and relief be obtained from the institution was projected onto\\', \\'      the drug or whether the drug resulted in his improvement. The drug could\\', \\'      have well been a rationalization of the sense of relief he obtained from\\', \\'      institutional protection.\\', \\'      \\', \\' The next case of depression is a rather\\', \\'      interesting mixture of psychogenic and organic factors, this case being\\', \\'      helped by calcarea carb. and iodine. M.P., white, female, aged fifty-one,\\', \\'      married, one child, had attack of manic excitement in 1916 which lasted\\', \\'      three months. Last year, in worrying over her husbands financial troubles,\\', \\'      she became obsessed with the idea that she had concentrated a disease and\\', \\'      was infecting others. Had many ideas of bodily changes. Feared her body\\', \\'      was rotting away. She spoke of death. AT night was seized with nightmares\\', \\'      during which impulses to kill he son who she feared was going to be\\', \\'      kidnapped, overwhelmed he. Calcarea carb. was prescribed Physically, a\\', \\'      goitre and signs of hyperthyroidism were found. In this case there was an\\', \\'      unconscious rejection of her body, and on this account arose guilt\\', \\'      feelings, in the form of self-accusatory ideas and considerable anxiety.\\', \\'      Mixed in this picture was also a sense of reality and misinterpretation of\\', \\'      environment which we attributed to the organic state produced by\\', \\'      hyperthyroidism. This was combated with small doses of iodine. Patient in\\', \\'      two weeks and rid herself of all her abnormal ideas and was normal in all\\', \\'      respects. Within a month she was home.\\', \\'      \\', \\' In the psychoneurosis we have at our\\', \\'      disposal a large number of remedies depending on the character of the\\', \\'      obsessions and fears and where the somatic pathology is fixed. What we do\\', \\'      here, as in other of our so-called functional cases, is to divorce or\\', \\'      abstract from the totality of individual reaction those mental symptoms\\', \\'      and other characteristics of the patient and dry to approximate it to a\\', \\'      drug giving similar symptoms. It would appear that the tissue alteration\\', \\'      and general defense reaction which characterizes the drug would be\\', \\'      nullified because of the apparent nonexistence of tissue pathology. This\\', \\'      fallacy can be explained only under the presumption that we postulate the\\', \\'      existence of such pathology, in a form that can be only subjectively\\', \\'      received but not objectively recognized. At present we have followed the\\', \\'      policy of the mental aspect of the patient. If he has somatic complaints\\', \\'      we try to correlate still further by finding a drug giving similar somatic\\', \\'      symptoms.\\', \\'      \\', \\' For example, we given nux vomica for\\', \\'      hypochondriasis, persons who are irritable, sensitive to external stimuli,\\', \\'      noises odors, and lights, and if they complain of gastric symptoms, sour\\', \\'      stomach, etc., the remedy becomes more fitting. It is also given for\\', \\'      alcohols who have similar mental symptoms and who we know have sour\\', \\'      stomach, etc. It is obvious that in the latter cases the drug should be\\', \\'      and is more of value. The results we obtain in the psychoneurosis are\\', \\'      purely due to the suggestion or psychological effect of the drug. It has\\', \\'      an advantage over the placebo in that we possibly may hit a remedy whose\\', \\'      total symptomatology may conform to the totality of the organismal\\', \\'      reaction. An other point is that in the placebo prescription the patient\\', \\'      frequently becomes aware of it, becomes disturbed over the trickery and\\', \\'      loses confidence in the physician, whereas, in our prescription they\\', \\'      actually taste the medicine.\\', \\'      \\', \\' Some of the drugs commonly prescribed\\', \\'      are aconite in combating numerous phobias; anacardium in neurosis produced\\', \\'      by excessive mental stain with symptoms of anxiety, despair, fear of\\', \\'      future, forgetfulness , inability to concentrate, nervous indigestion.\\', \\'      Calcarea carb. for those who are apprehensive; fear of death, of\\', \\'      misfortune, of losing their mind., of contracting a disease;\\', \\'      nightmares,the obsessive type. For neurasthenia- ignatia, phosphorous;\\', \\'      Kali phos. and strychnine phos. are more often prescribed. For insomnia,\\', \\'      some of the drugs we use are ignatia if sleep is due to sadness and worry;\\', \\'      arsenicum if it is due to multiple neuritis; zinc met if, as Talcott said,\\', \\'      \"When prolonged mental overwork and close confinement have produced a\\', \\'      state of forgetfulness; mental weakness, inability to apply the mind,\\', \\'      broken and unrefreshing sleep.\" Following is a average result:\\', \\'      \\', \\'\\', \\'      \\', \\' MANIC-DEPRESSIVE ADMISSIONS DURING YEAR\\', \\'      BEGINNING JULY 1, 1931,\\', \\'      \\', \\' AND ENDING JUNE 30 30, 1932\\', \\'      \\', \\' Ist Admission Readmission Total.\\', \\'      \\', \\' Duration of\\', \\'      \\', \\' Hosp Number Per cent Number Percent\\', \\'      Number Percent\\', \\'      \\', \\' Residence\\', \\'      \\', \\' Under 1 Year 25 60 22 55 47 57\\', \\'      \\', \\' Less than 1 mo 3 8 5 12 8 10\\', \\'      \\', \\' 1-2 mos 5 12 4 10 9 11\\', \\'      \\', \\' 2-3 mos 3 8 1 22 4 5\\', \\'      \\', \\' 3-4 mos 2 5 3 8 5 62\\', \\'      \\', \\' 4-5 mos 3 8 3 8 6 8\\', \\'      \\', \\' 5-6 mos 1 2 3 8 4 2\\', \\'      \\', \\' 6-8 mos 4 10 1 22 5 22\\', \\'      \\', \\' 8-12mos 4 10 2 5 6 72\\', \\'      \\', \\' 1-2 yrs 1 22 4 10 5 6\\', \\'      \\', \\' 2-3 yrs 6 14 4 10 10 12\\', \\'      \\', \\' Still here 7 16 9 23 16 19\\', \\'      \\', \\' DEaths 4 1 5 6.\\', \\'      \\', \\'\\', \\'      \\', \\' Heart.\\', \\'      \\', \\' trouble\\', \\'      \\', \\' H.B., Psychoneurosis, neurasthenic\\', \\'      type. Complained of pain, stiffness, gastric symptoms and enlarged\\', \\'      prostate, weakness, spermatorrhea. dizziness, mental debility, listless,\\', \\'      mental debility, listless mind, grief, despair. This picture seemed to fit\\', \\'      phosphoric acid, which was given together with massage and hot sitz baths.\\', \\'      He stated that the medicine had relieved his headaches and relieved his\\', \\'      headaches and other pains and that he felt more relaxed and slept better.\\', \\'      It probably acted similar to the message he received purely as a\\', \\'      psychologic measure.\\', \\'      \\', \\' Another patient M.S., female,\\', \\'      neurasthenic, asks the physician every once in a while for the drug\\', \\'      ignatia by name.\\', \\'      \\', \\' An encephalitic of a psychoneurotic\\', \\'      reaction type met the physician in the amusement hall and requested the\\', \\'      medicine that he had given him and which had cured him of his many somatic\\', \\'      pains.\\', \\'      \\', \\' In our deteriorating psychoses, we have\\', \\'      not with our prescribing arrested the progress of the disintegration nor\\', \\'      have we removed the predisposition which is fundamental in the recurrence\\', \\'      of cyclothenic attacks found in our effective psychosis. We must reply\\', \\'      entirely on other results have been practically nil. At Allentown State\\', \\'      Hospital stramonium has been tried in several few cases with perhaps a\\', \\'      slight initial effect, such as modifying the symptom of drooling, but\\', \\'      ultimately no results were obtained.\\', \\'      \\', \\' The following statistical correlations\\', \\'      are offered: During the year beginning July 1, 1932, and ending June 30,\\', \\'      1933, there were a total of thirty of thirty-nine patients diagnosed\\', \\'      manic-depressive psychosis, both first and readmissions.\\', \\'      \\', \\' Out of this number two died, giving a\\', \\'      mortality percentage of this group of 5 percent.\\', \\'      \\', \\' Four out of this group had a hospital\\', \\'      residence of less than one month about 10 per cent.\\', \\'      \\', \\' Thirteen had a residence of less than\\', \\'      two months, thirty-three per cent.\\', \\'      \\', \\' Twenty were here only four months about\\', \\'      532 per cent.\\', \\'      \\', \\' Twenty-nine had hospital residence of\\', \\'      less than one year, about 75 per cent.\\', \\'      \\', \\' Three were here over one year but less\\', \\'      than two years.\\', \\'      \\', \\' Total number recovered of that years\\', \\'      admission, thirty-two, with percentage of 82 per cent.\\', \\'      \\', \\' Five are still at the hospital, 13 per\\', \\'      cent.\\', \\'      \\', \\' Twenty-nine out of those who recovered\\', \\'      has a hospital residence of 90 per cent.\\', \\'      \\', \\' (Percentages are calculated on basis of\\', \\'      total admissions rather than recovered cases. The figures also include the\\', \\'      time spent in the hospital in brought back from parole.\\', \\'      \\', \\' In same year, July 1, 1932, to June 30,\\', \\'      1932:.\\', \\'      \\', \\' Total number of psychoneurotics\\', \\'      admitted were nineteen cases, both first and readmissions.\\', \\'      \\', \\' One died by hanging herself, 5 per\\', \\'      cent.\\', \\'      \\', \\' Two are still in the hospital.\\', \\'      \\', \\' Two of them are more dementia praecox\\', \\'      than psychoneurotics.\\', \\'      \\', \\' Five were here less than one month, 25\\', \\'      per cent.\\', \\'      \\', \\' Ten had residence less that two months,\\', \\'      52 per cent.\\', \\'      \\', \\' All of them, with exception of one who\\', \\'      died and three that are still here, and hospital residence of less than\\', \\'      one year, about 80 per cent. Recovered cases were fifteen out of the\\', \\'      nineteen, about 80 per cent. All recovered cases had hospital residence of\\', \\'      not more than one year., 100 per cent,.\\', \\'      \\', \\' Cases recovered were sixty-two out of\\', \\'      the eighty three admissions. Forty-seven out of the sixty-two or 76 per\\', \\'      cent had a hospital residence of less than one year.\\', \\'      \\', \\' Five out of eighty-three admissions\\', \\'      with diagnosis of manic-depressive died, giving a percentage of 6 per\\', \\'      cent.\\', \\'      \\', \\' (These figures are approximate. The\\', \\'      percentages are figures out of total admissions rather than number of\\', \\'      recovered cases.).\\', \\'      \\', \\' Psychoneurosis July 1, 1931, to June\\', \\'      30, 1932: Cases recovered were fifteen out of the nineteen admissions,\\', \\'      about 80 per cent. Twelve out of the fifteen had a hospital residence of\\', \\'      less than one year, 80 per cent, eight out of the fifteen (53 per cent)\\', \\'      being home in less than three months.\\', \\'      \\', \\' There was no mortality.\\', \\'      \\', \\' Summarizing, we have outlined a few of\\', \\'      the principles under-lying homoeopathic prescribing in mental diseases. WE\\', \\'      have briefly described some of our most common prescriptions with their\\', \\'      indications. A few clinical cases have been offered as illustrations. In\\', \\'      the main we have dealt with generalities, chiefly because of the\\', \\'      realization of the gigantic problem one would have to face in getting down\\', \\'      to absolute values and correlations.\\', \\'      \\', \\' Our conclusions are as follows:.\\', \\'      \\', \\' (1) The homoeopathic method operates\\', \\'      without injury to the organism. It is gentle, does not involve large does,\\', \\'      and tends to cover the disease in its totality.\\', \\'      \\', \\' (2) homoeopathic prescribing is a\\', \\'      valuable adjunct in treating of mental reactions.\\', \\'      \\', \\' (3) The presence of physical disease is\\', \\'      diligently searched in order to get a complete picture of the morbid state\\', \\'      to be constructed. Physical ailments and troubles arising in or associated\\', \\'      with our psychotics are immediately combated by homoeopathic and other\\', \\'      efficacious means with favorable results. This is turn improves mental\\', \\'      status of the patient.\\', \\'      \\', \\' (4) Psychoneurotics usually respond\\', \\'      well, due to the psychologic effect and perhaps, in isolated cases, as\\', \\'      result of the actual correlation of drug to the individual and his\\', \\'      reactions.\\', \\'      \\', \\' (5) Homoeopathy is beneficial in cases\\', \\'      with acute or chronic excitatory processes if the brain, either organic or\\', \\'      psychogenic, either as result of its \" innocuous\" effect in that\\', \\'      it removes the spectre of indiscriminate and injudicious use of sedatives\\', \\'      and hypnotics or in some cases there is a positive effect in combating the\\', \\'      process by stimulating the defense mechanism of the body, the production\\', \\'      of antigens,. In such cases the drug may be similar to the drug used by\\', \\'      other therapeutic approaches except in the matter of dosage.\\', \\'      \\', \\' (6) There may be cases of the\\', \\'      functional psychosis that may respond perhaps because it satisfied some\\', \\'      physical ailment, such as hyperthyroidism which accompanies the mental\\', \\'      state as an associated factor.\\', \\'      \\', \\' (7) Chronic deteriorating conditions,\\', \\'      either psychogenic or organic, have revealed no results.\\', \\'      \\', \\' PSYCHONEUROSIS ADMISSIONS FROM JULY 1,\\', \\'      1931, TO JUNE 30, 1932\\', \\'      \\', \\' Ist Admission Readmission Total\\', \\'      \\', \\' Duration of Disease\\', \\'      \\', \\' Number Percent Number Percent Number\\', \\'      Percent\\', \\'      \\', \\' Under 1 yr 9 50 3 16 12 67\\', \\'      \\', \\' Less than 1 mo 1 5+ 1 5+\\', \\'      \\', \\' 1-2 mos 3 16 1 5+ 4 22+\\', \\'      \\', \\' 2-3 mos 2 102 1 5+ 3 16\\', \\'      \\', \\' 3-44 mos 1 5+ 1 5+\\', \\'      \\', \\' 4-55 mos 1 1 5+ 1 5+\\', \\'      \\', \\' 4-5 mos 2 102 2 102\\', \\'      \\', \\' 6-12 mos 1 5+ 1 52\\', \\'      \\', \\' 1-2 yrs 2 102 2 102\\', \\'      \\', \\' 2-3 yrs 1 5+ 1 52\\', \\'      \\', \\' Here 3 16 1 5+ 4 22+ .\\']'"
      ]
     },
     "execution_count": 112,
     "metadata": {},
     "output_type": "execute_result"
    }
   ],
   "source": [
    "new_Homeo_list = []\n",
    "for i in range(len(Homeo_list)):\n",
    "    new_Homeo_list.append(str(Homeo_list[i].split('\\n')[1:]))\n",
    "new_Homeo_list[0]"
   ]
  },
  {
   "cell_type": "code",
   "execution_count": 113,
   "metadata": {
    "collapsed": false
   },
   "outputs": [
    {
     "data": {
      "text/plain": [
       "str"
      ]
     },
     "execution_count": 113,
     "metadata": {},
     "output_type": "execute_result"
    }
   ],
   "source": [
    "#new_Homeo_list[5][2]\n",
    "#stuff.split('\\n')[1:].decode(\"ascii\", \"ignore\")\n",
    "type(new_Homeo_list[0])"
   ]
  },
  {
   "cell_type": "code",
   "execution_count": 114,
   "metadata": {
    "collapsed": false
   },
   "outputs": [],
   "source": [
    "#Tokenize input articles by word and sentence\n",
    "Mayo_word_token = []\n",
    "Mayo_sent_token = []\n",
    "Homeo_word_token = []\n",
    "Homeo_sent_token = []\n",
    "\n",
    "for word in Mayo_list:\n",
    "    Mayo_word_token.append(word_tokenize(word))\n",
    "    Mayo_sent_token.append(sent_tokenize(word))\n",
    "for word in new_Homeo_list:\n",
    "    Homeo_word_token.append(word_tokenize(word))\n",
    "    Homeo_sent_token.append(sent_tokenize(word))"
   ]
  },
  {
   "cell_type": "code",
   "execution_count": 115,
   "metadata": {
    "collapsed": false
   },
   "outputs": [],
   "source": [
    "#Clean files and create labels\n",
    "all_articles = []\n",
    "all_labels = []\n",
    "for i in range(len(Homeo_word_token)):\n",
    "    Homeo_word_token[i]=str(Homeo_word_token[i]).replace(\"[\",\"\")\n",
    "    Homeo_word_token[i]=str(Homeo_word_token[i]).replace(\"]\",\"\")\n",
    "    all_articles.append(Homeo_word_token[i])\n",
    "    all_labels.append('Homeo')\n",
    "    Mayo_word_token[i]=str(Mayo_word_token[i]).replace(\"[\",\"\")\n",
    "    Mayo_word_token[i]=str(Mayo_word_token[i]).replace(\"]\",\"\")\n",
    "    all_articles.append(Mayo_word_token[i])\n",
    "    all_labels.append('Mayo')\n",
    "\n",
    "data = pd.DataFrame(columns=['Name','Text'])\n",
    "data.Name=all_labels\n",
    "data.Text=all_articles"
   ]
  },
  {
   "cell_type": "code",
   "execution_count": 116,
   "metadata": {
    "collapsed": true
   },
   "outputs": [
    {
     "data": {
      "text/html": [
       "<div>\n",
       "<table border=\"1\" class=\"dataframe\">\n",
       "  <thead>\n",
       "    <tr style=\"text-align: right;\">\n",
       "      <th></th>\n",
       "      <th>Name</th>\n",
       "      <th>Text</th>\n",
       "    </tr>\n",
       "  </thead>\n",
       "  <tbody>\n",
       "    <tr>\n",
       "      <th>0</th>\n",
       "      <td>Homeo</td>\n",
       "      <td>'', \"'\", '', 'Application', 'Of', 'Homoeopathi...</td>\n",
       "    </tr>\n",
       "    <tr>\n",
       "      <th>1</th>\n",
       "      <td>Mayo</td>\n",
       "      <td>'Lactobacillus', 'acidophilus', 'is', 'a', 'me...</td>\n",
       "    </tr>\n",
       "    <tr>\n",
       "      <th>2</th>\n",
       "      <td>Homeo</td>\n",
       "      <td>'', \"'Aspects\", 'Of', 'Diabetic', 'Case', '', ...</td>\n",
       "    </tr>\n",
       "    <tr>\n",
       "      <th>3</th>\n",
       "      <td>Mayo</td>\n",
       "      <td>'Clear', 'gel', 'from', 'the', 'aloe', 'leaves...</td>\n",
       "    </tr>\n",
       "    <tr>\n",
       "      <th>4</th>\n",
       "      <td>Homeo</td>\n",
       "      <td>'', \"'\", 'JOSEPH', 'H.FOBES', ',', 'M.D.', ','...</td>\n",
       "    </tr>\n",
       "    <tr>\n",
       "      <th>5</th>\n",
       "      <td>Mayo</td>\n",
       "      <td>'Creatine', 'is', 'normally', 'found', 'in', '...</td>\n",
       "    </tr>\n",
       "    <tr>\n",
       "      <th>6</th>\n",
       "      <td>Homeo</td>\n",
       "      <td>'', \"'HOMOEOPATHY\", '', 'Observations', 'On', ...</td>\n",
       "    </tr>\n",
       "    <tr>\n",
       "      <th>7</th>\n",
       "      <td>Mayo</td>\n",
       "      <td>'Dehydroepiandrosterone', '(', 'DHEA', ')', 'i...</td>\n",
       "    </tr>\n",
       "    <tr>\n",
       "      <th>8</th>\n",
       "      <td>Homeo</td>\n",
       "      <td>'', \"''\", ',', \"'\", 'THANKS', 'to', 'anesthesi...</td>\n",
       "    </tr>\n",
       "    <tr>\n",
       "      <th>9</th>\n",
       "      <td>Mayo</td>\n",
       "      <td>'Dong', 'quai', 'is', 'also', 'known', 'as', '...</td>\n",
       "    </tr>\n",
       "  </tbody>\n",
       "</table>\n",
       "</div>"
      ],
      "text/plain": [
       "    Name                                               Text\n",
       "0  Homeo  '', \"'\", '', 'Application', 'Of', 'Homoeopathi...\n",
       "1   Mayo  'Lactobacillus', 'acidophilus', 'is', 'a', 'me...\n",
       "2  Homeo  '', \"'Aspects\", 'Of', 'Diabetic', 'Case', '', ...\n",
       "3   Mayo  'Clear', 'gel', 'from', 'the', 'aloe', 'leaves...\n",
       "4  Homeo  '', \"'\", 'JOSEPH', 'H.FOBES', ',', 'M.D.', ','...\n",
       "5   Mayo  'Creatine', 'is', 'normally', 'found', 'in', '...\n",
       "6  Homeo  '', \"'HOMOEOPATHY\", '', 'Observations', 'On', ...\n",
       "7   Mayo  'Dehydroepiandrosterone', '(', 'DHEA', ')', 'i...\n",
       "8  Homeo  '', \"''\", ',', \"'\", 'THANKS', 'to', 'anesthesi...\n",
       "9   Mayo  'Dong', 'quai', 'is', 'also', 'known', 'as', '..."
      ]
     },
     "execution_count": 116,
     "metadata": {},
     "output_type": "execute_result"
    }
   ],
   "source": [
    "vectorizer = CountVectorizer()  #ngram_range=(1,2))\n",
    "vectorizer.fit(data.Text)\n",
    "x = vectorizer.transform(data.Text)\n",
    "data.head(10)"
   ]
  },
  {
   "cell_type": "code",
   "execution_count": 9,
   "metadata": {
    "collapsed": true
   },
   "outputs": [
    {
     "name": "stdout",
     "output_type": "stream",
     "text": [
      "  (0, 4)\t8\n",
      "  (0, 5)\t1\n",
      "  (0, 6)\t1\n",
      "  (0, 13)\t5\n",
      "  (0, 20)\t1\n",
      "  (0, 23)\t5\n",
      "  (0, 27)\t1\n",
      "  (0, 30)\t1\n",
      "  (0, 34)\t2\n",
      "  (0, 38)\t1\n",
      "  (0, 39)\t6\n",
      "  (0, 46)\t1\n",
      "  (0, 73)\t1\n",
      "  (0, 75)\t1\n",
      "  (0, 79)\t1\n",
      "  (0, 80)\t4\n",
      "  (0, 81)\t10\n",
      "  (0, 82)\t5\n",
      "  (0, 83)\t2\n",
      "  (0, 107)\t7\n",
      "  (0, 110)\t2\n",
      "  (0, 113)\t2\n",
      "  (0, 123)\t7\n",
      "  (0, 144)\t1\n",
      "  (0, 147)\t1\n",
      "  :\t:\n",
      "  (69, 7558)\t1\n",
      "  (69, 7664)\t1\n",
      "  (69, 7684)\t1\n",
      "  (69, 7825)\t1\n",
      "  (69, 7853)\t1\n",
      "  (69, 8347)\t1\n",
      "  (69, 8653)\t1\n",
      "  (69, 8658)\t1\n",
      "  (69, 8814)\t2\n",
      "  (69, 9113)\t1\n",
      "  (69, 9248)\t1\n",
      "  (69, 9259)\t1\n",
      "  (69, 9512)\t4\n",
      "  (69, 9532)\t1\n",
      "  (69, 9533)\t1\n",
      "  (69, 9652)\t3\n",
      "  (69, 9722)\t1\n",
      "  (69, 9772)\t2\n",
      "  (69, 9880)\t1\n",
      "  (69, 10072)\t1\n",
      "  (69, 10076)\t2\n",
      "  (69, 10077)\t1\n",
      "  (69, 10081)\t1\n",
      "  (69, 10092)\t3\n",
      "  (69, 10388)\t1\n"
     ]
    }
   ],
   "source": [
    "print x"
   ]
  },
  {
   "cell_type": "code",
   "execution_count": 219,
   "metadata": {
    "collapsed": false
   },
   "outputs": [],
   "source": [
    "y = data.Name\n",
    "x_train, x_test, y_train, y_test = train_test_split(x, y, test_size=0.25, random_state=0)\n",
    "#print x_train, x_test, y_train, y_test"
   ]
  },
  {
   "cell_type": "code",
   "execution_count": 220,
   "metadata": {
    "collapsed": false
   },
   "outputs": [
    {
     "name": "stdout",
     "output_type": "stream",
     "text": [
      "<class 'pandas.core.series.Series'>\n",
      "<class 'pandas.core.frame.DataFrame'>\n"
     ]
    }
   ],
   "source": [
    "print type(y_test)\n",
    "y_test = y_test.reset_index()\n",
    "print type(y_test)\n",
    "#y_test"
   ]
  },
  {
   "cell_type": "code",
   "execution_count": 141,
   "metadata": {
    "collapsed": false
   },
   "outputs": [
    {
     "name": "stdout",
     "output_type": "stream",
     "text": [
      "<type 'numpy.ndarray'>\n",
      "Homeo Homeo\n",
      "Homeo Mayo\n",
      "Homeo Homeo\n",
      "Homeo Homeo\n",
      "Homeo Homeo\n",
      "Mayo Mayo\n",
      "Mayo Mayo\n",
      "Mayo Mayo\n",
      "Homeo Homeo\n",
      "Mayo Mayo\n",
      "Homeo Homeo\n",
      "Homeo Homeo\n",
      "Mayo Mayo\n",
      "Homeo Homeo\n",
      "Mayo Mayo\n",
      "Mayo Mayo\n",
      "Homeo Homeo\n",
      "Homeo Homeo\n",
      "17 18\n",
      "Accuracy: 0.944444444444\n"
     ]
    }
   ],
   "source": [
    "model = MultinomialNB().fit(x_train, y_train)\n",
    "results = model.predict(x_test)\n",
    "print type(results)\n",
    "\n",
    "successes = 0\n",
    "for i in range(len(results)):\n",
    "    print results[i], y_test.Name[i]\n",
    "    if results[i] == y_test.Name[i]:\n",
    "        successes += 1\n",
    "print successes, i + 1\n",
    "print 'Accuracy: ' + str(float(successes) / (i + 1))"
   ]
  },
  {
   "cell_type": "code",
   "execution_count": 216,
   "metadata": {
    "collapsed": false
   },
   "outputs": [
    {
     "name": "stdout",
     "output_type": "stream",
     "text": [
      "<type 'numpy.ndarray'>\n",
      "<type 'numpy.ndarray'>\n",
      "Test 1:\n",
      "['Homeo' 'Mayo' 'Homeo' 'Mayo' 'Homeo']\n",
      "['Homeo' 'Mayo' 'Homeo' 'Mayo' 'Homeo']\n",
      "<type 'numpy.ndarray'>\n",
      "<type 'numpy.ndarray'>\n",
      "Test 2:\n",
      "['Mayo' 'Homeo' 'Mayo' 'Homeo' 'Mayo']\n",
      "['Mayo' 'Homeo' 'Mayo' 'Homeo' 'Mayo']\n",
      "<type 'numpy.ndarray'>\n",
      "<type 'numpy.ndarray'>\n",
      "Test 3:\n",
      "['Homeo' 'Mayo' 'Homeo' 'Mayo' 'Homeo']\n",
      "['Homeo' 'Mayo' 'Homeo' 'Mayo' 'Homeo']\n",
      "<type 'numpy.ndarray'>\n",
      "<type 'numpy.ndarray'>\n",
      "Test 4:\n",
      "['Mayo' 'Homeo' 'Mayo' 'Homeo' 'Mayo']\n",
      "['Mayo' 'Homeo' 'Mayo' 'Homeo' 'Mayo']\n",
      "<type 'numpy.ndarray'>\n",
      "<type 'numpy.ndarray'>\n",
      "Test 5:\n",
      "['Homeo' 'Mayo' 'Homeo' 'Mayo' 'Homeo']\n",
      "['Homeo' 'Mayo' 'Homeo' 'Mayo' 'Homeo']\n",
      "<type 'numpy.ndarray'>\n",
      "<type 'numpy.ndarray'>\n",
      "Test 6:\n",
      "['Mayo' 'Homeo' 'Homeo' 'Homeo' 'Mayo']\n",
      "['Mayo' 'Homeo' 'Mayo' 'Homeo' 'Mayo']\n",
      "<type 'numpy.ndarray'>\n",
      "<type 'numpy.ndarray'>\n",
      "Test 7:\n",
      "['Homeo' 'Mayo' 'Homeo' 'Mayo' 'Homeo']\n",
      "['Homeo' 'Mayo' 'Homeo' 'Mayo' 'Homeo']\n"
     ]
    }
   ],
   "source": [
    "#Cross Validation\n",
    "\n",
    "kf = KFold(35, n_folds=7)\n",
    "i = 1\n",
    "values = []\n",
    "for train_index, test_index in kf:\n",
    "    x_train, x_test = x[train_index], x[test_index]\n",
    "    y_train, y_test = y[train_index], y[test_index]\n",
    "    cross_model = MultinomialNB().fit(x_train, y_train)\n",
    "    results = model.predict(x_test)\n",
    "    print type(results)\n",
    "    y_test = np.array(y_test)\n",
    "    print type(y_test)\n",
    "    print 'Test ' + str(i) + ':'\n",
    "    print results\n",
    "    print y_test.transpose()\n",
    "    values.append(results == y_test)\n",
    "    i += 1"
   ]
  },
  {
   "cell_type": "code",
   "execution_count": 217,
   "metadata": {
    "collapsed": false
   },
   "outputs": [
    {
     "name": "stdout",
     "output_type": "stream",
     "text": [
      "Test 1: 1.0\n",
      "Test 2: 1.0\n",
      "Test 3: 1.0\n",
      "Test 4: 1.0\n",
      "Test 5: 1.0\n",
      "Test 6: 0.8\n",
      "Test 7: 1.0\n"
     ]
    }
   ],
   "source": [
    "i = 0\n",
    "total_successes = []\n",
    "while i < len(values):\n",
    "    successes = 0\n",
    "    for k in values[i]:\n",
    "        if k == True:\n",
    "            successes += 1\n",
    "    total_successes.append(float(successes) / len(values[i]))\n",
    "    print 'Test ' + str(i + 1) + ': ' + str(total_successes[i])\n",
    "    i += 1\n",
    "#values[5]"
   ]
  },
  {
   "cell_type": "code",
   "execution_count": 218,
   "metadata": {
    "collapsed": false
   },
   "outputs": [
    {
     "data": {
      "text/plain": [
       "0.9714285714285714"
      ]
     },
     "execution_count": 218,
     "metadata": {},
     "output_type": "execute_result"
    }
   ],
   "source": [
    "sum(total_successes) / len(total_successes)"
   ]
  }
 ],
 "metadata": {
  "kernelspec": {
   "display_name": "Python 2",
   "language": "python",
   "name": "python2"
  },
  "language_info": {
   "codemirror_mode": {
    "name": "ipython",
    "version": 2
   },
   "file_extension": ".py",
   "mimetype": "text/x-python",
   "name": "python",
   "nbconvert_exporter": "python",
   "pygments_lexer": "ipython2",
   "version": "2.7.10"
  }
 },
 "nbformat": 4,
 "nbformat_minor": 0
}
